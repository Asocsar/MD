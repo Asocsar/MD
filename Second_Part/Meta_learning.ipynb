{
 "cells": [
  {
   "cell_type": "code",
   "execution_count": null,
   "metadata": {},
   "outputs": [],
   "source": [
    "from sklearn.tree import DecisionTreeClassifier as DTC\n",
    "from sklearn.ensemble import BaggingClassifier, RandomForestClassifier, StackingClassifier\n",
    "from sklearn.preprocessing import LabelEncoder as LB\n",
    "import pandas as pd\n",
    "from sklearn.metrics import accuracy_score\n",
    "from sklearn.model_selection import KFold, cross_val_score, train_test_split\n",
    "import numpy as np"
   ]
  },
  {
   "cell_type": "code",
   "execution_count": null,
   "metadata": {},
   "outputs": [],
   "source": [
    "df = pd.read_csv('games_clean.csv')\n",
    "df"
   ]
  },
  {
   "cell_type": "code",
   "execution_count": null,
   "metadata": {},
   "outputs": [],
   "source": [
    "#for name in df.columns:\n",
    "#    if df[name].isna().sum() > 0:\n",
    "#        df[name].fillna(df[name].mean(), inplace=True)"
   ]
  },
  {
   "cell_type": "code",
   "execution_count": null,
   "metadata": {},
   "outputs": [],
   "source": [
    "\n",
    "df.drop(['RatingsBreakdown-Recommended', 'RatingsBreakdown-Meh', 'RatingsBreakdown-Exceptional', 'RatingsBreakdown-Skip', 'Presence'], inplace=True, axis=1)\n",
    "\n",
    "LE = LB()\n",
    "class_names = df['Metacritic'].unique()\n",
    "\n",
    "df.loc[:, 'Metacritic'] = LE.fit_transform(df['Metacritic'])\n",
    "\n",
    "X = df.loc[:, df.columns != 'Metacritic']\n",
    "Y = df['Metacritic']\n",
    "\n",
    "\n",
    "X_train, X_test, y_train, y_test = train_test_split(X, Y, test_size=0.3, shuffle=False)"
   ]
  },
  {
   "cell_type": "code",
   "execution_count": null,
   "metadata": {},
   "outputs": [],
   "source": [
    "####### Bagging classifier\n",
    "bestNumEstimator = 0\n",
    "valuescore = 0\n",
    "for i in range(10,30):\n",
    "    cv = KFold(n_splits=49, shuffle=False)\n",
    "    clf = BaggingClassifier(base_estimator=DTC(max_depth=13, criterion='entropy'), \n",
    "                            n_estimators=i, random_state=0)\n",
    "    cv_scores = cross_val_score(clf, X=X,y=Y, cv=cv, scoring='accuracy')  \n",
    "    meannp = np.mean(cv_scores)\n",
    "    if valuescore < meannp:\n",
    "        valuescore = meannp\n",
    "        bestNumEstimator = i\n",
    "print('Score of bagging decision tree with 49-fold cross-val. is: ', meannp, \n",
    "      ' with a num. of estimators of ', bestNumEstimator)"
   ]
  },
  {
   "cell_type": "code",
   "execution_count": null,
   "metadata": {
    "tags": []
   },
   "outputs": [],
   "source": [
    "####### Random Forest classifier\n",
    "\n",
    "### K fold cross-val\n",
    "cv = KFold(n_splits=49, shuffle=False)\n",
    "clf = RandomForestClassifier(n_estimators = 100, max_depth=13, criterion='entropy')\n",
    "cv_scores = cross_val_score(clf, X=X,y=Y, cv=cv, scoring='accuracy')  \n",
    "meannp = np.mean(cv_scores)\n",
    "print('Score of RFC with 49-fold cross-val. and max_depth of 13 is: ', meannp)\n",
    "\n",
    "### cross-val 70/30\n",
    "clffited = clf.fit(X_train, y_train)\n",
    "scoreCV = accuracy_score(clffited.predict(X_test), y_test)\n",
    "print('Score of RFC with cross-val 70/30 and max_depth of 13 is: ', scoreCV)\n",
    "\n",
    "\n",
    "# now we know that 49-fold cross-val is better, we try different num. of estimators to try to improve it\n",
    "bestnumest = 0\n",
    "bestestim = 0\n",
    "for i in range(85,115): # it will take a while...\n",
    "    clf = RandomForestClassifier(n_estimators = i, max_depth=13, criterion='entropy')\n",
    "    cv_scores = cross_val_score(clf, X=X,y=Y, cv=cv, scoring='accuracy')\n",
    "    meannp = np.mean(cv_scores)\n",
    "    if bestestim < meannp:\n",
    "        bestestim = meannp\n",
    "        bestnumest = i\n",
    "\n",
    "print('Best num of estimators is: ', bestnumest, ' with an score of ', bestestim)"
   ]
  },
  {
   "cell_type": "code",
   "execution_count": null,
   "metadata": {},
   "outputs": [],
   "source": [
    "####### Stacking classifier\n",
    "\n",
    "estimators = [('rfc', BaggingClassifier(base_estimator=DTC(max_depth=13, criterion='entropy'), \n",
    "                            n_estimators=25, random_state=0)),\n",
    "            ('bc', RandomForestClassifier(n_estimators = 105, max_depth=13, criterion='entropy'))]\n",
    "\n",
    "clf = StackingClassifier(estimators=estimators)\n",
    "clffited = clf.fit(X_train, y_train)\n",
    "scoreCV = accuracy_score(clffited.predict(X_test), y_test)\n",
    "print('Score of Stacking with cross-val 70/30 and max_depth of 13 is: ', scoreCV)\n"
   ]
  }
 ],
 "metadata": {
  "kernelspec": {
   "display_name": "Python 3",
   "language": "python",
   "name": "python3"
  },
  "language_info": {
   "codemirror_mode": {
    "name": "ipython",
    "version": 3
   },
   "file_extension": ".py",
   "mimetype": "text/x-python",
   "name": "python",
   "nbconvert_exporter": "python",
   "pygments_lexer": "ipython3",
   "version": "3.8.5"
  }
 },
 "nbformat": 4,
 "nbformat_minor": 2
}
