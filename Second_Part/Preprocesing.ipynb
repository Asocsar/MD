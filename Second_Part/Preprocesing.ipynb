{
 "cells": [
  {
   "cell_type": "code",
   "execution_count": null,
   "metadata": {},
   "outputs": [],
   "source": [
    "import pandas as pd\n",
    "import re\n",
    "from sklearn.utils import shuffle\n",
    "import random as rand\n",
    "import numpy as np\n",
    "import math"
   ]
  },
  {
   "cell_type": "code",
   "execution_count": null,
   "metadata": {},
   "outputs": [],
   "source": [
    "random = 24"
   ]
  },
  {
   "cell_type": "code",
   "execution_count": null,
   "metadata": {},
   "outputs": [],
   "source": [
    "data = pd.read_csv('games.csv')\n",
    "random = 24\n",
    "data = data[[\"Metacritic\", \"Indie\", \"Presence\", \"Platform\", \n",
    "             \"Memory\", \"RatingsBreakdown\", \"ReleaseDate\", \"Soundtrack\", \n",
    "             \"OriginalCost\", \"DiscountedCost\", \"Controller\",\n",
    "             \"Achievements\", \"Languages\", \"Storage\", \"Tags\"]]"
   ]
  },
  {
   "cell_type": "code",
   "execution_count": null,
   "metadata": {},
   "outputs": [],
   "source": [
    "data.describe(include= 'all')"
   ]
  },
  {
   "cell_type": "code",
   "execution_count": null,
   "metadata": {},
   "outputs": [],
   "source": [
    "for name in data.columns:\n",
    "    lis = data[name].unique()\n",
    "    print('\\033[1m'+name+'\\033[0;0m')\n",
    "    print(lis)"
   ]
  },
  {
   "cell_type": "code",
   "execution_count": null,
   "metadata": {},
   "outputs": [],
   "source": [
    "actions = {k:[] for k in data.columns}\n",
    "actions['Indie'].append(lambda x: x == 1.0) \n",
    "actions['Controller'].append(lambda x: x == 1.0) \n",
    "actions['Soundtrack'].append(lambda x: x == 1.0)\n",
    "actions['ReleaseDate'].append(lambda x: int(x.split('-')[0]))\n",
    "\n",
    "def replace_MB(x):\n",
    "    x = str(x).lower()\n",
    "    first = re.search(r\"\\d\", x)\n",
    "    if (first == None):\n",
    "        return None\n",
    "    first = first.start()\n",
    "    i = first+1\n",
    "    while(i<len(x) and (x[i].isdigit() or x[i] == '.')):\n",
    "        i = i+1\n",
    "    last = i\n",
    "    while(i<len(x) and x[i:i+2] != \"gb\" and x[i:i+2] != \"mb\"):\n",
    "        i = i+1\n",
    "    if (i == len(x) or x[i:i+2] == \"gb\"):\n",
    "        return(float(x[first:last])*1000)\n",
    "    return(float(x[first:last]))\n",
    "\n",
    "\n",
    "def clean_originalCost(x):\n",
    "    x = str(x).replace('$', '')\n",
    "    try:\n",
    "        number = float(x)\n",
    "        return number\n",
    "    except:\n",
    "        return 0\n",
    "\n",
    "def Metacritic_to_Range(x):\n",
    "    if x > 75:\n",
    "        return \"Very good\"\n",
    "    \n",
    "    elif x > 50 and x <= 75:\n",
    "        return \"Good\"\n",
    "    \n",
    "    elif x > 25 and x <= 50:\n",
    "        return \"Bad\"\n",
    "    \n",
    "    else:\n",
    "        return \"Very bad\"\n",
    "        \n",
    "    \n",
    "\n",
    "actions['Metacritic'].append(Metacritic_to_Range)\n",
    "actions['OriginalCost'].append(lambda x: clean_originalCost(x))\n",
    "actions['OriginalCost'].append(lambda x: float(str(x).replace('$', '')))\n",
    "actions['DiscountedCost'].append(lambda x: float(str(x).replace('$', '')))\n",
    "actions['Storage'].append(lambda x: replace_MB(x))\n",
    "actions['Memory'].append(lambda x: replace_MB(x))\n",
    "\n",
    "for name in actions:\n",
    "    for action in actions[name]:\n",
    "        data.loc[:,name] = data[data[name].notna()][name].apply(action)\n",
    "\n",
    "data['DiscountedCost'] = data['DiscountedCost'].fillna(0)\n",
    "data"
   ]
  },
  {
   "cell_type": "code",
   "execution_count": null,
   "metadata": {},
   "outputs": [],
   "source": [
    "platform = pd.Series(data['Platform']).str.get_dummies(', ')\n",
    "platform.columns\n",
    "data['Platform-Mobile'] = platform[['Android','iOS']].sum(axis = 1).apply(lambda x: x > 0) \n",
    "data['Platform-PC'] = platform[['Apple II','Atari ST', 'Classic Macintosh', 'Commodore / Amiga',  'Linux', 'PC', 'Web', 'macOS']].sum(axis = 1).apply(lambda x: x > 0)  \n",
    "data['Platform-Xbox'] = platform[['Xbox', 'Xbox 360', 'Xbox One']].sum(axis = 1).apply(lambda x: x > 0)  \n",
    "data['Platform-PlayStation'] = platform[['PS Vita', 'PSP', 'PlayStation', 'PlayStation 2', 'PlayStation 3', 'PlayStation 4']].sum(axis = 1).apply(lambda x: x > 0)  \n",
    "data['Platform-Nintendo'] = platform[['Game Boy', 'GameCube', 'Nintendo 3DS', 'Nintendo DS', 'Nintendo Switch', 'Wii', 'Wii U']].sum(axis = 1).apply(lambda x: x > 0) \n",
    "data['Platform-Sega'] = platform[['Dreamcast','Game Gear','Genesis','SEGA Master System', 'SEGA Saturn']].sum(axis = 1).apply(lambda x: x > 0) \n",
    "data"
   ]
  },
  {
   "cell_type": "code",
   "execution_count": null,
   "metadata": {},
   "outputs": [],
   "source": [
    "def RatingsBreakdown(x):\n",
    "    x = x.split(', ')\n",
    "    result = [np.nan, np.nan, np.nan, np.nan]\n",
    "    for i in x:\n",
    "        if i.split(' ')[0] == 'recommended:':\n",
    "            result[0] = float(i.split(' ')[1])\n",
    "        elif i.split(' ')[0] == 'meh:':\n",
    "            result[1] = float(i.split(' ')[1])\n",
    "        elif i.split(' ')[0] == 'exceptional:':\n",
    "            result[2] = float(i.split(' ')[1])\n",
    "        elif i.split(' ')[0] == 'skip:':\n",
    "            result[3] = float(i.split(' ')[1])\n",
    "    return result  \n",
    "        \n",
    "df_aux = pd.DataFrame(data[data['RatingsBreakdown'].notna()]['RatingsBreakdown'].apply(lambda x: RatingsBreakdown(x)))\n",
    "df_aux = pd.DataFrame(df_aux.RatingsBreakdown.values.tolist(),index = data[data['RatingsBreakdown'].notna()]['RatingsBreakdown'].index, columns=['RatingsBreakdown-Recommended','RatingsBreakdown-Meh','RatingsBreakdown-Exceptional','RatingsBreakdown-Skip'])\n",
    "data = data.join(df_aux)\n",
    "data"
   ]
  },
  {
   "cell_type": "code",
   "execution_count": null,
   "metadata": {},
   "outputs": [],
   "source": [
    "Tags = pd.Series(data['Tags']).str.get_dummies(', ').apply(lambda x: x > 0)\n",
    "del Tags['Indie']\n",
    "del Tags['Soundtrack']\n",
    "del Tags['Controller']\n",
    "Languages = pd.Series(data['Languages']).str.get_dummies(', ').apply(lambda x: x > 0)\n",
    "\n",
    "\n",
    "data = data.join(Tags)\n",
    "data = data.join(Languages)"
   ]
  },
  {
   "cell_type": "code",
   "execution_count": null,
   "metadata": {},
   "outputs": [],
   "source": [
    "del data['RatingsBreakdown']\n",
    "del data['Platform']\n",
    "del data['Tags']\n",
    "del data['Languages']"
   ]
  },
  {
   "cell_type": "code",
   "execution_count": null,
   "metadata": {},
   "outputs": [],
   "source": [
    "for name in data.columns:\n",
    "    print(name, data[name].isna().sum()/2000)"
   ]
  },
  {
   "cell_type": "code",
   "execution_count": null,
   "metadata": {},
   "outputs": [],
   "source": [
    "rand.seed(random)\n",
    "data = data.dropna(subset=['Metacritic'], axis='index')\n",
    "x = [y for y in range(len(data))]\n",
    "x = rand.sample(x, 2200)\n",
    "data = data.iloc[x]\n",
    "data"
   ]
  },
  {
   "cell_type": "code",
   "execution_count": null,
   "metadata": {},
   "outputs": [],
   "source": [
    "for col in data.columns:\n",
    "    if len(data[col].unique()) == 1:\n",
    "        data.drop(col,inplace=True,axis=1)"
   ]
  },
  {
   "cell_type": "code",
   "execution_count": null,
   "metadata": {
    "tags": [
     "outputPrepend"
    ]
   },
   "outputs": [],
   "source": [
    "for name in data.columns:\n",
    "    lis = data[name].unique()\n",
    "    print('\\033[1m'+name+'\\033[0;0m')\n",
    "    print(lis)"
   ]
  },
  {
   "cell_type": "code",
   "execution_count": null,
   "metadata": {},
   "outputs": [],
   "source": [
    "from scipy import stats"
   ]
  },
  {
   "cell_type": "code",
   "execution_count": null,
   "metadata": {},
   "outputs": [],
   "source": [
    "col =['Presence', 'Memory', 'ReleaseDate', 'Achievements', 'Storage']\n",
    "out = None\n",
    "for name in col:\n",
    "    data = data[~(data[name] - data[name].mean() > 3*data[name].std())]"
   ]
  },
  {
   "cell_type": "code",
   "execution_count": null,
   "metadata": {},
   "outputs": [],
   "source": [
    "data"
   ]
  },
  {
   "cell_type": "code",
   "execution_count": null,
   "metadata": {},
   "outputs": [],
   "source": [
    "data.to_csv('games_clean.csv', index=False)"
   ]
  }
 ],
 "metadata": {
  "kernelspec": {
   "display_name": "Python 3",
   "language": "python",
   "name": "python3"
  },
  "language_info": {
   "codemirror_mode": {
    "name": "ipython",
    "version": 3
   },
   "file_extension": ".py",
   "mimetype": "text/x-python",
   "name": "python",
   "nbconvert_exporter": "python",
   "pygments_lexer": "ipython3",
   "version": "3.8.3"
  }
 },
 "nbformat": 4,
 "nbformat_minor": 4
}
