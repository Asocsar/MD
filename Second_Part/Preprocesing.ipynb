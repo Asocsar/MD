{
 "cells": [
  {
   "cell_type": "code",
   "execution_count": 166,
   "metadata": {},
   "outputs": [],
   "source": [
    "import pandas as pd\n",
    "import re\n",
    "from sklearn.utils import shuffle\n",
    "import random as rand\n",
    "import numpy as np\n",
    "import math"
   ]
  },
  {
   "cell_type": "code",
   "execution_count": 167,
   "metadata": {},
   "outputs": [],
   "source": [
    "random = 24"
   ]
  },
  {
   "cell_type": "code",
   "execution_count": 168,
   "metadata": {},
   "outputs": [],
   "source": [
    "data = pd.read_csv('games.csv')\n",
    "random = 24\n",
    "data = data[[\"Metacritic\", \"Indie\", \"Presence\", \"Platform\", \n",
    "             \"Memory\", \"RatingsBreakdown\", \"ReleaseDate\", \"Soundtrack\", \n",
    "             \"OriginalCost\", \"DiscountedCost\", \"Controller\",\n",
    "             \"Achievements\", \"Languages\", \"Storage\", \"Tags\"]]"
   ]
  },
  {
   "cell_type": "code",
   "execution_count": 169,
   "metadata": {},
   "outputs": [
    {
     "output_type": "execute_result",
     "data": {
      "text/plain": [
       "         Metacritic         Indie      Presence Platform    Memory  \\\n",
       "count   3356.000000  30045.000000  3.015600e+04    30123     28316   \n",
       "unique          NaN           NaN           NaN     2041       699   \n",
       "top             NaN           NaN           NaN       PC  2 GB RAM   \n",
       "freq            NaN           NaN           NaN    15720      6487   \n",
       "mean      72.924911      0.740722  8.822923e+04      NaN       NaN   \n",
       "std       10.805296      0.438246  2.447597e+05      NaN       NaN   \n",
       "min       20.000000      0.000000  0.000000e+00      NaN       NaN   \n",
       "25%       67.000000      0.000000  1.890000e+02      NaN       NaN   \n",
       "50%       74.000000      1.000000  3.380000e+02      NaN       NaN   \n",
       "75%       80.000000      1.000000  4.981500e+03      NaN       NaN   \n",
       "max       97.000000      1.000000  1.009588e+06      NaN       NaN   \n",
       "\n",
       "       RatingsBreakdown ReleaseDate    Soundtrack OriginalCost DiscountedCost  \\\n",
       "count             15044       27024  30045.000000        29504            727   \n",
       "unique             4806        4133           NaN          396            121   \n",
       "top              meh: 1  2018-08-22           NaN        $9.99          $0.49   \n",
       "freq                910         238           NaN         4144            260   \n",
       "mean                NaN         NaN      0.004760          NaN            NaN   \n",
       "std                 NaN         NaN      0.068826          NaN            NaN   \n",
       "min                 NaN         NaN      0.000000          NaN            NaN   \n",
       "25%                 NaN         NaN      0.000000          NaN            NaN   \n",
       "50%                 NaN         NaN      0.000000          NaN            NaN   \n",
       "75%                 NaN         NaN      0.000000          NaN            NaN   \n",
       "max                 NaN         NaN      1.000000          NaN            NaN   \n",
       "\n",
       "          Controller  Achievements Languages               Storage  \\\n",
       "count   29976.000000  30156.000000     30027                 27491   \n",
       "unique           NaN           NaN      3196                  2067   \n",
       "top              NaN           NaN   English  1 GB available space   \n",
       "freq             NaN           NaN     17133                  2303   \n",
       "mean        0.457666     41.047984       NaN                   NaN   \n",
       "std         0.498213    316.231316       NaN                   NaN   \n",
       "min         0.000000      0.000000       NaN                   NaN   \n",
       "25%         0.000000      0.000000       NaN                   NaN   \n",
       "50%         0.000000      0.000000       NaN                   NaN   \n",
       "75%         1.000000     21.000000       NaN                   NaN   \n",
       "max         1.000000  10979.000000       NaN                   NaN   \n",
       "\n",
       "                                    Tags  \n",
       "count                              30045  \n",
       "unique                             24866  \n",
       "top     Adventure, Casual, Hidden Object  \n",
       "freq                                 258  \n",
       "mean                                 NaN  \n",
       "std                                  NaN  \n",
       "min                                  NaN  \n",
       "25%                                  NaN  \n",
       "50%                                  NaN  \n",
       "75%                                  NaN  \n",
       "max                                  NaN  "
      ],
      "text/html": "<div>\n<style scoped>\n    .dataframe tbody tr th:only-of-type {\n        vertical-align: middle;\n    }\n\n    .dataframe tbody tr th {\n        vertical-align: top;\n    }\n\n    .dataframe thead th {\n        text-align: right;\n    }\n</style>\n<table border=\"1\" class=\"dataframe\">\n  <thead>\n    <tr style=\"text-align: right;\">\n      <th></th>\n      <th>Metacritic</th>\n      <th>Indie</th>\n      <th>Presence</th>\n      <th>Platform</th>\n      <th>Memory</th>\n      <th>RatingsBreakdown</th>\n      <th>ReleaseDate</th>\n      <th>Soundtrack</th>\n      <th>OriginalCost</th>\n      <th>DiscountedCost</th>\n      <th>Controller</th>\n      <th>Achievements</th>\n      <th>Languages</th>\n      <th>Storage</th>\n      <th>Tags</th>\n    </tr>\n  </thead>\n  <tbody>\n    <tr>\n      <th>count</th>\n      <td>3356.000000</td>\n      <td>30045.000000</td>\n      <td>3.015600e+04</td>\n      <td>30123</td>\n      <td>28316</td>\n      <td>15044</td>\n      <td>27024</td>\n      <td>30045.000000</td>\n      <td>29504</td>\n      <td>727</td>\n      <td>29976.000000</td>\n      <td>30156.000000</td>\n      <td>30027</td>\n      <td>27491</td>\n      <td>30045</td>\n    </tr>\n    <tr>\n      <th>unique</th>\n      <td>NaN</td>\n      <td>NaN</td>\n      <td>NaN</td>\n      <td>2041</td>\n      <td>699</td>\n      <td>4806</td>\n      <td>4133</td>\n      <td>NaN</td>\n      <td>396</td>\n      <td>121</td>\n      <td>NaN</td>\n      <td>NaN</td>\n      <td>3196</td>\n      <td>2067</td>\n      <td>24866</td>\n    </tr>\n    <tr>\n      <th>top</th>\n      <td>NaN</td>\n      <td>NaN</td>\n      <td>NaN</td>\n      <td>PC</td>\n      <td>2 GB RAM</td>\n      <td>meh: 1</td>\n      <td>2018-08-22</td>\n      <td>NaN</td>\n      <td>$9.99</td>\n      <td>$0.49</td>\n      <td>NaN</td>\n      <td>NaN</td>\n      <td>English</td>\n      <td>1 GB available space</td>\n      <td>Adventure, Casual, Hidden Object</td>\n    </tr>\n    <tr>\n      <th>freq</th>\n      <td>NaN</td>\n      <td>NaN</td>\n      <td>NaN</td>\n      <td>15720</td>\n      <td>6487</td>\n      <td>910</td>\n      <td>238</td>\n      <td>NaN</td>\n      <td>4144</td>\n      <td>260</td>\n      <td>NaN</td>\n      <td>NaN</td>\n      <td>17133</td>\n      <td>2303</td>\n      <td>258</td>\n    </tr>\n    <tr>\n      <th>mean</th>\n      <td>72.924911</td>\n      <td>0.740722</td>\n      <td>8.822923e+04</td>\n      <td>NaN</td>\n      <td>NaN</td>\n      <td>NaN</td>\n      <td>NaN</td>\n      <td>0.004760</td>\n      <td>NaN</td>\n      <td>NaN</td>\n      <td>0.457666</td>\n      <td>41.047984</td>\n      <td>NaN</td>\n      <td>NaN</td>\n      <td>NaN</td>\n    </tr>\n    <tr>\n      <th>std</th>\n      <td>10.805296</td>\n      <td>0.438246</td>\n      <td>2.447597e+05</td>\n      <td>NaN</td>\n      <td>NaN</td>\n      <td>NaN</td>\n      <td>NaN</td>\n      <td>0.068826</td>\n      <td>NaN</td>\n      <td>NaN</td>\n      <td>0.498213</td>\n      <td>316.231316</td>\n      <td>NaN</td>\n      <td>NaN</td>\n      <td>NaN</td>\n    </tr>\n    <tr>\n      <th>min</th>\n      <td>20.000000</td>\n      <td>0.000000</td>\n      <td>0.000000e+00</td>\n      <td>NaN</td>\n      <td>NaN</td>\n      <td>NaN</td>\n      <td>NaN</td>\n      <td>0.000000</td>\n      <td>NaN</td>\n      <td>NaN</td>\n      <td>0.000000</td>\n      <td>0.000000</td>\n      <td>NaN</td>\n      <td>NaN</td>\n      <td>NaN</td>\n    </tr>\n    <tr>\n      <th>25%</th>\n      <td>67.000000</td>\n      <td>0.000000</td>\n      <td>1.890000e+02</td>\n      <td>NaN</td>\n      <td>NaN</td>\n      <td>NaN</td>\n      <td>NaN</td>\n      <td>0.000000</td>\n      <td>NaN</td>\n      <td>NaN</td>\n      <td>0.000000</td>\n      <td>0.000000</td>\n      <td>NaN</td>\n      <td>NaN</td>\n      <td>NaN</td>\n    </tr>\n    <tr>\n      <th>50%</th>\n      <td>74.000000</td>\n      <td>1.000000</td>\n      <td>3.380000e+02</td>\n      <td>NaN</td>\n      <td>NaN</td>\n      <td>NaN</td>\n      <td>NaN</td>\n      <td>0.000000</td>\n      <td>NaN</td>\n      <td>NaN</td>\n      <td>0.000000</td>\n      <td>0.000000</td>\n      <td>NaN</td>\n      <td>NaN</td>\n      <td>NaN</td>\n    </tr>\n    <tr>\n      <th>75%</th>\n      <td>80.000000</td>\n      <td>1.000000</td>\n      <td>4.981500e+03</td>\n      <td>NaN</td>\n      <td>NaN</td>\n      <td>NaN</td>\n      <td>NaN</td>\n      <td>0.000000</td>\n      <td>NaN</td>\n      <td>NaN</td>\n      <td>1.000000</td>\n      <td>21.000000</td>\n      <td>NaN</td>\n      <td>NaN</td>\n      <td>NaN</td>\n    </tr>\n    <tr>\n      <th>max</th>\n      <td>97.000000</td>\n      <td>1.000000</td>\n      <td>1.009588e+06</td>\n      <td>NaN</td>\n      <td>NaN</td>\n      <td>NaN</td>\n      <td>NaN</td>\n      <td>1.000000</td>\n      <td>NaN</td>\n      <td>NaN</td>\n      <td>1.000000</td>\n      <td>10979.000000</td>\n      <td>NaN</td>\n      <td>NaN</td>\n      <td>NaN</td>\n    </tr>\n  </tbody>\n</table>\n</div>"
     },
     "metadata": {},
     "execution_count": 169
    }
   ],
   "source": [
    "data.describe(include= 'all')"
   ]
  },
  {
   "cell_type": "code",
   "execution_count": 170,
   "metadata": {
    "tags": [
     "outputPrepend"
    ]
   },
   "outputs": [
    {
     "output_type": "stream",
     "name": "stdout",
     "text": [
      "m RAM                      ' '1 GB RAM GB RAM'\n '2 GB MB RAM' '00 MB RAM' '1200 MB RAM' '270 MB ' '8 GB MB RAM'\n '512 MB of RAM or more ' '512 MB MB RAM' '120 MB RAM'\n '2GB                       '\n '512 MB of RAM for Windows(R) XP or 1 GB of RAM for Windows Vista(TM) '\n '512 Mb                     ' '500MB RAM ' '1024 MB '\n 'WinXP - 1Gbyte RAM' '1 GB (2GB for Vista or Windows 7) '\n '256 MB RAM 512 MB RAM recommended) ' '512 MB ОЗУ MB RAM'\n '512MB (Vista 1GB)\\t'\n '128Mb or more free system memory                     '\n '128 MB (256 MB on 2000/NT/XP) ' '512 МB RAM '\n '1 GB (2 GB recommended for Windows Vista and Windows 7) ' '17 MB RAM'\n '1GB System Memory ' 'Windows XP：1GB' '6094 MB RAM' '965 MB RAM'\n '1024 MB RAM ' '512 RAM ' '768 Mb MB RAM' '512m'\n '1 Gb RAM (2 Gb or greater recommended) ' '4 GB MB RAM' '64MB minimum '\n '2Gb VRAM MB RAM' '64 MB RAM (128 MB Recommended) '\n '2 GB of available system memory' '1GB RAM\\t   \\t ' '512 MB minimum'\n '128MB or higher' '512MB of System RA'\n '1 GB (1.5 GB Vista and Windows 7) ' '170 MB RA'\n '1024 Mb (2048 Mb for Windows Vista) ' '130 MB MB RAM' '40 MB '\n '248 MB RAM' '168 MB RAM' '512MB                     '\n '512 MB of available system memory ' '180 MB RAM'\n '512MB RAM; Vista users require 1GB of RAM to play the game '\n '128 MB RAM; 256 MB for XP (256 MB; 384 MB for XP recommended) '\n '16 Mb of RAM '\n '512 MB RAM. 1GB MB RAM required for Vista                      '\n '520 MB RAM' '8GB RAM GB RAM' '2 GB of System RAM  '\n '1 GB for Windows XP or 2 GB for Windows Vista '\n '1 GB RAM (2 GB recommended) ' '2048 MB RAM MB RAM' '2GB or better '\n '5000 MB RAM' '228 MB RAM' '64 MB                     '\n '32 MB RAM                         '\n '1GB of RAM (2GB or more recommended for XP' '2GB  ' '1 GB' '512 Mb RAM '\n '1Gb RAM' '2 GB Ra' '256 MB                     ' '2GB RAM   '\n '512 GB RAM' '512 MB   ' '384 MB RAM' '1GB System RAM for Win XP'\n '16Mb RAM                         ' '512 MB (768 Mb for Windows Vista) '\n '2Gb (Vista requires 3Gb) ' '256 MB RAM (Recommende' '512mb of RAM '\n '514 MB RAM' '256MB RAM                      ' '512 Mb RAM  '\n '512 Mb                         ' '56 MB RAM' '2GB+ MB RAM' '65 MB RAM'\n '1 GB (1.5 GB Vista and Windows 7)' '32 GB RAM' '512MB memory'\n '1 GB (2 GB for Multiplayer) '\n '512MB of RAM (1GB of RAM recommended for netbooks); MB RAM'\n '512 MB RAM (1 GB for Vista)' '4GB GB RAM' '666 MB RAM' '512 MB or mor'\n '230 MB RAM' '950 MB RAM' '75 MB RAM' '420 MB RAM'\n '1GB System RAM (2GB recommended with Vista/7) ' '384 MB RAM   '\n '1GB for XP/2GB for Vista/7 ' '512 MB (XP) / 1 GB (Vista) ' '1820 MB RAM'\n '2 GB or more ' 'at least 512MiB RAM MB RAM' '4 GB or more MB RAM'\n '30 MB RAM' '790 MB RAM' '440 MB RAM' '97 MB RAM' '2.0GB ' '1048 MB RAM'\n '110 MB RAM' '16384 MB RAM' '550 MB RAM' '1.5GB for MS Windows XP'\n '256 Mb ' '1GB Ram' 'TBC GB RAM' '256MB RAM MB RAM' '1GP XP/2GB Vista '\n '3 GB ' '2Gb RAM ' '512 MB System RAM'\n '1024 MB (XP) / 2048 MB (VISTA/7) ' '1Gb RAM ' '512 MB RAM(minimum)'\n '1GB RAM' '132 MB RAM' '8+ GB RAM' '512MB (XP)' '2.0 GB of RAM '\n '2048 MB RAM ' '1 GB RAM (1.5 GB for Vista)' '1GB (2GB for multiplayer) '\n '512MB' '1.0 GB or more ' '236 MB RAM' '190 MB RAM' '4048 MB RAM'\n '512 MB RAM (1 GB for Windows Vista)' '2 GB RAM GB RAM' '1GB or more '\n '512 Mo MB RAM' '85 MB RAM' '900 MB RAM' '8.0 GB RAM' '450 MB RAM'\n '1600 MB RAM' '5 MB RAM' '64M MB RAM' '8 GB RA' '650 MB RAM' '99 MB RA'\n '32768 MB RAM' '8GB' '128 MB (256 MB required for Vista and XP) '\n '1080 MB RAM' '1024 GB RAM' '12 MB RAM' '3500 MB RAM' '128 M'\n '384 MB System RAM (512 MB Vista)' '7 GB RAM' '25 MB RAM'\n '4GB DDR3 GB RAM' '120 MB RA' '256mb (512mb suggested)'\n 'cualquieraAAA MB RAM' '256 MB (512+ MB recommended)' '250 MB RAM MB RAM'\n '980 MB RAM' '350 MB RAM' '768 MB Ram or highe' '9 GB RAM' '512MB of RAM'\n '90 MB RAM' '2000 GB RAM' '70 MB RAM' '512 MB System RA' '69 GB RAM'\n '111 MB RAM' '2GB or higher MB RAM' '2096 MB RAM'\n '10000000000000000000 GB RAM' '4 GB ОЗУ GB RAM' '999 MB RAM' '104 MB RAM'\n '2048 GB RAM' '1814 MB RAM' '2048 mb MB RAM' '20420488 MB RAM']\n\u001b[1mRatingsBreakdown\u001b[0;0m\n['recommended: 882, meh: 501, exceptional: 283, skip: 185'\n 'recommended: 726, meh: 465, exceptional: 227, skip: 106'\n 'meh: 496, recommended: 446, skip: 371, exceptional: 228' ...\n 'meh: 9, skip: 7, recommended: 4'\n 'recommended: 25, meh: 7, exceptional: 5'\n 'recommended: 82, meh: 67, skip: 43, exceptional: 13']\n\u001b[1mReleaseDate\u001b[0;0m\n['2012-08-21' '2017-09-06' '2013-07-09' ... '2015-12-19' '2010-10-17'\n '2019-09-22']\n\u001b[1mSoundtrack\u001b[0;0m\n[ 0.  1. nan]\n\u001b[1mOriginalCost\u001b[0;0m\n['Free to Play' 'Free To Play' '$19.99' '$39.99' '$29.99' '$59.99' '$9.99'\n '$44.99' '$11.99' '$49.99' nan '$14.99' '$34.99' '$24.99' '$22.99'\n 'Factorio Demo' '$69.99' '$5.99' 'UNO' 'Free'\n 'Shadow of the Tomb Raider Free Trial'\n 'Demo Middle-earth™: Shadow of War™' '$4.99'\n 'Note: Your saved progress will transfer to the full game, if purchased.'\n 'FINAL FANTASY XV WINDOWS EDITION PLAYABLE DEMO' '$8.99' '$17.99' '$2.99'\n 'Play for Free!' '$7.99' 'Bad North Demo' '$15.99' 'Try it now for free!'\n 'Monster Prom Demo' '$6.99' '$16.99' '$12.99' '$31.99' '$23.99' '$21.99'\n 'DRAGON QUEST BUILDERS 2 JUMBO DEMO' 'FREE DEMO - Try before you buy!'\n '$13.99' 'for Buddy Pass Users Only' '$25.99' 'CrossCode Demo'\n 'Moving Out Demo' '$26.99' 'Free demo' '$3.99' '$20.99' '$10.99'\n 'SpeedRunners Party Mode' '$1.99' '$79.99' 'Try the free demo:' '$40.00'\n '$99.99' 'Free Demo' 'Little Misfortune Demo' '$18.99'\n 'Learn to Play Edition' 'Cat Quest II Demo'\n 'Train Station Renovation Demo' '$19.93' '$28.00' 'EmergeNYC Demo'\n '$19.00' 'Try it now!' 'Demo' 'Play demo for free' '$89.99' '$0.99'\n 'Install Free Demo' 'Play Until Level 10 For Free' 'Demo Sample'\n 'Play Demo!' '$16.66' 'Cat Quest Demo' 'Try it NOW! Dynasty DLC is FREE!'\n 'Play the 8-min Demo!' 'The Crew Trial' 'Dungeon Siege III Demo'\n 'Try our free demo!' 'Castlevania: Lords of Shadow 2 Demo'\n 'Try out the free Demo!' 'YumeUtsutsu Re:Master demo' 'Try for FREE'\n 'Arcade Spirits Demo' 'Garrison: Archangel Free Demo'\n 'AccuRC 2 Limited Demo' '$19.95' '$8.88'\n 'Play the first chapter for FREE!' '$45.00'\n 'Features Chapter 1: Isabella' '$14.95'\n 'Try the complete version of the game for 8 hours' 'LudoNarraCon demo'\n '$28.99' 'ONINAKI Free Trial' 'Home Sweet Home Demo'\n 'Hunting Simulator Demo' 'Car Mechanic Simulator 2015 Demo'\n 'Build and test ships in sandbox. All saved designs transfer to the full version.'\n 'The Norwood Suite Demo' '$5.49' 'Gazillionaire - Free Demo'\n 'Install Demo' 'The Black Watchmen Demo' 'Realpolitiks Demo' '$3.49'\n 'Try Demo' 'Akash: Path of the Five Demo' 'Try the demo!' 'Rodina Demo'\n 'Worbital: Online Demo' 'Silence Demo' '$9.95' 'eden* Demo'\n 'Mech Merc Company Demo' 'Empires in Ruins Demo' 'Download Demo' '试玩版'\n '$7.49' 'Sunrider Academy Demo' '$30.00' 'Salt Demo' '$2.49'\n 'Experience Quasar Spectrum OS for Free' 'Eagle Island Demo' '$19.69'\n 'Dont Knock Twice VR Demo' '$51.98' 'A Case of Distrust Demo'\n 'Download 39 Days to Mars Demo' '$49.97' '$4.20'\n 'Unholy Heights Trial Version' 'Play WARMACHINE: Tactics Demo' 'Dex Demo'\n 'Dry Drowning Demo' 'Free Prologue' 'Hello Charlotte EP1' '🐛  PLAY NOW'\n 'Try Demo Now' 'Try the demo' 'Wunderling Demo' 'Try it out!' '$9.69'\n '$13.37' 'Forgotten Hill Disillusion Demo' 'SoulSet Demo'\n 'Fartnight! Play the full game for free as long as you want but with fart sounds!'\n '$1.87' '$72.77' '$199.99' 'Play the Demo' '$19.90' '$15.00' '$8.00'\n 'Unbox Demo' 'Airranger Trial Version'\n 'Play with Firefly for a little while!' 'TRY THE FREE DEMO!'\n 'Give Lumote a try!' 'Ato Demo' 'DERU - Demo'\n \"Gaia's Melody: Echoed Melodies Demo\" 'Sky Racket Demo'\n 'REMOTE LIFE TECH Demo' 'Demo version'\n 'Chuusotsu - 1st Graduation: Time After Time English Demo' '$5.29'\n 'FREE DOWNLOAD' 'Try to survive the 5 first days on the island!'\n 'Winds Of Trade Demo' 'Gorescript Demo' '$10.00' '$27.94' '$6.60'\n 'Play the free Challenge Mode demo!' 'Play Rage in Peace Demo'\n 'ViSP Demo' 'Free DEMO!' 'Walkerman Prologue' 'Slime-san Demo' '$13.98'\n '$5.00' 'Jumps Demo' 'Playable Demo'\n 'Kaiju Big Battel Fighto Fantasy Demo' '$11.90' '$32.99' '$9.50'\n 'Lawless Lands Demo' '$79.98' 'FREE EDITION' '$595.99' 'Gerty Demo'\n 'Glimpse of Infini' '$12.34' '$64.98' 'Give it a swing!' '$54.99'\n 'Try Demo!' '$5.65' 'Protonwar Demo'\n \"The Last Dream: Developer's Edition Demo\" 'Agent Roswell Demo'\n 'Free Demo ( ͡~ ͜ʖ ͡°)' 'Build 24-10-2019' \"A Bastard's Tale Demo\"\n 'Just Get Through Demo'\n 'INTERSTELLAR PRIME Pre-Alpha 0.1 Game Engine Demo'\n 'A Day Without Me Demo' 'RPG Tycoon Demo' 'Download demo' '$1.00'\n 'Visual Novel, Free' '$0.50' 'Penarium Demo' 'Great Permutator Demo'\n '$19.49' 'Play the Prologue' 'Space Battlecruiser Demo'\n 'INFERNIUM Free Demo' 'Crying is not Enough: Demo' '$20.00'\n 'Heroes of Legionwood Demo' 'Try before you buy!'\n 'Asteroid Blaster VR Demo' 'Free Trial' '$4.49' 'Soulblight Demo'\n 'Monochroma Demo' 'Patterna Demo' 'SoulHunt Demo'\n 'UAYEB: The Dry Land - Episode 1 - Demo' '$5.19'\n 'Escape Legacy - Short Demo' '$12.49' 'Sanguine Sanctum Demo'\n 'Sticky Paws Demo' '$2.00' 'Playable demo of Upwards, Lonely Robot'\n 'Spaceman Sparkles 3 Demo' '$689.75' 'Circuit Breakers Demo'\n 'Recourse Demo' 'Space Rift Demo' '$6.00' '$0.98' 'Play demo' 'Sym Demo'\n 'Horizon Shift Demo' 'Try out the deliciouss DEMOn' '$0.90'\n 'Not convinced enough? Play Deadsiege demo' 'PROLOGUE' 'SINNERS Demo'\n 'Install the Demo' 'Ukhar Demo' '$3.00' 'Try the free demo!' 'DEMO'\n 'Airship Dragoon Demo' \"Try JunkerBot's combat demo\"\n 'Black Hole Hazard Demo' 'Catyph Demo'\n 'Put on your Top Hat, twiddle your tache and get the Woolley Mountain Demo now!'\n 'FootRock 2 Demo' 'Try Demo Now!' 'Check out a free Demo now!'\n 'Hailstorm Demo' '$4.00' 'Third-party' '$129.99' 'The Apartment Demo'\n '$2.45' '$1.49' 'LABEL' 'Infinium Strike Demo' 'Clockwise Demo (v 1.5)'\n 'Planets Under Attack Demo' '$8.98' 'Demo - Lems'\n 'The Weaponographist Demo' '$2.79' 'Download Demo !' 'Cubotrox Demo'\n '$3.33' 'Statues Demo' 'Space Ribbon Demo' \"Hunter's Legacy Demo\"\n 'Demo2.0' 'Play the free demo!' 'Pixel Survivors Demo' '$1.50'\n 'Cosmic Leap Demo' 'I was rebuilt - Demo' 'Space Slingshot VR Demo'\n 'Fish Duel Free' '$29.98' '$74.99' '$41.99' 'Odd||Even demo' '$1.88'\n 'Ramayana Demo' 'OSB Demo' 'Chapters 1-3' '$84.99'\n 'Come and visit Innsmouth!' '$48.99' '$100.00' 'Lab 7:Cold Nights Demo'\n 'Towns Demo' '$999.00' 'Arcane Raise - Aurora Novus' 'Limiter! Demo'\n 'Full expert mode included!' '$119.99' 'Play Demo' 'Play now for free'\n 'Demo-version' 'Zapitalism - Free Demo' 'Horse Racing 2016 (Demo)'\n '$8.90' '$1.29' 'Waves Of Death VR Demo' 'Escape Legacy VR Demo'\n 'Try Super High Ball!' '$6.66' 'Profitania - Free Demo' 'Straylight Demo'\n 'The Casebook of Arkady Smith (Demo)' '$1.47' '$1.37' '$1.98'\n 'Kokorogawari Demo' '$25.00' 'Contract Killers Demo' '$10.25'\n 'Partial Control Demo'\n '\"Better than a demo!\" 2D Paintball - Online | Full F2P Multiplayer!'\n 'Try one game mode and have access to the premium with the piano only!'\n 'Copperbell Demo' 'Free Preview' 'Atlantis Royale Full Content'\n 'VITAL Demo' 'Try RJ free!' 'Rhythm Mage Demo' '$9.90'\n '🆓 Free test drives! 🈚' 'Download FREE DEMO'\n 'Super Hyperactive Ninja Demo' '$3.97' 'Up to 30 minutes of gameplay!'\n '$12.00' 'Storms of Shambhala Demo' '$12.95' '$1.27'\n 'Heart of Dixie Demo Version' '$2.98'\n 'Pit of Evil Free Demo (includes first chapter)' '$4.95' '$4.39'\n 'Jim is Moving Out! Demo' 'The Last Roman Village Demo'\n \"Try Demo, it's free\" 'Orbital Shipyards Demo' 'Play the demo!'\n 'Rayon Riddles - Rise of the Goblin King Demo' 'Sceal Demo'\n 'Try the first world for free!' 'Play Free Demo' 'Logical Now! Demo'\n '$7.50' 'The Body Changer DEMO' '$2.50' 'Justice: Fallen Clan Demo'\n 'Orbs Demo' 'Smash The Rebels Demo' 'Catch the Head Demo' '$1.69'\n 'Free Local Version' 'Demo Version' '$1.45' 'Try the Demo!'\n 'This Is Not The End: Demo Version' 'Omega Pattern Demo' '$4.79' '$2.30'\n 'ROTii Demo' \"Funtoon's World (Demo)\" 'Nightmare Cave Demo'\n '免费试玩,Free to try,Demo']\n\u001b[1mDiscountedCost\u001b[0;0m\n[nan '$44.99' '$31.49' '$8.99' '$29.99' '$17.99' '$9.99' '$20.69' '$16.99'\n '$15.99' '$14.99' '$7.49' '$19.99' '$6.69' '$26.99' '$6.99' '$4.99'\n '$7.99' '$4.49' '$16.74' '$2.49' '$3.74' '$5.49' '$6.74' '$13.49'\n '$11.04' '$27.99' '$5.99' '$10.49' '$24.99' '$4.19' '$31.99' '$6.23'\n '$33.99' '$5.19' '$13.99' '$21.24' '$1.99' '$2.99' '$7.36' '$5.24'\n '$11.99' '$3.59' '$0.99' '$0.89' '$29.74' '$12.99' '$4.24' '$3.89'\n '$1.74' '$2.39' '$3.49' '$1.49' '$0.64' '$0.74' '$12.49' '$0.49' '$6.29'\n '$0.84' '$3.99' '$0.51' '$1.59' '$12.74' '$14.39' '$0.92' '$2.24' '$2.63'\n '$5.94' '$9.74' '$1.04' '$0.59' '$4.39' '$11.24' '$2.74' '$0.97' '$4.04'\n '$1.19' '$0.79' '$1.69' '$1.79' '$4.79' '$5.59' '$4.89' '$1.94' '$0.50'\n '$1.39' '$9.59' '$2.09' '$3.19' '$9.89' '$6.49' '$0.54' '$0.98' '$2.79'\n '$0.69' '$3.14' '$1.67' '$0.55' '$2.54' '$22.49' '$9.95' '$11.39' '$2.59'\n '$5.39' '$8.70' '$1.54' '$1.24' '$1.09' '$0.53' '$0.61' '$10.00' '$3.24'\n '$4.97' '$0.72' '$1.89' '$0.67' '$0.82' '$1.48' '$1.33' '$0.88' '$1.17'\n '$0.75']\n\u001b[1mController\u001b[0;0m\n[ 1.  0. nan]\n\u001b[1mAchievements\u001b[0;0m\n[1.7900e+02 6.1000e+01 0.0000e+00 3.0800e+02 8.2000e+01 2.5300e+02\n 4.0600e+02 5.7000e+01 3.6900e+02 1.8940e+03 4.4500e+02 4.5400e+02\n 1.7800e+02 1.1800e+02 1.1900e+02 1.6000e+01 6.0400e+02 9.0000e+01\n 1.0100e+02 2.3800e+02 9.1000e+01 3.5000e+01 1.0800e+02 2.7000e+01\n 5.2000e+01 2.2800e+02 6.0000e+01 9.5000e+01 1.3900e+02 1.5000e+02\n 5.2000e+02 1.8100e+02 1.5100e+02 1.5200e+02 9.8000e+01 1.0200e+02\n 1.9800e+02 3.0000e+00 1.2930e+03 4.4000e+01 3.1000e+01 7.8000e+01\n 2.1000e+01 2.1500e+02 8.0000e+01 3.4700e+02 1.8500e+02 8.1000e+01\n 1.2900e+02 7.9000e+01 3.2400e+02 3.1000e+02 3.3000e+01 2.7600e+02\n 1.1300e+02 3.7000e+01 1.5800e+02 1.0700e+02 1.1100e+02 7.0000e+01\n 2.0400e+02 1.9000e+02 2.9000e+01 9.3000e+01 2.6000e+01 5.9000e+01\n 4.9000e+01 6.6000e+01 6.8000e+01 7.6000e+01 1.2800e+02 3.2000e+01\n 2.8000e+01 1.3700e+02 1.2500e+02 3.8000e+01 6.5000e+01 7.7000e+01\n 1.2100e+02 5.8000e+01 8.5000e+01 1.8000e+01 8.3000e+01 2.0000e+01\n 1.3500e+02 1.7500e+02 2.0000e+00 7.0000e+00 2.1700e+02 2.8600e+02\n 1.2700e+02 2.2000e+02 1.1400e+02 4.6000e+01 6.9000e+01 2.2600e+02\n 2.6300e+02 1.0600e+02 8.9000e+01 3.7200e+02 2.3900e+02 7.2000e+01\n 2.4000e+01 2.5500e+02 4.8000e+01 1.6100e+02 2.1600e+02 1.3400e+02\n 1.8800e+02 7.1000e+01 8.8000e+01 2.6900e+02 1.4400e+02 9.9000e+01\n 5.6000e+01 1.8200e+02 2.0900e+02 1.8700e+02 4.3000e+01 5.5700e+02\n 7.3000e+01 2.3200e+02 1.4100e+02 9.6000e+01 3.7000e+02 1.9400e+02\n 3.0200e+02 2.5000e+01 4.7600e+02 1.0900e+02 4.7000e+01 2.0600e+02\n 7.8800e+02 2.0700e+02 2.7400e+02 7.5000e+01 4.5200e+02 5.0000e+01\n 1.4500e+02 4.2000e+01 9.4000e+01 6.7000e+01 6.4000e+01 1.4000e+01\n 1.8400e+02 1.3000e+02 1.0000e+00 1.5300e+02 5.1000e+01 8.0000e+00\n 1.1200e+02 1.2600e+02 1.6200e+02 2.0200e+02 1.0300e+02 2.7700e+02\n 1.2400e+02 1.5900e+02 1.1000e+01 1.3800e+02 1.5000e+01 2.2900e+02\n 3.4000e+01 2.1100e+02 8.7000e+01 8.6000e+01        nan 1.0000e+02\n 2.7100e+02 4.0000e+01 2.2300e+02 3.0000e+01 1.1500e+02 3.6100e+02\n 1.1700e+02 1.4000e+02 1.7000e+01 1.9300e+02 1.0000e+01 5.4400e+02\n 8.4000e+01 2.2100e+02 1.4200e+02 1.4300e+02 4.4400e+02 9.2000e+01\n 2.1200e+02 4.9000e+02 1.3100e+02 5.5000e+01 1.7600e+02 3.9000e+01\n 2.1300e+02 2.2000e+01 1.5700e+02 1.2000e+01 3.2900e+02 2.1400e+02\n 1.6500e+02 3.6000e+01 5.3000e+01 6.0000e+00 1.9200e+02 1.7200e+02\n 1.0400e+02 4.4900e+02 2.0100e+02 2.2200e+02 1.9000e+01 9.0000e+00\n 1.0500e+02 1.6600e+02 1.6900e+02 2.5600e+02 1.6000e+02 2.3500e+02\n 1.2000e+02 5.0000e+03 2.0000e+02 1.9900e+02 3.3400e+02 3.1800e+02\n 6.2000e+01 4.5000e+01 1.9100e+02 2.3000e+02 1.1600e+02 6.3000e+01\n 4.1000e+01 1.8000e+02 5.4000e+01 3.9700e+02 3.2500e+02 2.8700e+02\n 9.5300e+02 1.4700e+02 1.7000e+02 3.7500e+02 2.3000e+01 1.9500e+02\n 3.3300e+02 1.5600e+02 1.3000e+01 2.1800e+02 2.4600e+02 3.3900e+02\n 2.3600e+02 1.9600e+02 3.2800e+02 1.8300e+02 3.5700e+02 2.0800e+02\n 1.9700e+02 1.3200e+02 2.8500e+02 4.0000e+00 5.0000e+00 1.2200e+02\n 7.1300e+02 7.4000e+01 3.3500e+02 9.7000e+01 1.3600e+02 3.6300e+02\n 4.8700e+02 2.9800e+02 2.4800e+02 2.0500e+02 1.5400e+02 2.9400e+02\n 1.2300e+02 1.4900e+02 1.7100e+02 1.6400e+02 2.6000e+02 1.6300e+02\n 6.3600e+02 3.8500e+02 1.3300e+02 2.7000e+02 1.8600e+02 3.8100e+02\n 2.4900e+02 2.5100e+02 2.6200e+02 3.0000e+02 1.7280e+03 2.9500e+02\n 1.5500e+02 2.1000e+02 2.6600e+02 2.3100e+02 1.1000e+02 1.4600e+02\n 8.0000e+02 1.1820e+03 5.8200e+02 4.5140e+03 4.1900e+02 9.5900e+02\n 1.6800e+02 1.4800e+02 1.1720e+03 2.3300e+02 3.1900e+02 6.1200e+02\n 8.8900e+02 4.4800e+02 2.8800e+03 6.9500e+02 3.0700e+02 7.7000e+02\n 2.2200e+03 1.6700e+02 3.8400e+02 1.7080e+03 3.2200e+02 2.4000e+02\n 2.7200e+02 7.7700e+02 1.0430e+03 2.1300e+03 2.4480e+03 3.3800e+02\n 6.3000e+02 5.5500e+02 1.7400e+02 6.0100e+02 3.2300e+02 4.4300e+03\n 1.2240e+03 1.5580e+03 3.4900e+02 2.5200e+02 4.8200e+02 1.2030e+03\n 3.0300e+02 4.0800e+02 5.0180e+03 5.1000e+03 1.5130e+03 3.6500e+02\n 3.9400e+02 2.6500e+02 2.9840e+03 2.3400e+02 2.9600e+02 1.8000e+03\n 2.2300e+03 5.0000e+02 1.0810e+03 5.7200e+02 6.0200e+02 8.7200e+02\n 5.0010e+03 9.8210e+03 3.0060e+03 3.4530e+03 4.0960e+03 3.6200e+02\n 5.2600e+02 1.2600e+03 4.8840e+03 1.3640e+03 1.6840e+03 1.0110e+03\n 3.4500e+02 6.0000e+02 4.9200e+02 9.9900e+02 1.9700e+03 1.6020e+03\n 5.0900e+02 3.0010e+03 1.0950e+03 6.4200e+02 1.3170e+03 4.9990e+03\n 2.6400e+02 2.0150e+03 1.1060e+03 2.8600e+03 3.7800e+02 9.9600e+02\n 2.2500e+02 5.7400e+02 4.0790e+03 4.8850e+03 3.3200e+02 7.5400e+02\n 1.0979e+04 2.3700e+02 4.7860e+03 3.0390e+03 2.7900e+02 2.8300e+02\n 3.0940e+03 2.1900e+02 2.0000e+03 3.0000e+03 4.8970e+03 2.0070e+03\n 1.7700e+02 1.2980e+03 1.7300e+02 1.1130e+03 4.2800e+02 5.1000e+02\n 2.9900e+02 3.1700e+02 2.6590e+03 1.5960e+03 1.5000e+03 4.5640e+03\n 2.6380e+03 1.2660e+03 3.6000e+03 4.5100e+02 5.0120e+03 3.1500e+02\n 2.0210e+03 4.2520e+03 4.0000e+02 2.5000e+02 1.2150e+03 3.3460e+03\n 5.9000e+02 1.8900e+02 2.5220e+03 1.5140e+03 2.0010e+03 1.0170e+03\n 5.3400e+02 2.5800e+02 5.0500e+02 9.6100e+02 6.7800e+02 6.7600e+02\n 2.2400e+02 2.0360e+03 1.0000e+03 2.0910e+03 2.0300e+02 2.4100e+02\n 6.5800e+02 2.1260e+03 3.3000e+02 5.0400e+03 4.9910e+03]\n\u001b[1mLanguages\u001b[0;0m\n['English, Czech, Danish, Dutch, Finnish, French, German, Hungarian, Italian, Japanese, Korean, Norwegian, Polish, Portuguese, Romanian, Russian, Swedish, Thai, Turkish, Bulgarian, Ukrainian, Greek, Vietnamese'\n 'English, French, Italian, German, Japanese, Korean, Polish, Russian'\n 'English, Bulgarian, Czech, Danish, Dutch, Finnish, French, German, Greek, Hungarian, Italian, Japanese, Korean, Norwegian, Polish, Portuguese, Romanian, Russian, Swedish, Thai, Turkish, Ukrainian'\n ...\n 'English, French, German, Japanese, Polish, Portuguese, Russian, Turkish'\n 'English, French, German, Japanese, Arabic'\n 'English, French, Italian, German, Bulgarian, Hungarian, Vietnamese, Danish, Korean, Dutch, Norwegian, Polish, Portuguese, Romanian, Russian, Turkish, Ukrainian, Finnish, Czech, Swedish, Japanese']\n\u001b[1mStorage\u001b[0;0m\n['15 GB available space' '105 GB available space' '85 GB available space'\n ... '6640 MB available spac' '199 MB available space'\n '426 MB available space']\n\u001b[1mTags\u001b[0;0m\n['FPS, Shooter, Multiplayer, Competitive, Action, Team-Based, eSports, Tactical, First-Person, PvP, Online Co-Op, Co-op, Strategy, Military, War, Difficult, Trading, Realistic, Fast-Paced, Moddable'\n 'Free to Play, Looter Shooter, FPS, Multiplayer, Action, Online Co-Op, Adventure, MMORPG, Shooter, Sci-fi, Loot, Open World, Space, First-Person, Great Soundtrack, Co-op, Lore-Rich, Massively Multiplayer, Masterpiece, Atmospheric'\n 'Free to Play, MOBA, Multiplayer, Strategy, eSports, Team-Based, Competitive, Action, Online Co-Op, PvP, Difficult, Co-op, RTS, Tower Defense, RPG, Fantasy, Character Customization, Replay Value, Action RPG, Simulation'\n ... 'Indie, Strategy, Puzzle, Singleplayer, Platformer'\n 'Indie, Puzzle, Pixel Graphics, Mystery, Experience, Experimental'\n 'Strategy, Casual, Simulation, VR']\n"
     ]
    }
   ],
   "source": [
    "for name in data.columns:\n",
    "    lis = data[name].unique()\n",
    "    print('\\033[1m'+name+'\\033[0;0m')\n",
    "    print(lis)"
   ]
  },
  {
   "cell_type": "code",
   "execution_count": 159,
   "metadata": {},
   "outputs": [
    {
     "output_type": "execute_result",
     "data": {
      "text/plain": [
       "      Metacritic  Indie   Presence  \\\n",
       "0      Very good  False  1009588.0   \n",
       "1      Very good  False  1007425.0   \n",
       "2      Very good  False  1009306.0   \n",
       "3           Good  False  1000781.0   \n",
       "4           Good  False   777456.0   \n",
       "...          ...    ...        ...   \n",
       "30245        NaN   True      105.0   \n",
       "30246        NaN   True       13.0   \n",
       "30247        NaN  False       11.0   \n",
       "30248        NaN   True      423.0   \n",
       "30249        NaN  False      120.0   \n",
       "\n",
       "                                                Platform  Memory  \\\n",
       "0                            PC, Xbox 360, PlayStation 3  2000.0   \n",
       "1      PlayStation 5, Web, Xbox Series X, PC, Xbox On...  6000.0   \n",
       "2                                       Linux, macOS, PC  4000.0   \n",
       "3                                                     PC  3000.0   \n",
       "4                                           PC, Xbox One  4000.0   \n",
       "...                                                  ...     ...   \n",
       "30245                                                 PC   512.0   \n",
       "30246                                                 PC  6000.0   \n",
       "30247                                                 PC  2048.0   \n",
       "30248                                                 PC   500.0   \n",
       "30249                                                 PC  4000.0   \n",
       "\n",
       "                                        RatingsBreakdown  ReleaseDate  \\\n",
       "0      recommended: 882, meh: 501, exceptional: 283, ...       2012.0   \n",
       "1      recommended: 726, meh: 465, exceptional: 227, ...       2017.0   \n",
       "2      meh: 496, recommended: 446, skip: 371, excepti...       2013.0   \n",
       "3      recommended: 21, meh: 12, exceptional: 5, skip: 1       2014.0   \n",
       "4      recommended: 198, meh: 131, exceptional: 62, s...       2018.0   \n",
       "...                                                  ...          ...   \n",
       "30245                                                NaN       2018.0   \n",
       "30246                                                NaN       2017.0   \n",
       "30247                                                NaN       2018.0   \n",
       "30248                                                NaN       2017.0   \n",
       "30249                                                NaN       2016.0   \n",
       "\n",
       "      Soundtrack  OriginalCost  DiscountedCost Controller  Achievements  \\\n",
       "0          False          0.00             0.0       True         179.0   \n",
       "1          False          0.00             0.0       True          61.0   \n",
       "2          False          0.00             0.0       True           0.0   \n",
       "3          False         19.99             0.0       True           0.0   \n",
       "4          False         39.99             0.0       True         308.0   \n",
       "...          ...           ...             ...        ...           ...   \n",
       "30245      False          0.99             0.0       True           0.0   \n",
       "30246      False          0.99             0.0      False           0.0   \n",
       "30247      False          1.99             0.0      False           0.0   \n",
       "30248      False          0.99             0.0       True           0.0   \n",
       "30249      False          0.99             0.0       True           0.0   \n",
       "\n",
       "                                               Languages   Storage  \\\n",
       "0      English, Czech, Danish, Dutch, Finnish, French...   15000.0   \n",
       "1      English, French, Italian, German, Japanese, Ko...  105000.0   \n",
       "2      English, Bulgarian, Czech, Danish, Dutch, Finn...   15000.0   \n",
       "3                       English, French, German, Russian   85000.0   \n",
       "4              English, French, Italian, German, Russian   50000.0   \n",
       "...                                                  ...       ...   \n",
       "30245                                            English      10.0   \n",
       "30246                                            English    2000.0   \n",
       "30247                                            English    2048.0   \n",
       "30248                                            English     300.0   \n",
       "30249                                            English       1.0   \n",
       "\n",
       "                                                    Tags  \n",
       "0      FPS, Shooter, Multiplayer, Competitive, Action...  \n",
       "1      Free to Play, Looter Shooter, FPS, Multiplayer...  \n",
       "2      Free to Play, MOBA, Multiplayer, Strategy, eSp...  \n",
       "3      RPG, MMORPG, Open World, Massively Multiplayer...  \n",
       "4      Adventure, Action, Pirates, Open World, Multip...  \n",
       "...                                                  ...  \n",
       "30245                                      Indie, Casual  \n",
       "30246  Indie, Puzzle, Pixel Graphics, Mystery, Experi...  \n",
       "30247                                             Casual  \n",
       "30248                   Action, Adventure, Indie, Casual  \n",
       "30249                   Strategy, Casual, Simulation, VR  \n",
       "\n",
       "[30250 rows x 15 columns]"
      ],
      "text/html": "<div>\n<style scoped>\n    .dataframe tbody tr th:only-of-type {\n        vertical-align: middle;\n    }\n\n    .dataframe tbody tr th {\n        vertical-align: top;\n    }\n\n    .dataframe thead th {\n        text-align: right;\n    }\n</style>\n<table border=\"1\" class=\"dataframe\">\n  <thead>\n    <tr style=\"text-align: right;\">\n      <th></th>\n      <th>Metacritic</th>\n      <th>Indie</th>\n      <th>Presence</th>\n      <th>Platform</th>\n      <th>Memory</th>\n      <th>RatingsBreakdown</th>\n      <th>ReleaseDate</th>\n      <th>Soundtrack</th>\n      <th>OriginalCost</th>\n      <th>DiscountedCost</th>\n      <th>Controller</th>\n      <th>Achievements</th>\n      <th>Languages</th>\n      <th>Storage</th>\n      <th>Tags</th>\n    </tr>\n  </thead>\n  <tbody>\n    <tr>\n      <th>0</th>\n      <td>Very good</td>\n      <td>False</td>\n      <td>1009588.0</td>\n      <td>PC, Xbox 360, PlayStation 3</td>\n      <td>2000.0</td>\n      <td>recommended: 882, meh: 501, exceptional: 283, ...</td>\n      <td>2012.0</td>\n      <td>False</td>\n      <td>0.00</td>\n      <td>0.0</td>\n      <td>True</td>\n      <td>179.0</td>\n      <td>English, Czech, Danish, Dutch, Finnish, French...</td>\n      <td>15000.0</td>\n      <td>FPS, Shooter, Multiplayer, Competitive, Action...</td>\n    </tr>\n    <tr>\n      <th>1</th>\n      <td>Very good</td>\n      <td>False</td>\n      <td>1007425.0</td>\n      <td>PlayStation 5, Web, Xbox Series X, PC, Xbox On...</td>\n      <td>6000.0</td>\n      <td>recommended: 726, meh: 465, exceptional: 227, ...</td>\n      <td>2017.0</td>\n      <td>False</td>\n      <td>0.00</td>\n      <td>0.0</td>\n      <td>True</td>\n      <td>61.0</td>\n      <td>English, French, Italian, German, Japanese, Ko...</td>\n      <td>105000.0</td>\n      <td>Free to Play, Looter Shooter, FPS, Multiplayer...</td>\n    </tr>\n    <tr>\n      <th>2</th>\n      <td>Very good</td>\n      <td>False</td>\n      <td>1009306.0</td>\n      <td>Linux, macOS, PC</td>\n      <td>4000.0</td>\n      <td>meh: 496, recommended: 446, skip: 371, excepti...</td>\n      <td>2013.0</td>\n      <td>False</td>\n      <td>0.00</td>\n      <td>0.0</td>\n      <td>True</td>\n      <td>0.0</td>\n      <td>English, Bulgarian, Czech, Danish, Dutch, Finn...</td>\n      <td>15000.0</td>\n      <td>Free to Play, MOBA, Multiplayer, Strategy, eSp...</td>\n    </tr>\n    <tr>\n      <th>3</th>\n      <td>Good</td>\n      <td>False</td>\n      <td>1000781.0</td>\n      <td>PC</td>\n      <td>3000.0</td>\n      <td>recommended: 21, meh: 12, exceptional: 5, skip: 1</td>\n      <td>2014.0</td>\n      <td>False</td>\n      <td>19.99</td>\n      <td>0.0</td>\n      <td>True</td>\n      <td>0.0</td>\n      <td>English, French, German, Russian</td>\n      <td>85000.0</td>\n      <td>RPG, MMORPG, Open World, Massively Multiplayer...</td>\n    </tr>\n    <tr>\n      <th>4</th>\n      <td>Good</td>\n      <td>False</td>\n      <td>777456.0</td>\n      <td>PC, Xbox One</td>\n      <td>4000.0</td>\n      <td>recommended: 198, meh: 131, exceptional: 62, s...</td>\n      <td>2018.0</td>\n      <td>False</td>\n      <td>39.99</td>\n      <td>0.0</td>\n      <td>True</td>\n      <td>308.0</td>\n      <td>English, French, Italian, German, Russian</td>\n      <td>50000.0</td>\n      <td>Adventure, Action, Pirates, Open World, Multip...</td>\n    </tr>\n    <tr>\n      <th>...</th>\n      <td>...</td>\n      <td>...</td>\n      <td>...</td>\n      <td>...</td>\n      <td>...</td>\n      <td>...</td>\n      <td>...</td>\n      <td>...</td>\n      <td>...</td>\n      <td>...</td>\n      <td>...</td>\n      <td>...</td>\n      <td>...</td>\n      <td>...</td>\n      <td>...</td>\n    </tr>\n    <tr>\n      <th>30245</th>\n      <td>NaN</td>\n      <td>True</td>\n      <td>105.0</td>\n      <td>PC</td>\n      <td>512.0</td>\n      <td>NaN</td>\n      <td>2018.0</td>\n      <td>False</td>\n      <td>0.99</td>\n      <td>0.0</td>\n      <td>True</td>\n      <td>0.0</td>\n      <td>English</td>\n      <td>10.0</td>\n      <td>Indie, Casual</td>\n    </tr>\n    <tr>\n      <th>30246</th>\n      <td>NaN</td>\n      <td>True</td>\n      <td>13.0</td>\n      <td>PC</td>\n      <td>6000.0</td>\n      <td>NaN</td>\n      <td>2017.0</td>\n      <td>False</td>\n      <td>0.99</td>\n      <td>0.0</td>\n      <td>False</td>\n      <td>0.0</td>\n      <td>English</td>\n      <td>2000.0</td>\n      <td>Indie, Puzzle, Pixel Graphics, Mystery, Experi...</td>\n    </tr>\n    <tr>\n      <th>30247</th>\n      <td>NaN</td>\n      <td>False</td>\n      <td>11.0</td>\n      <td>PC</td>\n      <td>2048.0</td>\n      <td>NaN</td>\n      <td>2018.0</td>\n      <td>False</td>\n      <td>1.99</td>\n      <td>0.0</td>\n      <td>False</td>\n      <td>0.0</td>\n      <td>English</td>\n      <td>2048.0</td>\n      <td>Casual</td>\n    </tr>\n    <tr>\n      <th>30248</th>\n      <td>NaN</td>\n      <td>True</td>\n      <td>423.0</td>\n      <td>PC</td>\n      <td>500.0</td>\n      <td>NaN</td>\n      <td>2017.0</td>\n      <td>False</td>\n      <td>0.99</td>\n      <td>0.0</td>\n      <td>True</td>\n      <td>0.0</td>\n      <td>English</td>\n      <td>300.0</td>\n      <td>Action, Adventure, Indie, Casual</td>\n    </tr>\n    <tr>\n      <th>30249</th>\n      <td>NaN</td>\n      <td>False</td>\n      <td>120.0</td>\n      <td>PC</td>\n      <td>4000.0</td>\n      <td>NaN</td>\n      <td>2016.0</td>\n      <td>False</td>\n      <td>0.99</td>\n      <td>0.0</td>\n      <td>True</td>\n      <td>0.0</td>\n      <td>English</td>\n      <td>1.0</td>\n      <td>Strategy, Casual, Simulation, VR</td>\n    </tr>\n  </tbody>\n</table>\n<p>30250 rows × 15 columns</p>\n</div>"
     },
     "metadata": {},
     "execution_count": 159
    }
   ],
   "source": [
    "actions = {k:[] for k in data.columns}\n",
    "actions['Indie'].append(lambda x: x == 1.0) \n",
    "actions['Controller'].append(lambda x: x == 1.0) \n",
    "actions['Soundtrack'].append(lambda x: x == 1.0)\n",
    "actions['ReleaseDate'].append(lambda x: int(x.split('-')[0]))\n",
    "\n",
    "def replace_MB(x):\n",
    "    x = str(x).lower()\n",
    "    first = re.search(r\"\\d\", x)\n",
    "    if (first == None):\n",
    "        return None\n",
    "    first = first.start()\n",
    "    i = first+1\n",
    "    while(i<len(x) and (x[i].isdigit() or x[i] == '.')):\n",
    "        i = i+1\n",
    "    last = i\n",
    "    while(i<len(x) and x[i:i+2] != \"gb\" and x[i:i+2] != \"mb\"):\n",
    "        i = i+1\n",
    "    if (i == len(x) or x[i:i+2] == \"gb\"):\n",
    "        return(float(x[first:last])*1000)\n",
    "    return(float(x[first:last]))\n",
    "\n",
    "\n",
    "def clean_originalCost(x):\n",
    "    x = str(x).replace('$', '')\n",
    "    try:\n",
    "        number = float(x)\n",
    "        return number\n",
    "    except:\n",
    "        return 0\n",
    "\n",
    "def Metacritic_to_Range(x):\n",
    "    if x > 75:\n",
    "        return \"Very good\"\n",
    "    \n",
    "    elif x > 50 and x <= 75:\n",
    "        return \"Good\"\n",
    "    \n",
    "    elif x > 25 and x <= 50:\n",
    "        return \"Bad\"\n",
    "    \n",
    "    else:\n",
    "        return \"Very bad\"\n",
    "        \n",
    "    \n",
    "\n",
    "actions['Metacritic'].append(Metacritic_to_Range)\n",
    "actions['OriginalCost'].append(lambda x: clean_originalCost(x))\n",
    "actions['OriginalCost'].append(lambda x: float(str(x).replace('$', '')))\n",
    "actions['DiscountedCost'].append(lambda x: float(str(x).replace('$', '')))\n",
    "actions['Storage'].append(lambda x: replace_MB(x))\n",
    "actions['Memory'].append(lambda x: replace_MB(x))\n",
    "\n",
    "for name in actions:\n",
    "    for action in actions[name]:\n",
    "        data.loc[:,name] = data[data[name].notna()][name].apply(action)\n",
    "\n",
    "data['DiscountedCost'] = data['DiscountedCost'].fillna(0)\n",
    "data"
   ]
  },
  {
   "cell_type": "code",
   "execution_count": 160,
   "metadata": {},
   "outputs": [
    {
     "output_type": "execute_result",
     "data": {
      "text/plain": [
       "      Metacritic  Indie   Presence  \\\n",
       "0      Very good  False  1009588.0   \n",
       "1      Very good  False  1007425.0   \n",
       "2      Very good  False  1009306.0   \n",
       "3           Good  False  1000781.0   \n",
       "4           Good  False   777456.0   \n",
       "...          ...    ...        ...   \n",
       "30245        NaN   True      105.0   \n",
       "30246        NaN   True       13.0   \n",
       "30247        NaN  False       11.0   \n",
       "30248        NaN   True      423.0   \n",
       "30249        NaN  False      120.0   \n",
       "\n",
       "                                                Platform  Memory  \\\n",
       "0                            PC, Xbox 360, PlayStation 3  2000.0   \n",
       "1      PlayStation 5, Web, Xbox Series X, PC, Xbox On...  6000.0   \n",
       "2                                       Linux, macOS, PC  4000.0   \n",
       "3                                                     PC  3000.0   \n",
       "4                                           PC, Xbox One  4000.0   \n",
       "...                                                  ...     ...   \n",
       "30245                                                 PC   512.0   \n",
       "30246                                                 PC  6000.0   \n",
       "30247                                                 PC  2048.0   \n",
       "30248                                                 PC   500.0   \n",
       "30249                                                 PC  4000.0   \n",
       "\n",
       "                                        RatingsBreakdown  ReleaseDate  \\\n",
       "0      recommended: 882, meh: 501, exceptional: 283, ...       2012.0   \n",
       "1      recommended: 726, meh: 465, exceptional: 227, ...       2017.0   \n",
       "2      meh: 496, recommended: 446, skip: 371, excepti...       2013.0   \n",
       "3      recommended: 21, meh: 12, exceptional: 5, skip: 1       2014.0   \n",
       "4      recommended: 198, meh: 131, exceptional: 62, s...       2018.0   \n",
       "...                                                  ...          ...   \n",
       "30245                                                NaN       2018.0   \n",
       "30246                                                NaN       2017.0   \n",
       "30247                                                NaN       2018.0   \n",
       "30248                                                NaN       2017.0   \n",
       "30249                                                NaN       2016.0   \n",
       "\n",
       "      Soundtrack  OriginalCost  DiscountedCost  ... Achievements  \\\n",
       "0          False          0.00             0.0  ...        179.0   \n",
       "1          False          0.00             0.0  ...         61.0   \n",
       "2          False          0.00             0.0  ...          0.0   \n",
       "3          False         19.99             0.0  ...          0.0   \n",
       "4          False         39.99             0.0  ...        308.0   \n",
       "...          ...           ...             ...  ...          ...   \n",
       "30245      False          0.99             0.0  ...          0.0   \n",
       "30246      False          0.99             0.0  ...          0.0   \n",
       "30247      False          1.99             0.0  ...          0.0   \n",
       "30248      False          0.99             0.0  ...          0.0   \n",
       "30249      False          0.99             0.0  ...          0.0   \n",
       "\n",
       "                                               Languages   Storage  \\\n",
       "0      English, Czech, Danish, Dutch, Finnish, French...   15000.0   \n",
       "1      English, French, Italian, German, Japanese, Ko...  105000.0   \n",
       "2      English, Bulgarian, Czech, Danish, Dutch, Finn...   15000.0   \n",
       "3                       English, French, German, Russian   85000.0   \n",
       "4              English, French, Italian, German, Russian   50000.0   \n",
       "...                                                  ...       ...   \n",
       "30245                                            English      10.0   \n",
       "30246                                            English    2000.0   \n",
       "30247                                            English    2048.0   \n",
       "30248                                            English     300.0   \n",
       "30249                                            English       1.0   \n",
       "\n",
       "                                                    Tags Platform-Mobile  \\\n",
       "0      FPS, Shooter, Multiplayer, Competitive, Action...           False   \n",
       "1      Free to Play, Looter Shooter, FPS, Multiplayer...           False   \n",
       "2      Free to Play, MOBA, Multiplayer, Strategy, eSp...           False   \n",
       "3      RPG, MMORPG, Open World, Massively Multiplayer...           False   \n",
       "4      Adventure, Action, Pirates, Open World, Multip...           False   \n",
       "...                                                  ...             ...   \n",
       "30245                                      Indie, Casual           False   \n",
       "30246  Indie, Puzzle, Pixel Graphics, Mystery, Experi...           False   \n",
       "30247                                             Casual           False   \n",
       "30248                   Action, Adventure, Indie, Casual           False   \n",
       "30249                   Strategy, Casual, Simulation, VR           False   \n",
       "\n",
       "       Platform-PC  Platform-Xbox  Platform-PlayStation  Platform-Nintendo  \\\n",
       "0             True           True                  True              False   \n",
       "1             True           True                  True              False   \n",
       "2             True          False                 False              False   \n",
       "3             True          False                 False              False   \n",
       "4             True           True                 False              False   \n",
       "...            ...            ...                   ...                ...   \n",
       "30245         True          False                 False              False   \n",
       "30246         True          False                 False              False   \n",
       "30247         True          False                 False              False   \n",
       "30248         True          False                 False              False   \n",
       "30249         True          False                 False              False   \n",
       "\n",
       "       Platform-Sega  \n",
       "0              False  \n",
       "1              False  \n",
       "2              False  \n",
       "3              False  \n",
       "4              False  \n",
       "...              ...  \n",
       "30245          False  \n",
       "30246          False  \n",
       "30247          False  \n",
       "30248          False  \n",
       "30249          False  \n",
       "\n",
       "[30250 rows x 21 columns]"
      ],
      "text/html": "<div>\n<style scoped>\n    .dataframe tbody tr th:only-of-type {\n        vertical-align: middle;\n    }\n\n    .dataframe tbody tr th {\n        vertical-align: top;\n    }\n\n    .dataframe thead th {\n        text-align: right;\n    }\n</style>\n<table border=\"1\" class=\"dataframe\">\n  <thead>\n    <tr style=\"text-align: right;\">\n      <th></th>\n      <th>Metacritic</th>\n      <th>Indie</th>\n      <th>Presence</th>\n      <th>Platform</th>\n      <th>Memory</th>\n      <th>RatingsBreakdown</th>\n      <th>ReleaseDate</th>\n      <th>Soundtrack</th>\n      <th>OriginalCost</th>\n      <th>DiscountedCost</th>\n      <th>...</th>\n      <th>Achievements</th>\n      <th>Languages</th>\n      <th>Storage</th>\n      <th>Tags</th>\n      <th>Platform-Mobile</th>\n      <th>Platform-PC</th>\n      <th>Platform-Xbox</th>\n      <th>Platform-PlayStation</th>\n      <th>Platform-Nintendo</th>\n      <th>Platform-Sega</th>\n    </tr>\n  </thead>\n  <tbody>\n    <tr>\n      <th>0</th>\n      <td>Very good</td>\n      <td>False</td>\n      <td>1009588.0</td>\n      <td>PC, Xbox 360, PlayStation 3</td>\n      <td>2000.0</td>\n      <td>recommended: 882, meh: 501, exceptional: 283, ...</td>\n      <td>2012.0</td>\n      <td>False</td>\n      <td>0.00</td>\n      <td>0.0</td>\n      <td>...</td>\n      <td>179.0</td>\n      <td>English, Czech, Danish, Dutch, Finnish, French...</td>\n      <td>15000.0</td>\n      <td>FPS, Shooter, Multiplayer, Competitive, Action...</td>\n      <td>False</td>\n      <td>True</td>\n      <td>True</td>\n      <td>True</td>\n      <td>False</td>\n      <td>False</td>\n    </tr>\n    <tr>\n      <th>1</th>\n      <td>Very good</td>\n      <td>False</td>\n      <td>1007425.0</td>\n      <td>PlayStation 5, Web, Xbox Series X, PC, Xbox On...</td>\n      <td>6000.0</td>\n      <td>recommended: 726, meh: 465, exceptional: 227, ...</td>\n      <td>2017.0</td>\n      <td>False</td>\n      <td>0.00</td>\n      <td>0.0</td>\n      <td>...</td>\n      <td>61.0</td>\n      <td>English, French, Italian, German, Japanese, Ko...</td>\n      <td>105000.0</td>\n      <td>Free to Play, Looter Shooter, FPS, Multiplayer...</td>\n      <td>False</td>\n      <td>True</td>\n      <td>True</td>\n      <td>True</td>\n      <td>False</td>\n      <td>False</td>\n    </tr>\n    <tr>\n      <th>2</th>\n      <td>Very good</td>\n      <td>False</td>\n      <td>1009306.0</td>\n      <td>Linux, macOS, PC</td>\n      <td>4000.0</td>\n      <td>meh: 496, recommended: 446, skip: 371, excepti...</td>\n      <td>2013.0</td>\n      <td>False</td>\n      <td>0.00</td>\n      <td>0.0</td>\n      <td>...</td>\n      <td>0.0</td>\n      <td>English, Bulgarian, Czech, Danish, Dutch, Finn...</td>\n      <td>15000.0</td>\n      <td>Free to Play, MOBA, Multiplayer, Strategy, eSp...</td>\n      <td>False</td>\n      <td>True</td>\n      <td>False</td>\n      <td>False</td>\n      <td>False</td>\n      <td>False</td>\n    </tr>\n    <tr>\n      <th>3</th>\n      <td>Good</td>\n      <td>False</td>\n      <td>1000781.0</td>\n      <td>PC</td>\n      <td>3000.0</td>\n      <td>recommended: 21, meh: 12, exceptional: 5, skip: 1</td>\n      <td>2014.0</td>\n      <td>False</td>\n      <td>19.99</td>\n      <td>0.0</td>\n      <td>...</td>\n      <td>0.0</td>\n      <td>English, French, German, Russian</td>\n      <td>85000.0</td>\n      <td>RPG, MMORPG, Open World, Massively Multiplayer...</td>\n      <td>False</td>\n      <td>True</td>\n      <td>False</td>\n      <td>False</td>\n      <td>False</td>\n      <td>False</td>\n    </tr>\n    <tr>\n      <th>4</th>\n      <td>Good</td>\n      <td>False</td>\n      <td>777456.0</td>\n      <td>PC, Xbox One</td>\n      <td>4000.0</td>\n      <td>recommended: 198, meh: 131, exceptional: 62, s...</td>\n      <td>2018.0</td>\n      <td>False</td>\n      <td>39.99</td>\n      <td>0.0</td>\n      <td>...</td>\n      <td>308.0</td>\n      <td>English, French, Italian, German, Russian</td>\n      <td>50000.0</td>\n      <td>Adventure, Action, Pirates, Open World, Multip...</td>\n      <td>False</td>\n      <td>True</td>\n      <td>True</td>\n      <td>False</td>\n      <td>False</td>\n      <td>False</td>\n    </tr>\n    <tr>\n      <th>...</th>\n      <td>...</td>\n      <td>...</td>\n      <td>...</td>\n      <td>...</td>\n      <td>...</td>\n      <td>...</td>\n      <td>...</td>\n      <td>...</td>\n      <td>...</td>\n      <td>...</td>\n      <td>...</td>\n      <td>...</td>\n      <td>...</td>\n      <td>...</td>\n      <td>...</td>\n      <td>...</td>\n      <td>...</td>\n      <td>...</td>\n      <td>...</td>\n      <td>...</td>\n      <td>...</td>\n    </tr>\n    <tr>\n      <th>30245</th>\n      <td>NaN</td>\n      <td>True</td>\n      <td>105.0</td>\n      <td>PC</td>\n      <td>512.0</td>\n      <td>NaN</td>\n      <td>2018.0</td>\n      <td>False</td>\n      <td>0.99</td>\n      <td>0.0</td>\n      <td>...</td>\n      <td>0.0</td>\n      <td>English</td>\n      <td>10.0</td>\n      <td>Indie, Casual</td>\n      <td>False</td>\n      <td>True</td>\n      <td>False</td>\n      <td>False</td>\n      <td>False</td>\n      <td>False</td>\n    </tr>\n    <tr>\n      <th>30246</th>\n      <td>NaN</td>\n      <td>True</td>\n      <td>13.0</td>\n      <td>PC</td>\n      <td>6000.0</td>\n      <td>NaN</td>\n      <td>2017.0</td>\n      <td>False</td>\n      <td>0.99</td>\n      <td>0.0</td>\n      <td>...</td>\n      <td>0.0</td>\n      <td>English</td>\n      <td>2000.0</td>\n      <td>Indie, Puzzle, Pixel Graphics, Mystery, Experi...</td>\n      <td>False</td>\n      <td>True</td>\n      <td>False</td>\n      <td>False</td>\n      <td>False</td>\n      <td>False</td>\n    </tr>\n    <tr>\n      <th>30247</th>\n      <td>NaN</td>\n      <td>False</td>\n      <td>11.0</td>\n      <td>PC</td>\n      <td>2048.0</td>\n      <td>NaN</td>\n      <td>2018.0</td>\n      <td>False</td>\n      <td>1.99</td>\n      <td>0.0</td>\n      <td>...</td>\n      <td>0.0</td>\n      <td>English</td>\n      <td>2048.0</td>\n      <td>Casual</td>\n      <td>False</td>\n      <td>True</td>\n      <td>False</td>\n      <td>False</td>\n      <td>False</td>\n      <td>False</td>\n    </tr>\n    <tr>\n      <th>30248</th>\n      <td>NaN</td>\n      <td>True</td>\n      <td>423.0</td>\n      <td>PC</td>\n      <td>500.0</td>\n      <td>NaN</td>\n      <td>2017.0</td>\n      <td>False</td>\n      <td>0.99</td>\n      <td>0.0</td>\n      <td>...</td>\n      <td>0.0</td>\n      <td>English</td>\n      <td>300.0</td>\n      <td>Action, Adventure, Indie, Casual</td>\n      <td>False</td>\n      <td>True</td>\n      <td>False</td>\n      <td>False</td>\n      <td>False</td>\n      <td>False</td>\n    </tr>\n    <tr>\n      <th>30249</th>\n      <td>NaN</td>\n      <td>False</td>\n      <td>120.0</td>\n      <td>PC</td>\n      <td>4000.0</td>\n      <td>NaN</td>\n      <td>2016.0</td>\n      <td>False</td>\n      <td>0.99</td>\n      <td>0.0</td>\n      <td>...</td>\n      <td>0.0</td>\n      <td>English</td>\n      <td>1.0</td>\n      <td>Strategy, Casual, Simulation, VR</td>\n      <td>False</td>\n      <td>True</td>\n      <td>False</td>\n      <td>False</td>\n      <td>False</td>\n      <td>False</td>\n    </tr>\n  </tbody>\n</table>\n<p>30250 rows × 21 columns</p>\n</div>"
     },
     "metadata": {},
     "execution_count": 160
    }
   ],
   "source": [
    "platform = pd.Series(data['Platform']).str.get_dummies(', ')\n",
    "platform.columns\n",
    "data['Platform-Mobile'] = platform[['Android','iOS']].sum(axis = 1).apply(lambda x: x > 0) \n",
    "data['Platform-PC'] = platform[['Apple II','Atari ST', 'Classic Macintosh', 'Commodore / Amiga',  'Linux', 'PC', 'Web', 'macOS']].sum(axis = 1).apply(lambda x: x > 0)  \n",
    "data['Platform-Xbox'] = platform[['Xbox', 'Xbox 360', 'Xbox One']].sum(axis = 1).apply(lambda x: x > 0)  \n",
    "data['Platform-PlayStation'] = platform[['PS Vita', 'PSP', 'PlayStation', 'PlayStation 2', 'PlayStation 3', 'PlayStation 4']].sum(axis = 1).apply(lambda x: x > 0)  \n",
    "data['Platform-Nintendo'] = platform[['Game Boy', 'GameCube', 'Nintendo 3DS', 'Nintendo DS', 'Nintendo Switch', 'Wii', 'Wii U']].sum(axis = 1).apply(lambda x: x > 0) \n",
    "data['Platform-Sega'] = platform[['Dreamcast','Game Gear','Genesis','SEGA Master System', 'SEGA Saturn']].sum(axis = 1).apply(lambda x: x > 0) \n",
    "data"
   ]
  },
  {
   "cell_type": "code",
   "execution_count": 161,
   "metadata": {},
   "outputs": [
    {
     "output_type": "execute_result",
     "data": {
      "text/plain": [
       "      Metacritic  Indie   Presence  \\\n",
       "0      Very good  False  1009588.0   \n",
       "1      Very good  False  1007425.0   \n",
       "2      Very good  False  1009306.0   \n",
       "3           Good  False  1000781.0   \n",
       "4           Good  False   777456.0   \n",
       "...          ...    ...        ...   \n",
       "30245        NaN   True      105.0   \n",
       "30246        NaN   True       13.0   \n",
       "30247        NaN  False       11.0   \n",
       "30248        NaN   True      423.0   \n",
       "30249        NaN  False      120.0   \n",
       "\n",
       "                                                Platform  Memory  \\\n",
       "0                            PC, Xbox 360, PlayStation 3  2000.0   \n",
       "1      PlayStation 5, Web, Xbox Series X, PC, Xbox On...  6000.0   \n",
       "2                                       Linux, macOS, PC  4000.0   \n",
       "3                                                     PC  3000.0   \n",
       "4                                           PC, Xbox One  4000.0   \n",
       "...                                                  ...     ...   \n",
       "30245                                                 PC   512.0   \n",
       "30246                                                 PC  6000.0   \n",
       "30247                                                 PC  2048.0   \n",
       "30248                                                 PC   500.0   \n",
       "30249                                                 PC  4000.0   \n",
       "\n",
       "                                        RatingsBreakdown  ReleaseDate  \\\n",
       "0      recommended: 882, meh: 501, exceptional: 283, ...       2012.0   \n",
       "1      recommended: 726, meh: 465, exceptional: 227, ...       2017.0   \n",
       "2      meh: 496, recommended: 446, skip: 371, excepti...       2013.0   \n",
       "3      recommended: 21, meh: 12, exceptional: 5, skip: 1       2014.0   \n",
       "4      recommended: 198, meh: 131, exceptional: 62, s...       2018.0   \n",
       "...                                                  ...          ...   \n",
       "30245                                                NaN       2018.0   \n",
       "30246                                                NaN       2017.0   \n",
       "30247                                                NaN       2018.0   \n",
       "30248                                                NaN       2017.0   \n",
       "30249                                                NaN       2016.0   \n",
       "\n",
       "      Soundtrack  OriginalCost  DiscountedCost  ... Platform-Mobile  \\\n",
       "0          False          0.00             0.0  ...           False   \n",
       "1          False          0.00             0.0  ...           False   \n",
       "2          False          0.00             0.0  ...           False   \n",
       "3          False         19.99             0.0  ...           False   \n",
       "4          False         39.99             0.0  ...           False   \n",
       "...          ...           ...             ...  ...             ...   \n",
       "30245      False          0.99             0.0  ...           False   \n",
       "30246      False          0.99             0.0  ...           False   \n",
       "30247      False          1.99             0.0  ...           False   \n",
       "30248      False          0.99             0.0  ...           False   \n",
       "30249      False          0.99             0.0  ...           False   \n",
       "\n",
       "       Platform-PC Platform-Xbox  Platform-PlayStation Platform-Nintendo  \\\n",
       "0             True          True                  True             False   \n",
       "1             True          True                  True             False   \n",
       "2             True         False                 False             False   \n",
       "3             True         False                 False             False   \n",
       "4             True          True                 False             False   \n",
       "...            ...           ...                   ...               ...   \n",
       "30245         True         False                 False             False   \n",
       "30246         True         False                 False             False   \n",
       "30247         True         False                 False             False   \n",
       "30248         True         False                 False             False   \n",
       "30249         True         False                 False             False   \n",
       "\n",
       "       Platform-Sega  RatingsBreakdown-Recommended  RatingsBreakdown-Meh  \\\n",
       "0              False                         882.0                 501.0   \n",
       "1              False                         726.0                 465.0   \n",
       "2              False                         446.0                 496.0   \n",
       "3              False                          21.0                  12.0   \n",
       "4              False                         198.0                 131.0   \n",
       "...              ...                           ...                   ...   \n",
       "30245          False                           NaN                   NaN   \n",
       "30246          False                           NaN                   NaN   \n",
       "30247          False                           NaN                   NaN   \n",
       "30248          False                           NaN                   NaN   \n",
       "30249          False                           NaN                   NaN   \n",
       "\n",
       "       RatingsBreakdown-Exceptional  RatingsBreakdown-Skip  \n",
       "0                             283.0                  185.0  \n",
       "1                             227.0                  106.0  \n",
       "2                             228.0                  371.0  \n",
       "3                               5.0                    1.0  \n",
       "4                              62.0                   39.0  \n",
       "...                             ...                    ...  \n",
       "30245                           NaN                    NaN  \n",
       "30246                           NaN                    NaN  \n",
       "30247                           NaN                    NaN  \n",
       "30248                           NaN                    NaN  \n",
       "30249                           NaN                    NaN  \n",
       "\n",
       "[30250 rows x 25 columns]"
      ],
      "text/html": "<div>\n<style scoped>\n    .dataframe tbody tr th:only-of-type {\n        vertical-align: middle;\n    }\n\n    .dataframe tbody tr th {\n        vertical-align: top;\n    }\n\n    .dataframe thead th {\n        text-align: right;\n    }\n</style>\n<table border=\"1\" class=\"dataframe\">\n  <thead>\n    <tr style=\"text-align: right;\">\n      <th></th>\n      <th>Metacritic</th>\n      <th>Indie</th>\n      <th>Presence</th>\n      <th>Platform</th>\n      <th>Memory</th>\n      <th>RatingsBreakdown</th>\n      <th>ReleaseDate</th>\n      <th>Soundtrack</th>\n      <th>OriginalCost</th>\n      <th>DiscountedCost</th>\n      <th>...</th>\n      <th>Platform-Mobile</th>\n      <th>Platform-PC</th>\n      <th>Platform-Xbox</th>\n      <th>Platform-PlayStation</th>\n      <th>Platform-Nintendo</th>\n      <th>Platform-Sega</th>\n      <th>RatingsBreakdown-Recommended</th>\n      <th>RatingsBreakdown-Meh</th>\n      <th>RatingsBreakdown-Exceptional</th>\n      <th>RatingsBreakdown-Skip</th>\n    </tr>\n  </thead>\n  <tbody>\n    <tr>\n      <th>0</th>\n      <td>Very good</td>\n      <td>False</td>\n      <td>1009588.0</td>\n      <td>PC, Xbox 360, PlayStation 3</td>\n      <td>2000.0</td>\n      <td>recommended: 882, meh: 501, exceptional: 283, ...</td>\n      <td>2012.0</td>\n      <td>False</td>\n      <td>0.00</td>\n      <td>0.0</td>\n      <td>...</td>\n      <td>False</td>\n      <td>True</td>\n      <td>True</td>\n      <td>True</td>\n      <td>False</td>\n      <td>False</td>\n      <td>882.0</td>\n      <td>501.0</td>\n      <td>283.0</td>\n      <td>185.0</td>\n    </tr>\n    <tr>\n      <th>1</th>\n      <td>Very good</td>\n      <td>False</td>\n      <td>1007425.0</td>\n      <td>PlayStation 5, Web, Xbox Series X, PC, Xbox On...</td>\n      <td>6000.0</td>\n      <td>recommended: 726, meh: 465, exceptional: 227, ...</td>\n      <td>2017.0</td>\n      <td>False</td>\n      <td>0.00</td>\n      <td>0.0</td>\n      <td>...</td>\n      <td>False</td>\n      <td>True</td>\n      <td>True</td>\n      <td>True</td>\n      <td>False</td>\n      <td>False</td>\n      <td>726.0</td>\n      <td>465.0</td>\n      <td>227.0</td>\n      <td>106.0</td>\n    </tr>\n    <tr>\n      <th>2</th>\n      <td>Very good</td>\n      <td>False</td>\n      <td>1009306.0</td>\n      <td>Linux, macOS, PC</td>\n      <td>4000.0</td>\n      <td>meh: 496, recommended: 446, skip: 371, excepti...</td>\n      <td>2013.0</td>\n      <td>False</td>\n      <td>0.00</td>\n      <td>0.0</td>\n      <td>...</td>\n      <td>False</td>\n      <td>True</td>\n      <td>False</td>\n      <td>False</td>\n      <td>False</td>\n      <td>False</td>\n      <td>446.0</td>\n      <td>496.0</td>\n      <td>228.0</td>\n      <td>371.0</td>\n    </tr>\n    <tr>\n      <th>3</th>\n      <td>Good</td>\n      <td>False</td>\n      <td>1000781.0</td>\n      <td>PC</td>\n      <td>3000.0</td>\n      <td>recommended: 21, meh: 12, exceptional: 5, skip: 1</td>\n      <td>2014.0</td>\n      <td>False</td>\n      <td>19.99</td>\n      <td>0.0</td>\n      <td>...</td>\n      <td>False</td>\n      <td>True</td>\n      <td>False</td>\n      <td>False</td>\n      <td>False</td>\n      <td>False</td>\n      <td>21.0</td>\n      <td>12.0</td>\n      <td>5.0</td>\n      <td>1.0</td>\n    </tr>\n    <tr>\n      <th>4</th>\n      <td>Good</td>\n      <td>False</td>\n      <td>777456.0</td>\n      <td>PC, Xbox One</td>\n      <td>4000.0</td>\n      <td>recommended: 198, meh: 131, exceptional: 62, s...</td>\n      <td>2018.0</td>\n      <td>False</td>\n      <td>39.99</td>\n      <td>0.0</td>\n      <td>...</td>\n      <td>False</td>\n      <td>True</td>\n      <td>True</td>\n      <td>False</td>\n      <td>False</td>\n      <td>False</td>\n      <td>198.0</td>\n      <td>131.0</td>\n      <td>62.0</td>\n      <td>39.0</td>\n    </tr>\n    <tr>\n      <th>...</th>\n      <td>...</td>\n      <td>...</td>\n      <td>...</td>\n      <td>...</td>\n      <td>...</td>\n      <td>...</td>\n      <td>...</td>\n      <td>...</td>\n      <td>...</td>\n      <td>...</td>\n      <td>...</td>\n      <td>...</td>\n      <td>...</td>\n      <td>...</td>\n      <td>...</td>\n      <td>...</td>\n      <td>...</td>\n      <td>...</td>\n      <td>...</td>\n      <td>...</td>\n      <td>...</td>\n    </tr>\n    <tr>\n      <th>30245</th>\n      <td>NaN</td>\n      <td>True</td>\n      <td>105.0</td>\n      <td>PC</td>\n      <td>512.0</td>\n      <td>NaN</td>\n      <td>2018.0</td>\n      <td>False</td>\n      <td>0.99</td>\n      <td>0.0</td>\n      <td>...</td>\n      <td>False</td>\n      <td>True</td>\n      <td>False</td>\n      <td>False</td>\n      <td>False</td>\n      <td>False</td>\n      <td>NaN</td>\n      <td>NaN</td>\n      <td>NaN</td>\n      <td>NaN</td>\n    </tr>\n    <tr>\n      <th>30246</th>\n      <td>NaN</td>\n      <td>True</td>\n      <td>13.0</td>\n      <td>PC</td>\n      <td>6000.0</td>\n      <td>NaN</td>\n      <td>2017.0</td>\n      <td>False</td>\n      <td>0.99</td>\n      <td>0.0</td>\n      <td>...</td>\n      <td>False</td>\n      <td>True</td>\n      <td>False</td>\n      <td>False</td>\n      <td>False</td>\n      <td>False</td>\n      <td>NaN</td>\n      <td>NaN</td>\n      <td>NaN</td>\n      <td>NaN</td>\n    </tr>\n    <tr>\n      <th>30247</th>\n      <td>NaN</td>\n      <td>False</td>\n      <td>11.0</td>\n      <td>PC</td>\n      <td>2048.0</td>\n      <td>NaN</td>\n      <td>2018.0</td>\n      <td>False</td>\n      <td>1.99</td>\n      <td>0.0</td>\n      <td>...</td>\n      <td>False</td>\n      <td>True</td>\n      <td>False</td>\n      <td>False</td>\n      <td>False</td>\n      <td>False</td>\n      <td>NaN</td>\n      <td>NaN</td>\n      <td>NaN</td>\n      <td>NaN</td>\n    </tr>\n    <tr>\n      <th>30248</th>\n      <td>NaN</td>\n      <td>True</td>\n      <td>423.0</td>\n      <td>PC</td>\n      <td>500.0</td>\n      <td>NaN</td>\n      <td>2017.0</td>\n      <td>False</td>\n      <td>0.99</td>\n      <td>0.0</td>\n      <td>...</td>\n      <td>False</td>\n      <td>True</td>\n      <td>False</td>\n      <td>False</td>\n      <td>False</td>\n      <td>False</td>\n      <td>NaN</td>\n      <td>NaN</td>\n      <td>NaN</td>\n      <td>NaN</td>\n    </tr>\n    <tr>\n      <th>30249</th>\n      <td>NaN</td>\n      <td>False</td>\n      <td>120.0</td>\n      <td>PC</td>\n      <td>4000.0</td>\n      <td>NaN</td>\n      <td>2016.0</td>\n      <td>False</td>\n      <td>0.99</td>\n      <td>0.0</td>\n      <td>...</td>\n      <td>False</td>\n      <td>True</td>\n      <td>False</td>\n      <td>False</td>\n      <td>False</td>\n      <td>False</td>\n      <td>NaN</td>\n      <td>NaN</td>\n      <td>NaN</td>\n      <td>NaN</td>\n    </tr>\n  </tbody>\n</table>\n<p>30250 rows × 25 columns</p>\n</div>"
     },
     "metadata": {},
     "execution_count": 161
    }
   ],
   "source": [
    "def RatingsBreakdown(x):\n",
    "    x = x.split(', ')\n",
    "    result = [np.nan, np.nan, np.nan, np.nan]\n",
    "    for i in x:\n",
    "        if i.split(' ')[0] == 'recommended:':\n",
    "            result[0] = float(i.split(' ')[1])\n",
    "        elif i.split(' ')[0] == 'meh:':\n",
    "            result[1] = float(i.split(' ')[1])\n",
    "        elif i.split(' ')[0] == 'exceptional:':\n",
    "            result[2] = float(i.split(' ')[1])\n",
    "        elif i.split(' ')[0] == 'skip:':\n",
    "            result[3] = float(i.split(' ')[1])\n",
    "    return result  \n",
    "        \n",
    "df_aux = pd.DataFrame(data[data['RatingsBreakdown'].notna()]['RatingsBreakdown'].apply(lambda x: RatingsBreakdown(x)))\n",
    "df_aux = pd.DataFrame(df_aux.RatingsBreakdown.values.tolist(),index = data[data['RatingsBreakdown'].notna()]['RatingsBreakdown'].index, columns=['RatingsBreakdown-Recommended','RatingsBreakdown-Meh','RatingsBreakdown-Exceptional','RatingsBreakdown-Skip'])\n",
    "data = data.join(df_aux)\n",
    "data"
   ]
  },
  {
   "cell_type": "code",
   "execution_count": 162,
   "metadata": {},
   "outputs": [],
   "source": [
    "#Tags = pd.Series(data['Tags']).str.get_dummies(', ').apply(lambda x: x > 0)\n",
    "#del Tags['Indie']\n",
    "#del Tags['Soundtrack']\n",
    "#del Tags['Controller']\n",
    "#Languages = pd.Series(data['Languages']).str.get_dummies(', ').apply(lambda x: x > 0)\n",
    "#Metacritic = pd.Series(data['Metacritic']).str.get_dummies(', ')\n",
    "\n",
    "\n",
    "#data = data.join(Tags)\n",
    "#data = data.join(Languages)\n",
    "#data = data.join(Metacritic)"
   ]
  },
  {
   "cell_type": "code",
   "execution_count": 163,
   "metadata": {},
   "outputs": [],
   "source": [
    "del data['RatingsBreakdown']\n",
    "del data['Platform']\n",
    "del data['Tags']\n",
    "del data['Languages']"
   ]
  },
  {
   "cell_type": "code",
   "execution_count": 164,
   "metadata": {},
   "outputs": [
    {
     "output_type": "stream",
     "name": "stdout",
     "text": [
      "Metacritic 13.447\nIndie 0.1025\nPresence 0.047\nMemory 0.9725\nReleaseDate 1.613\nSoundtrack 0.1025\nOriginalCost 0.373\nDiscountedCost 0.0\nController 0.137\nAchievements 0.047\nStorage 1.381\nPlatform-Mobile 0.0\nPlatform-PC 0.0\nPlatform-Xbox 0.0\nPlatform-PlayStation 0.0\nPlatform-Nintendo 0.0\nPlatform-Sega 0.0\nRatingsBreakdown-Recommended 10.137\nRatingsBreakdown-Meh 9.7875\nRatingsBreakdown-Exceptional 11.1335\nRatingsBreakdown-Skip 10.178\n"
     ]
    }
   ],
   "source": [
    "for name in data.columns:\n",
    "    print(name, data[name].isna().sum()/2000)"
   ]
  },
  {
   "cell_type": "code",
   "execution_count": 165,
   "metadata": {},
   "outputs": [
    {
     "output_type": "error",
     "ename": "ValueError",
     "evalue": "Sample larger than population or is negative",
     "traceback": [
      "\u001b[1;31m---------------------------------------------------------------------------\u001b[0m",
      "\u001b[1;31mValueError\u001b[0m                                Traceback (most recent call last)",
      "\u001b[1;32m<ipython-input-165-d84d8512e2b8>\u001b[0m in \u001b[0;36m<module>\u001b[1;34m\u001b[0m\n\u001b[0;32m      2\u001b[0m \u001b[0mdata\u001b[0m \u001b[1;33m=\u001b[0m \u001b[0mdata\u001b[0m\u001b[1;33m.\u001b[0m\u001b[0mdropna\u001b[0m\u001b[1;33m(\u001b[0m\u001b[0msubset\u001b[0m\u001b[1;33m=\u001b[0m\u001b[1;33m[\u001b[0m\u001b[1;34m'Metacritic'\u001b[0m\u001b[1;33m]\u001b[0m\u001b[1;33m,\u001b[0m \u001b[0maxis\u001b[0m\u001b[1;33m=\u001b[0m\u001b[1;34m'index'\u001b[0m\u001b[1;33m)\u001b[0m\u001b[1;33m\u001b[0m\u001b[1;33m\u001b[0m\u001b[0m\n\u001b[0;32m      3\u001b[0m \u001b[0mx\u001b[0m \u001b[1;33m=\u001b[0m \u001b[1;33m[\u001b[0m\u001b[0my\u001b[0m \u001b[1;32mfor\u001b[0m \u001b[0my\u001b[0m \u001b[1;32min\u001b[0m \u001b[0mrange\u001b[0m\u001b[1;33m(\u001b[0m\u001b[0mlen\u001b[0m\u001b[1;33m(\u001b[0m\u001b[0mdata\u001b[0m\u001b[1;33m)\u001b[0m\u001b[1;33m)\u001b[0m\u001b[1;33m]\u001b[0m\u001b[1;33m\u001b[0m\u001b[1;33m\u001b[0m\u001b[0m\n\u001b[1;32m----> 4\u001b[1;33m \u001b[0mx\u001b[0m \u001b[1;33m=\u001b[0m \u001b[0mrand\u001b[0m\u001b[1;33m.\u001b[0m\u001b[0msample\u001b[0m\u001b[1;33m(\u001b[0m\u001b[0mx\u001b[0m\u001b[1;33m,\u001b[0m \u001b[1;36m5000\u001b[0m\u001b[1;33m)\u001b[0m\u001b[1;33m\u001b[0m\u001b[1;33m\u001b[0m\u001b[0m\n\u001b[0m\u001b[0;32m      5\u001b[0m \u001b[0mdata\u001b[0m \u001b[1;33m=\u001b[0m \u001b[0mdata\u001b[0m\u001b[1;33m.\u001b[0m\u001b[0miloc\u001b[0m\u001b[1;33m[\u001b[0m\u001b[0mx\u001b[0m\u001b[1;33m]\u001b[0m\u001b[1;33m\u001b[0m\u001b[1;33m\u001b[0m\u001b[0m\n\u001b[0;32m      6\u001b[0m \u001b[1;31m#del data['Metacritic']\u001b[0m\u001b[1;33m\u001b[0m\u001b[1;33m\u001b[0m\u001b[1;33m\u001b[0m\u001b[0m\n",
      "\u001b[1;32m~\\anaconda3\\lib\\random.py\u001b[0m in \u001b[0;36msample\u001b[1;34m(self, population, k)\u001b[0m\n\u001b[0;32m    361\u001b[0m         \u001b[0mn\u001b[0m \u001b[1;33m=\u001b[0m \u001b[0mlen\u001b[0m\u001b[1;33m(\u001b[0m\u001b[0mpopulation\u001b[0m\u001b[1;33m)\u001b[0m\u001b[1;33m\u001b[0m\u001b[1;33m\u001b[0m\u001b[0m\n\u001b[0;32m    362\u001b[0m         \u001b[1;32mif\u001b[0m \u001b[1;32mnot\u001b[0m \u001b[1;36m0\u001b[0m \u001b[1;33m<=\u001b[0m \u001b[0mk\u001b[0m \u001b[1;33m<=\u001b[0m \u001b[0mn\u001b[0m\u001b[1;33m:\u001b[0m\u001b[1;33m\u001b[0m\u001b[1;33m\u001b[0m\u001b[0m\n\u001b[1;32m--> 363\u001b[1;33m             \u001b[1;32mraise\u001b[0m \u001b[0mValueError\u001b[0m\u001b[1;33m(\u001b[0m\u001b[1;34m\"Sample larger than population or is negative\"\u001b[0m\u001b[1;33m)\u001b[0m\u001b[1;33m\u001b[0m\u001b[1;33m\u001b[0m\u001b[0m\n\u001b[0m\u001b[0;32m    364\u001b[0m         \u001b[0mresult\u001b[0m \u001b[1;33m=\u001b[0m \u001b[1;33m[\u001b[0m\u001b[1;32mNone\u001b[0m\u001b[1;33m]\u001b[0m \u001b[1;33m*\u001b[0m \u001b[0mk\u001b[0m\u001b[1;33m\u001b[0m\u001b[1;33m\u001b[0m\u001b[0m\n\u001b[0;32m    365\u001b[0m         \u001b[0msetsize\u001b[0m \u001b[1;33m=\u001b[0m \u001b[1;36m21\u001b[0m        \u001b[1;31m# size of a small set minus size of an empty list\u001b[0m\u001b[1;33m\u001b[0m\u001b[1;33m\u001b[0m\u001b[0m\n",
      "\u001b[1;31mValueError\u001b[0m: Sample larger than population or is negative"
     ]
    }
   ],
   "source": [
    "rand.seed(random)\n",
    "data = data.dropna(subset=['Metacritic'], axis='index')\n",
    "x = [y for y in range(len(data))]\n",
    "x = rand.sample(x, 3000)\n",
    "data = data.iloc[x]\n",
    "#del data['Metacritic']\n",
    "data"
   ]
  },
  {
   "cell_type": "code",
   "execution_count": null,
   "metadata": {},
   "outputs": [],
   "source": [
    "for col in data.columns:\n",
    "    if len(data[col].unique()) == 1:\n",
    "        data.drop(col,inplace=True,axis=1)"
   ]
  },
  {
   "cell_type": "code",
   "execution_count": null,
   "metadata": {
    "tags": [
     "outputPrepend"
    ]
   },
   "outputs": [],
   "source": [
    "for name in data.columns:\n",
    "    lis = data[name].unique()\n",
    "    print('\\033[1m'+name+'\\033[0;0m')\n",
    "    print(lis)"
   ]
  },
  {
   "cell_type": "code",
   "execution_count": null,
   "metadata": {},
   "outputs": [],
   "source": [
    "from scipy import stats"
   ]
  },
  {
   "cell_type": "code",
   "execution_count": null,
   "metadata": {},
   "outputs": [],
   "source": [
    "col =['Presence', 'Memory', 'ReleaseDate', 'Achievements', 'Storage']\n",
    "out = None\n",
    "for name in col:\n",
    "    data = data[~(data[name] - data[name].mean() > 3*data[name].std())]"
   ]
  },
  {
   "cell_type": "code",
   "execution_count": null,
   "metadata": {},
   "outputs": [],
   "source": [
    "data"
   ]
  },
  {
   "cell_type": "code",
   "execution_count": null,
   "metadata": {},
   "outputs": [],
   "source": [
    "data.to_csv('games_clean.csv', index=False)"
   ]
  }
 ],
 "metadata": {
  "kernelspec": {
   "display_name": "Python 3",
   "language": "python",
   "name": "python3"
  },
  "language_info": {
   "codemirror_mode": {
    "name": "ipython",
    "version": 3
   },
   "file_extension": ".py",
   "mimetype": "text/x-python",
   "name": "python",
   "nbconvert_exporter": "python",
   "pygments_lexer": "ipython3",
   "version": "3.8.5-final"
  }
 },
 "nbformat": 4,
 "nbformat_minor": 4
}