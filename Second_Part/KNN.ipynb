{
 "cells": [
  {
   "cell_type": "code",
   "execution_count": null,
   "metadata": {},
   "outputs": [],
   "source": [
    "import pandas as pd\n",
    "import re\n",
    "from sklearn.neighbors import KNeighborsClassifier\n",
    "from sklearn.impute import KNNImputer\n",
    "from sklearn import preprocessing\n",
    "import random as rand\n",
    "import numpy as np\n",
    "import math"
   ]
  },
  {
   "cell_type": "code",
   "execution_count": null,
   "metadata": {
    "scrolled": false
   },
   "outputs": [],
   "source": [
    "data = pd.read_csv('games_clean.csv')\n",
    "labels_num = ['Presence','Memory','ReleaseDate','OriginalCost','DiscountedCost','Achievements','Storage',\n",
    "                'RatingsBreakdown-Recommended','RatingsBreakdown-Meh','RatingsBreakdown-Exceptional','RatingsBreakdown-Skip',\n",
    "              'Metacritic']"
   ]
  },
  {
   "cell_type": "code",
   "execution_count": null,
   "metadata": {},
   "outputs": [],
   "source": [
    "le = preprocessing.LabelEncoder()\n",
    "data.loc[data['Metacritic'].notna(),'Metacritic'] = le.fit_transform(data[data['Metacritic'].notna()]['Metacritic'])\n",
    "dataNum = data[labels_num]\n",
    "dataNum"
   ]
  },
  {
   "cell_type": "code",
   "execution_count": null,
   "metadata": {},
   "outputs": [],
   "source": [
    "new_labels_num = ['Presence','Memory','ReleaseDate','OriginalCost','DiscountedCost','Achievements','Storage',\n",
    "                'RatingsBreakdown-Recommended','RatingsBreakdown-Meh','RatingsBreakdown-Exceptional','RatingsBreakdown-Skip',\n",
    "              'Metacritic_0', 'Metacritic_1', 'Metacritic_2', 'Metacritic_3']\n",
    "\n",
    "dataDummy = pd.get_dummies(dataNum, columns=[\"Metacritic\"])\n",
    "dataDummy['Metacritic_3'] = [0] * len(dataDummy) # Ninguno tiene 3\n",
    "dataDummy"
   ]
  },
  {
   "cell_type": "code",
   "execution_count": null,
   "metadata": {},
   "outputs": [],
   "source": [
    "m0 = dataDummy.Metacritic_0 == 0\n",
    "m1 = dataDummy.Metacritic_1 == 0\n",
    "m2 = dataDummy.Metacritic_2 == 0\n",
    "m3 = dataDummy.Metacritic_3 == 0\n",
    "dataDummy.loc[m0 & m1 & m2 & m3, \"Metacritic_0\"] = np.nan\n",
    "dataDummy.loc[m0 & m1 & m2 & m3, \"Metacritic_1\"] = np.nan\n",
    "dataDummy.loc[m0 & m1 & m2 & m3, \"Metacritic_2\"] = np.nan\n",
    "dataDummy.loc[m0 & m1 & m2 & m3, \"Metacritic_3\"] = np.nan\n",
    "dataDummy"
   ]
  },
  {
   "cell_type": "code",
   "execution_count": null,
   "metadata": {},
   "outputs": [],
   "source": [
    "imputer = KNNImputer(n_neighbors=5,weights='uniform')\n",
    "#dataNumImp = imputer.fit_transform(dataNum)\n",
    "#dfNum = pd.DataFrame(dataNumImp, columns=labels_num)\n",
    "dataNumImp = imputer.fit_transform(dataDummy)\n",
    "dfNum = pd.DataFrame(dataNumImp, columns=new_labels_num)"
   ]
  },
  {
   "cell_type": "code",
   "execution_count": null,
   "metadata": {},
   "outputs": [],
   "source": [
    "for i in range(len(dfNum['ReleaseDate'])):\n",
    "    dfNum['ReleaseDate'][i] = math.floor(dfNum['ReleaseDate'][i])\n",
    "    \n",
    "for i in range(len(dfNum['OriginalCost'])):\n",
    "    dfNum['OriginalCost'][i] = round(dfNum['OriginalCost'][i], 2)\n",
    "\n",
    "cols_to_round = ['Achievements', 'RatingsBreakdown-Recommended', 'RatingsBreakdown-Meh', \n",
    "                'RatingsBreakdown-Exceptional', 'RatingsBreakdown-Skip']\n",
    "for colunm in cols_to_round:\n",
    "    for i in range(len(dfNum[colunm])):\n",
    "        dfNum[colunm][i] = round(dfNum[colunm][i])"
   ]
  },
  {
   "cell_type": "code",
   "execution_count": null,
   "metadata": {
    "scrolled": true
   },
   "outputs": [],
   "source": [
    "for name in dfNum.columns:\n",
    "    lis = dfNum[name].unique()\n",
    "    print('\\033[1m'+name+'\\033[0;0m')\n",
    "    print(lis)\n",
    "    print('Number of na: ' +str(dfNum[name].isna().sum()))"
   ]
  },
  {
   "cell_type": "code",
   "execution_count": null,
   "metadata": {},
   "outputs": [],
   "source": [
    "dfNum[dfNum.Metacritic_0 >= 0.5].head()"
   ]
  },
  {
   "cell_type": "code",
   "execution_count": null,
   "metadata": {},
   "outputs": [],
   "source": [
    "dfNum[dfNum.Metacritic_1 >= 0.5].head()"
   ]
  },
  {
   "cell_type": "code",
   "execution_count": null,
   "metadata": {},
   "outputs": [],
   "source": [
    "dfNum[dfNum.Metacritic_2 >= 0.5].head()"
   ]
  },
  {
   "cell_type": "code",
   "execution_count": null,
   "metadata": {},
   "outputs": [],
   "source": [
    "X = dfNum.drop(['Metacritic'],axis=1)         # Data\n",
    "y = dfNum['Metacritic'].astype(int)           # Labels\n",
    "\n",
    "print(X.shape)\n",
    "print(y.shape)"
   ]
  },
  {
   "cell_type": "code",
   "execution_count": null,
   "metadata": {
    "scrolled": true
   },
   "outputs": [],
   "source": [
    "from sklearn.model_selection import StratifiedKFold\n",
    "from sklearn.model_selection import cross_val_score\n",
    "import sklearn.neighbors as nb\n",
    "\n",
    "cv = StratifiedKFold(n_splits=10) \n",
    "\n",
    "cv_scores = cross_val_score(nb.KNeighborsClassifier(), X=X,y=y, cv=cv, scoring='accuracy')  \n",
    "np.mean(cv_scores)"
   ]
  },
  {
   "cell_type": "code",
   "execution_count": null,
   "metadata": {
    "scrolled": true
   },
   "outputs": [],
   "source": [
    "neigh = KNeighborsClassifier(n_neighbors=5)\n",
    "neigh.fit(dfNum,labels_num)"
   ]
  },
  {
   "cell_type": "code",
   "execution_count": null,
   "metadata": {},
   "outputs": [],
   "source": [
    "dataNum.hist(figsize=(20,20))"
   ]
  },
  {
   "cell_type": "code",
   "execution_count": null,
   "metadata": {},
   "outputs": [],
   "source": [
    "dataNumImp.hist(figsize=(20,20))"
   ]
  }
 ],
 "metadata": {
  "kernelspec": {
   "display_name": "Python [conda env:md-upc]",
   "language": "python",
   "name": "conda-env-md-upc-py"
  },
  "language_info": {
   "codemirror_mode": {
    "name": "ipython",
    "version": 3
   },
   "file_extension": ".py",
   "mimetype": "text/x-python",
   "name": "python",
   "nbconvert_exporter": "python",
   "pygments_lexer": "ipython3",
   "version": "3.7.9"
  }
 },
 "nbformat": 4,
 "nbformat_minor": 4
}
