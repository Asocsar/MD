{
 "cells": [
  {
   "cell_type": "code",
   "execution_count": null,
   "metadata": {},
   "outputs": [],
   "source": [
    "import pandas as pd\n",
    "import re\n",
    "from sklearn.neighbors import KNeighborsClassifier\n",
    "from sklearn.preprocessing import MinMaxScaler\n",
    "from sklearn.impute import KNNImputer\n",
    "from sklearn import preprocessing\n",
    "import random as rand\n",
    "import numpy as np\n",
    "import math"
   ]
  },
  {
   "cell_type": "code",
   "execution_count": null,
   "metadata": {
    "scrolled": false
   },
   "outputs": [],
   "source": [
    "data = pd.read_csv('games_clean.csv')\n",
    "labels_num = ['Presence','Memory','ReleaseDate','OriginalCost','DiscountedCost','Achievements','Storage',\n",
    "                'RatingsBreakdown-Recommended','RatingsBreakdown-Meh','RatingsBreakdown-Exceptional','RatingsBreakdown-Skip',\n",
    "              'Metacritic']"
   ]
  },
  {
   "cell_type": "code",
   "execution_count": null,
   "metadata": {
    "scrolled": true
   },
   "outputs": [],
   "source": [
    "#le = preprocessing.LabelEncoder()\n",
    "#data.loc[data['Metacritic'].notna(),'Metacritic'] = le.fit_transform(data[data['Metacritic'].notna()]['Metacritic'])\n",
    "dataNum = data[labels_num]\n",
    "dataNum"
   ]
  },
  {
   "cell_type": "code",
   "execution_count": null,
   "metadata": {},
   "outputs": [],
   "source": [
    "pd.get_dummies(pd.Series(list('bcaa')))"
   ]
  },
  {
   "cell_type": "code",
   "execution_count": null,
   "metadata": {},
   "outputs": [],
   "source": [
    "new_labels_num = ['Presence','Memory','ReleaseDate','OriginalCost','DiscountedCost','Achievements','Storage',\n",
    "                'RatingsBreakdown-Recommended','RatingsBreakdown-Meh','RatingsBreakdown-Exceptional','RatingsBreakdown-Skip',\n",
    "              'Metacritic_Bad', 'Metacritic_Good', 'Metacritic_Verygood', 'Metacritic_Verybad']\n",
    "\n",
    "dataDummy = pd.get_dummies(dataNum, columns=[\"Metacritic\"])\n",
    "dataDummy['Metacritic_Verybad'] = [0] * len(dataDummy) # Ninguno tiene 3\n",
    "dataDummy = dataDummy.rename(columns={\"Metacritic_Very good\": \"Metacritic_Verygood\"})\n",
    "dataDummy"
   ]
  },
  {
   "cell_type": "code",
   "execution_count": null,
   "metadata": {},
   "outputs": [],
   "source": [
    "dataDummy['Metacritic_Bad'] = dataDummy['Metacritic_Bad'].astype(int)\n",
    "dataDummy['Metacritic_Good'] = dataDummy['Metacritic_Good'].astype(int)\n",
    "dataDummy['Metacritic_Verygood'] = dataDummy['Metacritic_Verygood'].astype(int)\n",
    "dataDummy['Metacritic_Verybad'] = dataDummy['Metacritic_Verybad'].astype(int)\n",
    "\n",
    "dataDummy['Metacritic_Bad'].dtype\n",
    "dataDummy"
   ]
  },
  {
   "cell_type": "code",
   "execution_count": null,
   "metadata": {
    "scrolled": true
   },
   "outputs": [],
   "source": [
    "m0 = dataDummy.Metacritic_Bad == 0\n",
    "m1 = dataDummy.Metacritic_Good == 0\n",
    "m2 = dataDummy.Metacritic_Verygood == 0\n",
    "m3 = dataDummy.Metacritic_Verybad == 0\n",
    "dataDummy.loc[m0 & m1 & m2 & m3, \"Metacritic_Bad\"] = np.nan\n",
    "dataDummy.loc[m0 & m1 & m2 & m3, \"Metacritic_Good\"] = np.nan\n",
    "dataDummy.loc[m0 & m1 & m2 & m3, \"Metacritic_Verygood\"] = np.nan\n",
    "dataDummy.loc[m0 & m1 & m2 & m3, \"Metacritic_Verybad\"] = np.nan\n",
    "\n",
    "dataDummy[dataDummy['Metacritic_Bad'].notna(),'Metacritic_Bad'] = (dataDummy[dataDummy['Metacritic_Bad'].notna()]['Metacritic_Bad']).astype(int)\n",
    "dataDummy[dataDummy.Metacritic_Good.notna(),'Metacritic_Good'] = dataDummy[dataDummy.Metacritic_Good.notna()].astype(int)\n",
    "dataDummy[dataDummy.Metacritic_Verygood.notna(),'Metacritic_Verygood'] = dataDummy[dataDummy.Metacritic_Verygood.notna()].astype(int)\n",
    "dataDummy[dataDummy.Metacritic_Verybad.notna(),'Metacritic_Verybad'] = dataDummy[dataDummy.Metacritic_Verybad.notna()].astype(int)\n",
    "\n",
    "\n",
    "\n",
    "#dataDummy[['Metacritic_Bad','Metacritic_Good','Metacritic_Verygood','Metacritic_Verybad']].convert_dtypes()\n",
    "#pd.to_numeric(dataDummy['Metacritic_Bad'], downcast='signed')\n",
    "\n",
    "dataDummy"
   ]
  },
  {
   "cell_type": "code",
   "execution_count": null,
   "metadata": {},
   "outputs": [],
   "source": [
    "scaler = MinMaxScaler()\n",
    "scaler.fit(dataDummy)\n",
    "dataDummy = pd.DataFrame(scaler.transform(dataDummy), columns = dataDummy.columns)\n",
    "dataDummy.head()"
   ]
  },
  {
   "cell_type": "code",
   "execution_count": null,
   "metadata": {},
   "outputs": [],
   "source": [
    "imputer = KNNImputer(n_neighbors=5,weights='distance')\n",
    "#dataNumImp = imputer.fit_transform(dataNum)\n",
    "#dfNum = pd.DataFrame(dataNumImp, columns=labels_num)\n",
    "dataNumImp = imputer.fit_transform(dataDummy)\n",
    "dfNum = pd.DataFrame(dataNumImp, columns=new_labels_num)"
   ]
  },
  {
   "cell_type": "code",
   "execution_count": null,
   "metadata": {},
   "outputs": [],
   "source": [
    "for i in range(len(dfNum['ReleaseDate'])):\n",
    "    dfNum['ReleaseDate'][i] = math.floor(dfNum['ReleaseDate'][i])\n",
    "    \n",
    "for i in range(len(dfNum['OriginalCost'])):\n",
    "    dfNum['OriginalCost'][i] = round(dfNum['OriginalCost'][i], 2)\n",
    "\n",
    "cols_to_round = ['Achievements', 'RatingsBreakdown-Recommended', 'RatingsBreakdown-Meh', \n",
    "                'RatingsBreakdown-Exceptional', 'RatingsBreakdown-Skip']\n",
    "for colunm in cols_to_round:\n",
    "    for i in range(len(dfNum[colunm])):\n",
    "        dfNum[colunm][i] = round(dfNum[colunm][i])"
   ]
  },
  {
   "cell_type": "code",
   "execution_count": null,
   "metadata": {},
   "outputs": [],
   "source": [
    "#dataDummy = pd.DataFrame(scaler.inverse_transform(dataDummy), columns = dataDummy.columns)\n",
    "#dataDummy.head()"
   ]
  },
  {
   "cell_type": "code",
   "execution_count": null,
   "metadata": {
    "scrolled": true
   },
   "outputs": [],
   "source": [
    "for name in dfNum.columns:\n",
    "    lis = dfNum[name].unique()\n",
    "    print('\\033[1m'+name+'\\033[0;0m')\n",
    "    print(lis)\n",
    "    print('Number of na: ' +str(dfNum[name].isna().sum()))"
   ]
  },
  {
   "cell_type": "code",
   "execution_count": null,
   "metadata": {},
   "outputs": [],
   "source": [
    "dfNum.head()"
   ]
  },
  {
   "cell_type": "code",
   "execution_count": null,
   "metadata": {},
   "outputs": [],
   "source": [
    "dfNum[dfNum.Metacritic_1 >= 0.5].head()"
   ]
  },
  {
   "cell_type": "code",
   "execution_count": null,
   "metadata": {},
   "outputs": [],
   "source": [
    "dfNum[dfNum.Metacritic_2 >= 0.5].head()"
   ]
  },
  {
   "cell_type": "code",
   "execution_count": null,
   "metadata": {},
   "outputs": [],
   "source": [
    "X = dfNum.drop(['Metacritic'],axis=1)         # Data\n",
    "y = dfNum['Metacritic'].astype(int)           # Labels\n",
    "\n",
    "print(X.shape)\n",
    "print(y.shape)"
   ]
  },
  {
   "cell_type": "code",
   "execution_count": null,
   "metadata": {
    "scrolled": true
   },
   "outputs": [],
   "source": [
    "from sklearn.model_selection import StratifiedKFold\n",
    "from sklearn.model_selection import cross_val_score\n",
    "import sklearn.neighbors as nb\n",
    "\n",
    "cv = StratifiedKFold(n_splits=10) \n",
    "\n",
    "cv_scores = cross_val_score(nb.KNeighborsClassifier(), X=X,y=y, cv=cv, scoring='accuracy')  \n",
    "np.mean(cv_scores)"
   ]
  },
  {
   "cell_type": "code",
   "execution_count": null,
   "metadata": {
    "scrolled": true
   },
   "outputs": [],
   "source": [
    "neigh = KNeighborsClassifier(n_neighbors=5)\n",
    "neigh.fit(dfNum,labels_num)"
   ]
  },
  {
   "cell_type": "code",
   "execution_count": null,
   "metadata": {},
   "outputs": [],
   "source": [
    "dataNum.hist(figsize=(20,20))"
   ]
  },
  {
   "cell_type": "code",
   "execution_count": null,
   "metadata": {},
   "outputs": [],
   "source": [
    "dataNumImp.hist(figsize=(20,20))"
   ]
  }
 ],
 "metadata": {
  "kernelspec": {
   "display_name": "Python 3",
   "language": "python",
   "name": "python3"
  },
  "language_info": {
   "codemirror_mode": {
    "name": "ipython",
    "version": 3
   },
   "file_extension": ".py",
   "mimetype": "text/x-python",
   "name": "python",
   "nbconvert_exporter": "python",
   "pygments_lexer": "ipython3",
   "version": "3.8.3"
  }
 },
 "nbformat": 4,
 "nbformat_minor": 4
}
