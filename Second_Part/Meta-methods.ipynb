{
 "cells": [
  {
   "cell_type": "markdown",
   "metadata": {},
   "source": [
    "# Meta Methods"
   ]
  },
  {
   "cell_type": "code",
   "execution_count": 1,
   "metadata": {},
   "outputs": [],
   "source": [
    "import numpy as np                     # Llibreria matemÃ tica\n",
    "import matplotlib.pyplot as plt        # Per mostrar plots\n",
    "import sklearn                         # Llibreia de DM\n",
    "import sklearn.datasets as ds            # Per carregar mÃ©s facilment el dataset digits\n",
    "import sklearn.model_selection as cv    # Pel Cross-validation\n",
    "import sklearn.neighbors as nb           # Per fer servir el knn\n",
    "from sklearn.model_selection import cross_val_score  \n",
    "import pandas as pd"
   ]
  },
  {
   "cell_type": "code",
   "execution_count": 2,
   "metadata": {},
   "outputs": [],
   "source": [
    "import warnings\n",
    "warnings.filterwarnings(\"ignore\", category=DeprecationWarning)\n",
    "warnings.filterwarnings(\"ignore\", category=UserWarning)"
   ]
  },
  {
   "cell_type": "code",
   "execution_count": 3,
   "metadata": {},
   "outputs": [],
   "source": [
    "data = pd.read_csv('games_clean.csv')"
   ]
  },
  {
   "cell_type": "code",
   "execution_count": 4,
   "metadata": {},
   "outputs": [],
   "source": [
    "#data.drop(['RatingsBreakdown-Recommended', 'RatingsBreakdown-Meh', 'RatingsBreakdown-Exceptional', 'RatingsBreakdown-Skip', 'Presence'], inplace=True, axis=1)\n",
    "column = data.columns.get_loc('Metacritic')\n",
    "y = data.iloc[:,column]\n",
    "X = data.loc[:, data.columns != 'Metacritic']"
   ]
  },
  {
   "cell_type": "code",
   "execution_count": 5,
   "metadata": {},
   "outputs": [],
   "source": [
    "#from sklearn.model_selection import train_test_split\n",
    "#X_train, X_test, y_train, y_test = train_test_split(X, y, test_size=0.3,random_state=109)\n",
    "\n",
    "\n"
   ]
  },
  {
   "cell_type": "code",
   "execution_count": 6,
   "metadata": {},
   "outputs": [
    {
     "data": {
      "text/html": [
       "<div>\n",
       "<style scoped>\n",
       "    .dataframe tbody tr th:only-of-type {\n",
       "        vertical-align: middle;\n",
       "    }\n",
       "\n",
       "    .dataframe tbody tr th {\n",
       "        vertical-align: top;\n",
       "    }\n",
       "\n",
       "    .dataframe thead th {\n",
       "        text-align: right;\n",
       "    }\n",
       "</style>\n",
       "<table border=\"1\" class=\"dataframe\">\n",
       "  <thead>\n",
       "    <tr style=\"text-align: right;\">\n",
       "      <th></th>\n",
       "      <th>Presence</th>\n",
       "      <th>Memory</th>\n",
       "      <th>ReleaseDate</th>\n",
       "      <th>OriginalCost</th>\n",
       "      <th>DiscountedCost</th>\n",
       "      <th>Achievements</th>\n",
       "      <th>Storage</th>\n",
       "      <th>RatingsBreakdown-Recommended</th>\n",
       "      <th>RatingsBreakdown-Meh</th>\n",
       "      <th>RatingsBreakdown-Exceptional</th>\n",
       "      <th>...</th>\n",
       "      <th>Web Publishing</th>\n",
       "      <th>Well-Written</th>\n",
       "      <th>Werewolves</th>\n",
       "      <th>Western</th>\n",
       "      <th>Word Game</th>\n",
       "      <th>World War I</th>\n",
       "      <th>World War II</th>\n",
       "      <th>Wrestling</th>\n",
       "      <th>Zombies</th>\n",
       "      <th>eSports</th>\n",
       "    </tr>\n",
       "  </thead>\n",
       "  <tbody>\n",
       "    <tr>\n",
       "      <th>0</th>\n",
       "      <td>333.0</td>\n",
       "      <td>512.0</td>\n",
       "      <td>2019.0</td>\n",
       "      <td>1.99</td>\n",
       "      <td>0.0</td>\n",
       "      <td>0.0</td>\n",
       "      <td>200.0</td>\n",
       "      <td>2.0</td>\n",
       "      <td>2.0</td>\n",
       "      <td>2.0</td>\n",
       "      <td>...</td>\n",
       "      <td>False</td>\n",
       "      <td>False</td>\n",
       "      <td>False</td>\n",
       "      <td>False</td>\n",
       "      <td>False</td>\n",
       "      <td>False</td>\n",
       "      <td>False</td>\n",
       "      <td>False</td>\n",
       "      <td>False</td>\n",
       "      <td>False</td>\n",
       "    </tr>\n",
       "    <tr>\n",
       "      <th>1</th>\n",
       "      <td>363.0</td>\n",
       "      <td>1000.0</td>\n",
       "      <td>2016.0</td>\n",
       "      <td>2.99</td>\n",
       "      <td>0.0</td>\n",
       "      <td>0.0</td>\n",
       "      <td>350.0</td>\n",
       "      <td>1.0</td>\n",
       "      <td>1.0</td>\n",
       "      <td>2.0</td>\n",
       "      <td>...</td>\n",
       "      <td>False</td>\n",
       "      <td>False</td>\n",
       "      <td>False</td>\n",
       "      <td>False</td>\n",
       "      <td>False</td>\n",
       "      <td>False</td>\n",
       "      <td>False</td>\n",
       "      <td>False</td>\n",
       "      <td>False</td>\n",
       "      <td>False</td>\n",
       "    </tr>\n",
       "    <tr>\n",
       "      <th>2</th>\n",
       "      <td>102.0</td>\n",
       "      <td>1024.0</td>\n",
       "      <td>2019.0</td>\n",
       "      <td>0.99</td>\n",
       "      <td>0.0</td>\n",
       "      <td>0.0</td>\n",
       "      <td>122.0</td>\n",
       "      <td>1.0</td>\n",
       "      <td>1.0</td>\n",
       "      <td>1.0</td>\n",
       "      <td>...</td>\n",
       "      <td>False</td>\n",
       "      <td>False</td>\n",
       "      <td>False</td>\n",
       "      <td>False</td>\n",
       "      <td>False</td>\n",
       "      <td>False</td>\n",
       "      <td>False</td>\n",
       "      <td>False</td>\n",
       "      <td>False</td>\n",
       "      <td>False</td>\n",
       "    </tr>\n",
       "    <tr>\n",
       "      <th>3</th>\n",
       "      <td>269.0</td>\n",
       "      <td>4000.0</td>\n",
       "      <td>2019.0</td>\n",
       "      <td>0.00</td>\n",
       "      <td>0.0</td>\n",
       "      <td>0.0</td>\n",
       "      <td>300.0</td>\n",
       "      <td>2.0</td>\n",
       "      <td>2.0</td>\n",
       "      <td>1.0</td>\n",
       "      <td>...</td>\n",
       "      <td>False</td>\n",
       "      <td>False</td>\n",
       "      <td>False</td>\n",
       "      <td>False</td>\n",
       "      <td>False</td>\n",
       "      <td>False</td>\n",
       "      <td>False</td>\n",
       "      <td>False</td>\n",
       "      <td>False</td>\n",
       "      <td>False</td>\n",
       "    </tr>\n",
       "    <tr>\n",
       "      <th>4</th>\n",
       "      <td>217.0</td>\n",
       "      <td>4000.0</td>\n",
       "      <td>2016.0</td>\n",
       "      <td>11.99</td>\n",
       "      <td>0.0</td>\n",
       "      <td>18.0</td>\n",
       "      <td>4000.0</td>\n",
       "      <td>1.0</td>\n",
       "      <td>1.0</td>\n",
       "      <td>1.0</td>\n",
       "      <td>...</td>\n",
       "      <td>False</td>\n",
       "      <td>False</td>\n",
       "      <td>False</td>\n",
       "      <td>False</td>\n",
       "      <td>False</td>\n",
       "      <td>False</td>\n",
       "      <td>False</td>\n",
       "      <td>False</td>\n",
       "      <td>False</td>\n",
       "      <td>False</td>\n",
       "    </tr>\n",
       "    <tr>\n",
       "      <th>...</th>\n",
       "      <td>...</td>\n",
       "      <td>...</td>\n",
       "      <td>...</td>\n",
       "      <td>...</td>\n",
       "      <td>...</td>\n",
       "      <td>...</td>\n",
       "      <td>...</td>\n",
       "      <td>...</td>\n",
       "      <td>...</td>\n",
       "      <td>...</td>\n",
       "      <td>...</td>\n",
       "      <td>...</td>\n",
       "      <td>...</td>\n",
       "      <td>...</td>\n",
       "      <td>...</td>\n",
       "      <td>...</td>\n",
       "      <td>...</td>\n",
       "      <td>...</td>\n",
       "      <td>...</td>\n",
       "      <td>...</td>\n",
       "      <td>...</td>\n",
       "    </tr>\n",
       "    <tr>\n",
       "      <th>2195</th>\n",
       "      <td>161.0</td>\n",
       "      <td>512.0</td>\n",
       "      <td>2014.0</td>\n",
       "      <td>1.99</td>\n",
       "      <td>0.0</td>\n",
       "      <td>0.0</td>\n",
       "      <td>150.0</td>\n",
       "      <td>1.0</td>\n",
       "      <td>1.0</td>\n",
       "      <td>1.0</td>\n",
       "      <td>...</td>\n",
       "      <td>False</td>\n",
       "      <td>False</td>\n",
       "      <td>False</td>\n",
       "      <td>False</td>\n",
       "      <td>False</td>\n",
       "      <td>False</td>\n",
       "      <td>False</td>\n",
       "      <td>False</td>\n",
       "      <td>False</td>\n",
       "      <td>False</td>\n",
       "    </tr>\n",
       "    <tr>\n",
       "      <th>2196</th>\n",
       "      <td>411.0</td>\n",
       "      <td>4000.0</td>\n",
       "      <td>2020.0</td>\n",
       "      <td>11.99</td>\n",
       "      <td>0.0</td>\n",
       "      <td>0.0</td>\n",
       "      <td>700.0</td>\n",
       "      <td>1.0</td>\n",
       "      <td>1.0</td>\n",
       "      <td>1.0</td>\n",
       "      <td>...</td>\n",
       "      <td>False</td>\n",
       "      <td>False</td>\n",
       "      <td>False</td>\n",
       "      <td>False</td>\n",
       "      <td>False</td>\n",
       "      <td>False</td>\n",
       "      <td>False</td>\n",
       "      <td>False</td>\n",
       "      <td>False</td>\n",
       "      <td>False</td>\n",
       "    </tr>\n",
       "    <tr>\n",
       "      <th>2197</th>\n",
       "      <td>249.0</td>\n",
       "      <td>4000.0</td>\n",
       "      <td>2016.0</td>\n",
       "      <td>3.99</td>\n",
       "      <td>0.0</td>\n",
       "      <td>20.0</td>\n",
       "      <td>100.0</td>\n",
       "      <td>1.0</td>\n",
       "      <td>3.0</td>\n",
       "      <td>1.0</td>\n",
       "      <td>...</td>\n",
       "      <td>False</td>\n",
       "      <td>False</td>\n",
       "      <td>False</td>\n",
       "      <td>False</td>\n",
       "      <td>False</td>\n",
       "      <td>False</td>\n",
       "      <td>False</td>\n",
       "      <td>False</td>\n",
       "      <td>False</td>\n",
       "      <td>False</td>\n",
       "    </tr>\n",
       "    <tr>\n",
       "      <th>2198</th>\n",
       "      <td>191.0</td>\n",
       "      <td>1000.0</td>\n",
       "      <td>2019.0</td>\n",
       "      <td>14.99</td>\n",
       "      <td>0.0</td>\n",
       "      <td>0.0</td>\n",
       "      <td>800.0</td>\n",
       "      <td>2.0</td>\n",
       "      <td>1.0</td>\n",
       "      <td>1.0</td>\n",
       "      <td>...</td>\n",
       "      <td>False</td>\n",
       "      <td>False</td>\n",
       "      <td>False</td>\n",
       "      <td>False</td>\n",
       "      <td>False</td>\n",
       "      <td>False</td>\n",
       "      <td>False</td>\n",
       "      <td>False</td>\n",
       "      <td>False</td>\n",
       "      <td>False</td>\n",
       "    </tr>\n",
       "    <tr>\n",
       "      <th>2199</th>\n",
       "      <td>204093.0</td>\n",
       "      <td>4000.0</td>\n",
       "      <td>2019.0</td>\n",
       "      <td>29.99</td>\n",
       "      <td>0.0</td>\n",
       "      <td>42.0</td>\n",
       "      <td>13000.0</td>\n",
       "      <td>11.0</td>\n",
       "      <td>6.0</td>\n",
       "      <td>2.0</td>\n",
       "      <td>...</td>\n",
       "      <td>False</td>\n",
       "      <td>False</td>\n",
       "      <td>False</td>\n",
       "      <td>False</td>\n",
       "      <td>False</td>\n",
       "      <td>False</td>\n",
       "      <td>False</td>\n",
       "      <td>False</td>\n",
       "      <td>False</td>\n",
       "      <td>False</td>\n",
       "    </tr>\n",
       "  </tbody>\n",
       "</table>\n",
       "<p>2200 rows × 468 columns</p>\n",
       "</div>"
      ],
      "text/plain": [
       "      Presence  Memory  ReleaseDate  OriginalCost  DiscountedCost  \\\n",
       "0        333.0   512.0       2019.0          1.99             0.0   \n",
       "1        363.0  1000.0       2016.0          2.99             0.0   \n",
       "2        102.0  1024.0       2019.0          0.99             0.0   \n",
       "3        269.0  4000.0       2019.0          0.00             0.0   \n",
       "4        217.0  4000.0       2016.0         11.99             0.0   \n",
       "...        ...     ...          ...           ...             ...   \n",
       "2195     161.0   512.0       2014.0          1.99             0.0   \n",
       "2196     411.0  4000.0       2020.0         11.99             0.0   \n",
       "2197     249.0  4000.0       2016.0          3.99             0.0   \n",
       "2198     191.0  1000.0       2019.0         14.99             0.0   \n",
       "2199  204093.0  4000.0       2019.0         29.99             0.0   \n",
       "\n",
       "      Achievements  Storage  RatingsBreakdown-Recommended  \\\n",
       "0              0.0    200.0                           2.0   \n",
       "1              0.0    350.0                           1.0   \n",
       "2              0.0    122.0                           1.0   \n",
       "3              0.0    300.0                           2.0   \n",
       "4             18.0   4000.0                           1.0   \n",
       "...            ...      ...                           ...   \n",
       "2195           0.0    150.0                           1.0   \n",
       "2196           0.0    700.0                           1.0   \n",
       "2197          20.0    100.0                           1.0   \n",
       "2198           0.0    800.0                           2.0   \n",
       "2199          42.0  13000.0                          11.0   \n",
       "\n",
       "      RatingsBreakdown-Meh  RatingsBreakdown-Exceptional  ...  Web Publishing  \\\n",
       "0                      2.0                           2.0  ...           False   \n",
       "1                      1.0                           2.0  ...           False   \n",
       "2                      1.0                           1.0  ...           False   \n",
       "3                      2.0                           1.0  ...           False   \n",
       "4                      1.0                           1.0  ...           False   \n",
       "...                    ...                           ...  ...             ...   \n",
       "2195                   1.0                           1.0  ...           False   \n",
       "2196                   1.0                           1.0  ...           False   \n",
       "2197                   3.0                           1.0  ...           False   \n",
       "2198                   1.0                           1.0  ...           False   \n",
       "2199                   6.0                           2.0  ...           False   \n",
       "\n",
       "      Well-Written  Werewolves  Western  Word Game  World War I  World War II  \\\n",
       "0            False       False    False      False        False         False   \n",
       "1            False       False    False      False        False         False   \n",
       "2            False       False    False      False        False         False   \n",
       "3            False       False    False      False        False         False   \n",
       "4            False       False    False      False        False         False   \n",
       "...            ...         ...      ...        ...          ...           ...   \n",
       "2195         False       False    False      False        False         False   \n",
       "2196         False       False    False      False        False         False   \n",
       "2197         False       False    False      False        False         False   \n",
       "2198         False       False    False      False        False         False   \n",
       "2199         False       False    False      False        False         False   \n",
       "\n",
       "      Wrestling  Zombies  eSports  \n",
       "0         False    False    False  \n",
       "1         False    False    False  \n",
       "2         False    False    False  \n",
       "3         False    False    False  \n",
       "4         False    False    False  \n",
       "...         ...      ...      ...  \n",
       "2195      False    False    False  \n",
       "2196      False    False    False  \n",
       "2197      False    False    False  \n",
       "2198      False    False    False  \n",
       "2199      False    False    False  \n",
       "\n",
       "[2200 rows x 468 columns]"
      ]
     },
     "execution_count": 6,
     "metadata": {},
     "output_type": "execute_result"
    }
   ],
   "source": [
    "data.loc[:, data.columns != 'Metacritic']"
   ]
  },
  {
   "cell_type": "markdown",
   "metadata": {},
   "source": [
    "## Normalization\n",
    "Data should be numerical and normalized or standarized"
   ]
  },
  {
   "cell_type": "code",
   "execution_count": 7,
   "metadata": {},
   "outputs": [],
   "source": [
    "#from sklearn.preprocessing import StandardScaler\n",
    "#from sklearn.preprocessing import MinMaxScaler\n",
    "\n",
    "#scaler = MinMaxScaler(feature_range=(-1, 1)).fit(X)\n",
    "#X = scaler.transform(X)"
   ]
  },
  {
   "cell_type": "markdown",
   "metadata": {},
   "source": [
    "## Voting scheme"
   ]
  },
  {
   "cell_type": "code",
   "execution_count": 8,
   "metadata": {},
   "outputs": [
    {
     "name": "stdout",
     "output_type": "stream",
     "text": [
      "Accuracy: 0.277 [Naive Bayes]\n",
      "Accuracy: 0.296 [Knn (3)]\n",
      "Accuracy: 0.508 [Dec. Tree]\n"
     ]
    }
   ],
   "source": [
    "from sklearn.model_selection import cross_val_score\n",
    "#from sklearn.linear_model import LogisticRegression\n",
    "from sklearn.naive_bayes import GaussianNB\n",
    "from sklearn.ensemble import VotingClassifier\n",
    "from sklearn.tree import DecisionTreeClassifier\n",
    "from sklearn.neighbors import KNeighborsClassifier\n",
    "from sklearn.model_selection import GridSearchCV\n",
    "\n",
    "cv=100\n",
    "\n",
    "clf1 = GaussianNB()\n",
    "\n",
    "clf2 = KNeighborsClassifier(n_neighbors=5,weights='distance')\n",
    "\n",
    "clf3 = DecisionTreeClassifier(max_depth=13, criterion='entropy')\n",
    "\n",
    "\n",
    "for clf, label in zip([clf1, clf2, clf3], ['Naive Bayes','Knn (3)', 'Dec. Tree', ]):\n",
    "    scores = cross_val_score(clf, X, y, cv=cv, scoring='accuracy')\n",
    "    print(\"Accuracy: %0.3f [%s]\" % (scores.mean(), label))\n",
    "    "
   ]
  },
  {
   "cell_type": "code",
   "execution_count": 9,
   "metadata": {},
   "outputs": [
    {
     "name": "stdout",
     "output_type": "stream",
     "text": [
      "Accuracy: 0.385 [Majority Voting]\n"
     ]
    }
   ],
   "source": [
    "import warnings\n",
    "warnings.filterwarnings(\"ignore\", category=DeprecationWarning)\n",
    "\n",
    "eclf = VotingClassifier(estimators=[('nb', clf1), ('knn3', clf2), ('dt', clf3)], voting='hard')\n",
    "scores = cross_val_score(eclf, X, y, cv=cv, scoring='accuracy')\n",
    "print(\"Accuracy: %0.3f [%s]\" % (scores.mean() , \"Majority Voting\"))\n"
   ]
  },
  {
   "cell_type": "code",
   "execution_count": 10,
   "metadata": {},
   "outputs": [
    {
     "name": "stdout",
     "output_type": "stream",
     "text": [
      "Accuracy: 0.500 [Weighted Voting]\n"
     ]
    }
   ],
   "source": [
    "eclf = VotingClassifier(estimators=[('nb', clf1), ('knn3', clf2), ('dt', clf3)],voting='soft', weights=[1,1,2])\n",
    "scores = cross_val_score(eclf, X, y, cv=cv, scoring='accuracy')\n",
    "print(\"Accuracy: %0.3f [%s]\" % (scores.mean(), \"Weighted Voting\"))"
   ]
  },
  {
   "cell_type": "markdown",
   "metadata": {},
   "source": [
    "## Bagging"
   ]
  },
  {
   "cell_type": "code",
   "execution_count": 11,
   "metadata": {},
   "outputs": [
    {
     "name": "stdout",
     "output_type": "stream",
     "text": [
      "Accuracy: 0.480 [1]\n",
      "Accuracy: 0.485 [2]\n",
      "Accuracy: 0.541 [5]\n",
      "Accuracy: 0.563 [10]\n",
      "Accuracy: 0.578 [20]\n",
      "Accuracy: 0.589 [50]\n",
      "Accuracy: 0.595 [100]\n"
     ]
    }
   ],
   "source": [
    "from sklearn.ensemble import BaggingClassifier\n",
    "import time\n",
    "\n",
    "lb=[]\n",
    "lb_time=[]\n",
    "for nest in [1,2,5,10,20,50,100]:\n",
    "    start = time.time()\n",
    "    scores = cross_val_score(BaggingClassifier(base_estimator=DecisionTreeClassifier(max_depth=13, criterion='entropy'),n_estimators=nest), X, y, cv=cv, scoring='accuracy')\n",
    "    lb_time.append(time.time() - start)\n",
    "    print(\"Accuracy: %0.3f [%s]\" % (scores.mean(), nest))\n",
    "    lb.append(scores.mean())"
   ]
  },
  {
   "cell_type": "code",
   "execution_count": 12,
   "metadata": {},
   "outputs": [
    {
     "name": "stdout",
     "output_type": "stream",
     "text": [
      "Accuracy: 0.345 [1]\n",
      "Accuracy: 0.370 [2]\n",
      "Accuracy: 0.418 [5]\n",
      "Accuracy: 0.445 [10]\n",
      "Accuracy: 0.484 [20]\n",
      "Accuracy: 0.517 [50]\n",
      "Accuracy: 0.522 [100]\n"
     ]
    }
   ],
   "source": [
    "lb2=[]    \n",
    "lb2_time=[]\n",
    "for nest in [1,2,5,10,20,50,100]:\n",
    "    start = time.time()\n",
    "    scores = cross_val_score(BaggingClassifier(base_estimator=DecisionTreeClassifier(max_depth=13, criterion='entropy'),n_estimators=nest,max_features=0.35), X, y, cv=cv, scoring='accuracy')\n",
    "    lb2_time.append(time.time()  - start)\n",
    "    print(\"Accuracy: %0.3f [%s]\" % (scores.mean(), nest))\n",
    "    lb2.append(scores.mean())"
   ]
  },
  {
   "cell_type": "code",
   "execution_count": 13,
   "metadata": {},
   "outputs": [
    {
     "data": {
      "image/png": "[encoded data removed]",
      "text/plain": [
       "<Figure size 432x288 with 1 Axes>"
      ]
     },
     "metadata": {
      "needs_background": "light"
     },
     "output_type": "display_data"
    },
    {
     "data": {
      "image/png": "[encoded data removed]",
      "text/plain": [
       "<Figure size 432x288 with 1 Axes>"
      ]
     },
     "metadata": {
      "needs_background": "light"
     },
     "output_type": "display_data"
    },
    {
     "data": {
      "image/png": "[encoded data removed]",
      "text/plain": [
       "<Figure size 432x288 with 1 Axes>"
      ]
     },
     "metadata": {
      "needs_background": "light"
     },
     "output_type": "display_data"
    },
    {
     "data": {
      "image/png": "[encoded data removed]",
      "text/plain": [
       "<Figure size 432x288 with 1 Axes>"
      ]
     },
     "metadata": {
      "needs_background": "light"
     },
     "output_type": "display_data"
    }
   ],
   "source": [
    "plt.plot([1,2,5,10,20,50,100],lb,label=\"Bagging DT\")\n",
    "plt.show()\n",
    "plt.plot([1,2,5,10,20,50,100],lb2,label=\"Bagging DT forced variance\")\n",
    "plt.show()\n",
    "plt.plot([1,2,5,10,20,50,100],lb_time,label=\"Bagging DT\", color = \"red\")\n",
    "plt.show()\n",
    "plt.plot([1,2,5,10,20,50,100],lb2_time,label=\"Bagging DT forced variance\", color = \"red\")\n",
    "plt.show()"
   ]
  },
  {
   "cell_type": "markdown",
   "metadata": {},
   "source": [
    "## Random Forest"
   ]
  },
  {
   "cell_type": "code",
   "execution_count": 14,
   "metadata": {},
   "outputs": [
    {
     "name": "stdout",
     "output_type": "stream",
     "text": [
      "Accuracy: 0.334 [1]\n",
      "Accuracy: 0.368 [2]\n",
      "Accuracy: 0.400 [5]\n",
      "Accuracy: 0.416 [10]\n",
      "Accuracy: 0.448 [20]\n",
      "Accuracy: 0.466 [50]\n",
      "Accuracy: 0.480 [100]\n"
     ]
    }
   ],
   "source": [
    "from sklearn.ensemble import RandomForestClassifier\n",
    "\n",
    "lrf=[]\n",
    "for nest in [1,2,5,10,20,50,100]:\n",
    "    scores = cross_val_score(RandomForestClassifier(n_estimators=nest, max_depth=13,n_jobs=-1), X, y, cv=cv, scoring='accuracy', n_jobs=-1)\n",
    "    print(\"Accuracy: %0.3f [%s]\" % (scores.mean(), nest))\n",
    "    lrf.append(scores.mean())"
   ]
  },
  {
   "cell_type": "code",
   "execution_count": 15,
   "metadata": {},
   "outputs": [
    {
     "name": "stdout",
     "output_type": "stream",
     "text": [
      "Accuracy: 0.311 [1]\n",
      "Accuracy: 0.311 [2]\n",
      "Accuracy: 0.330 [5]\n",
      "Accuracy: 0.349 [10]\n",
      "Accuracy: 0.360 [20]\n",
      "Accuracy: 0.366 [50]\n",
      "Accuracy: 0.378 [100]\n"
     ]
    }
   ],
   "source": [
    "from sklearn.ensemble import ExtraTreesClassifier\n",
    "\n",
    "lext=[]\n",
    "for nest in [1,2,5,10,20,50,100]:\n",
    "    scores = cross_val_score(ExtraTreesClassifier(n_estimators=nest, max_depth=13, n_jobs=-1), X, y, cv=cv, scoring='accuracy', n_jobs=-1)\n",
    "    print(\"Accuracy: %0.3f [%s]\" % (scores.mean(), nest))\n",
    "    lext.append(scores.mean())"
   ]
  },
  {
   "cell_type": "markdown",
   "metadata": {},
   "source": [
    "## Boosting"
   ]
  },
  {
   "cell_type": "code",
   "execution_count": 16,
   "metadata": {},
   "outputs": [
    {
     "name": "stdout",
     "output_type": "stream",
     "text": [
      "Accuracy: 0.347 [1]\n",
      "Accuracy: 0.357 [2]\n",
      "Accuracy: 0.390 [5]\n",
      "Accuracy: 0.427 [10]\n",
      "Accuracy: 0.430 [20]\n",
      "Accuracy: 0.420 [50]\n",
      "Accuracy: 0.417 [100]\n"
     ]
    }
   ],
   "source": [
    "from sklearn.ensemble import AdaBoostClassifier\n",
    "\n",
    "lboo=[]\n",
    "for nest in [1,2,5,10,20,50,100]:\n",
    "    scores = cross_val_score(AdaBoostClassifier(n_estimators=nest), X, y, cv=cv, scoring='accuracy')\n",
    "    print(\"Accuracy: %0.3f [%s]\" % (scores.mean(), nest))\n",
    "    lboo.append(scores.mean())"
   ]
  },
  {
   "cell_type": "code",
   "execution_count": 17,
   "metadata": {},
   "outputs": [
    {
     "name": "stdout",
     "output_type": "stream",
     "text": [
      "Accuracy: 0.515 [1]\n",
      "Accuracy: 0.527 [2]\n",
      "Accuracy: 0.490 [5]\n",
      "Accuracy: 0.474 [10]\n",
      "Accuracy: 0.454 [20]\n",
      "Accuracy: 0.436 [50]\n",
      "Accuracy: 0.467 [100]\n"
     ]
    }
   ],
   "source": [
    "from sklearn.ensemble import AdaBoostClassifier\n",
    "\n",
    "lboodt=[]\n",
    "for nest in [1,2,5,10,20,50,100]:\n",
    "    scores = cross_val_score(AdaBoostClassifier(DecisionTreeClassifier(max_depth=13, criterion='entropy'),n_estimators=nest), X, y, cv=cv, scoring='accuracy')\n",
    "    print(\"Accuracy: %0.3f [%s]\" % (scores.mean(), nest))\n",
    "    lboodt.append(scores.mean())"
   ]
  },
  {
   "cell_type": "code",
   "execution_count": 18,
   "metadata": {},
   "outputs": [
    {
     "name": "stdout",
     "output_type": "stream",
     "text": [
      "Accuracy: 0.393 [1]\n",
      "Accuracy: 0.428 [2]\n",
      "Accuracy: 0.443 [5]\n",
      "Accuracy: 0.484 [10]\n",
      "Accuracy: 0.487 [20]\n",
      "Accuracy: 0.514 [50]\n",
      "Accuracy: 0.513 [100]\n"
     ]
    }
   ],
   "source": [
    "from sklearn.ensemble import GradientBoostingClassifier\n",
    "\n",
    "lgbboo=[]\n",
    "for nest in [1,2,5,10,20,50,100]:\n",
    "    scores = cross_val_score(GradientBoostingClassifier(n_estimators=nest), X, y, cv=cv, scoring='accuracy')\n",
    "    print(\"Accuracy: %0.3f [%s]\" % (scores.mean(), nest))\n",
    "    lgbboo.append(scores.mean())"
   ]
  },
  {
   "cell_type": "code",
   "execution_count": 19,
   "metadata": {},
   "outputs": [
    {
     "data": {
      "image/png": "[encoded data removed]",
      "text/plain": [
       "<Figure size 864x432 with 1 Axes>"
      ]
     },
     "metadata": {
      "needs_background": "light"
     },
     "output_type": "display_data"
    }
   ],
   "source": [
    "import  matplotlib.pyplot as plt\n",
    "\n",
    "plt.figure(figsize=(12,6))\n",
    "plt.plot([1,2,5,10,20,50,100],lb,label=\"Bagging DT\")\n",
    "plt.plot([1,2,5,10,20,50,100],lb2,label=\"Bagging DT forced variance\")\n",
    "plt.plot([1,2,5,10,20,50,100],lrf,label=\"Random Forest\")\n",
    "plt.plot([1,2,5,10,20,50,100],lext,label=\"Extra Trees\")\n",
    "plt.plot([1,2,5,10,20,50,100],lboo,label=\"AdaBoost Dec.Stumps\")\n",
    "plt.plot([1,2,5,10,20,50,100],lboodt,label=\"AdaBoost DT\")\n",
    "plt.plot([1,2,5,10,20,50,100],lgbboo,label=\"Gradient Boosting\")\n",
    "plt.legend(loc='lower right')\n",
    "\n",
    "plt.show()"
   ]
  }
 ],
 "metadata": {
  "kernelspec": {
   "display_name": "Python 3",
   "language": "python",
   "name": "python3"
  },
  "language_info": {
   "codemirror_mode": {
    "name": "ipython",
    "version": 3
   },
   "file_extension": ".py",
   "mimetype": "text/x-python",
   "name": "python",
   "nbconvert_exporter": "python",
   "pygments_lexer": "ipython3",
   "version": "3.8.5"
  }
 },
 "nbformat": 4,
 "nbformat_minor": 2
}
