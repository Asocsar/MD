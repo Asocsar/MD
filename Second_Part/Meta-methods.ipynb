{
 "cells": [
  {
   "cell_type": "markdown",
   "metadata": {},
   "source": [
    "# Meta Methods"
   ]
  },
  {
   "cell_type": "code",
   "execution_count": 1,
   "metadata": {},
   "outputs": [],
   "source": [
    "import numpy as np                     # Llibreria matemÃ tica\n",
    "import matplotlib.pyplot as plt        # Per mostrar plots\n",
    "import sklearn                         # Llibreia de DM\n",
    "import sklearn.datasets as ds            # Per carregar mÃ©s facilment el dataset digits\n",
    "import sklearn.model_selection as cv    # Pel Cross-validation\n",
    "import sklearn.neighbors as nb           # Per fer servir el knn\n",
    "from sklearn.model_selection import cross_val_score  \n",
    "import pandas as pd"
   ]
  },
  {
   "cell_type": "code",
   "execution_count": 2,
   "metadata": {},
   "outputs": [],
   "source": [
    "import warnings\n",
    "warnings.filterwarnings(\"ignore\", category=DeprecationWarning)\n",
    "warnings.filterwarnings(\"ignore\", category=UserWarning)"
   ]
  },
  {
   "cell_type": "code",
   "execution_count": 3,
   "metadata": {},
   "outputs": [],
   "source": [
    "data = pd.read_csv('games_clean.csv')"
   ]
  },
  {
   "cell_type": "code",
   "execution_count": 4,
   "metadata": {},
   "outputs": [],
   "source": [
    "column = data.columns.get_loc('Metacritic')\n",
    "y = data.iloc[:,column]\n",
    "X = data.loc[:, data.columns != 'Metacritic']"
   ]
  },
  {
   "cell_type": "code",
   "execution_count": 5,
   "metadata": {},
   "outputs": [],
   "source": [
    "#from sklearn.model_selection import train_test_split\n",
    "#X_train, X_test, y_train, y_test = train_test_split(X, y, test_size=0.3,random_state=109)\n",
    "\n",
    "\n"
   ]
  },
  {
   "cell_type": "code",
   "execution_count": 6,
   "metadata": {},
   "outputs": [
    {
     "data": {
      "text/html": [
       "<div>\n",
       "<style scoped>\n",
       "    .dataframe tbody tr th:only-of-type {\n",
       "        vertical-align: middle;\n",
       "    }\n",
       "\n",
       "    .dataframe tbody tr th {\n",
       "        vertical-align: top;\n",
       "    }\n",
       "\n",
       "    .dataframe thead th {\n",
       "        text-align: right;\n",
       "    }\n",
       "</style>\n",
       "<table border=\"1\" class=\"dataframe\">\n",
       "  <thead>\n",
       "    <tr style=\"text-align: right;\">\n",
       "      <th></th>\n",
       "      <th>Presence</th>\n",
       "      <th>Memory</th>\n",
       "      <th>ReleaseDate</th>\n",
       "      <th>OriginalCost</th>\n",
       "      <th>DiscountedCost</th>\n",
       "      <th>Achievements</th>\n",
       "      <th>Storage</th>\n",
       "      <th>RatingsBreakdown-Recommended</th>\n",
       "      <th>RatingsBreakdown-Meh</th>\n",
       "      <th>RatingsBreakdown-Exceptional</th>\n",
       "      <th>...</th>\n",
       "      <th>Web Publishing</th>\n",
       "      <th>Well-Written</th>\n",
       "      <th>Werewolves</th>\n",
       "      <th>Western</th>\n",
       "      <th>Word Game</th>\n",
       "      <th>World War I</th>\n",
       "      <th>World War II</th>\n",
       "      <th>Wrestling</th>\n",
       "      <th>Zombies</th>\n",
       "      <th>eSports</th>\n",
       "    </tr>\n",
       "  </thead>\n",
       "  <tbody>\n",
       "    <tr>\n",
       "      <th>0</th>\n",
       "      <td>333.0</td>\n",
       "      <td>512.0</td>\n",
       "      <td>2019.0</td>\n",
       "      <td>1.99</td>\n",
       "      <td>0.0</td>\n",
       "      <td>0.0</td>\n",
       "      <td>200.0</td>\n",
       "      <td>2.0</td>\n",
       "      <td>2.0</td>\n",
       "      <td>2.0</td>\n",
       "      <td>...</td>\n",
       "      <td>False</td>\n",
       "      <td>False</td>\n",
       "      <td>False</td>\n",
       "      <td>False</td>\n",
       "      <td>False</td>\n",
       "      <td>False</td>\n",
       "      <td>False</td>\n",
       "      <td>False</td>\n",
       "      <td>False</td>\n",
       "      <td>False</td>\n",
       "    </tr>\n",
       "    <tr>\n",
       "      <th>1</th>\n",
       "      <td>363.0</td>\n",
       "      <td>1000.0</td>\n",
       "      <td>2016.0</td>\n",
       "      <td>2.99</td>\n",
       "      <td>0.0</td>\n",
       "      <td>0.0</td>\n",
       "      <td>350.0</td>\n",
       "      <td>1.0</td>\n",
       "      <td>1.0</td>\n",
       "      <td>2.0</td>\n",
       "      <td>...</td>\n",
       "      <td>False</td>\n",
       "      <td>False</td>\n",
       "      <td>False</td>\n",
       "      <td>False</td>\n",
       "      <td>False</td>\n",
       "      <td>False</td>\n",
       "      <td>False</td>\n",
       "      <td>False</td>\n",
       "      <td>False</td>\n",
       "      <td>False</td>\n",
       "    </tr>\n",
       "    <tr>\n",
       "      <th>2</th>\n",
       "      <td>102.0</td>\n",
       "      <td>1024.0</td>\n",
       "      <td>2019.0</td>\n",
       "      <td>0.99</td>\n",
       "      <td>0.0</td>\n",
       "      <td>0.0</td>\n",
       "      <td>122.0</td>\n",
       "      <td>1.0</td>\n",
       "      <td>1.0</td>\n",
       "      <td>1.0</td>\n",
       "      <td>...</td>\n",
       "      <td>False</td>\n",
       "      <td>False</td>\n",
       "      <td>False</td>\n",
       "      <td>False</td>\n",
       "      <td>False</td>\n",
       "      <td>False</td>\n",
       "      <td>False</td>\n",
       "      <td>False</td>\n",
       "      <td>False</td>\n",
       "      <td>False</td>\n",
       "    </tr>\n",
       "    <tr>\n",
       "      <th>3</th>\n",
       "      <td>269.0</td>\n",
       "      <td>4000.0</td>\n",
       "      <td>2019.0</td>\n",
       "      <td>0.00</td>\n",
       "      <td>0.0</td>\n",
       "      <td>0.0</td>\n",
       "      <td>300.0</td>\n",
       "      <td>2.0</td>\n",
       "      <td>2.0</td>\n",
       "      <td>1.0</td>\n",
       "      <td>...</td>\n",
       "      <td>False</td>\n",
       "      <td>False</td>\n",
       "      <td>False</td>\n",
       "      <td>False</td>\n",
       "      <td>False</td>\n",
       "      <td>False</td>\n",
       "      <td>False</td>\n",
       "      <td>False</td>\n",
       "      <td>False</td>\n",
       "      <td>False</td>\n",
       "    </tr>\n",
       "    <tr>\n",
       "      <th>4</th>\n",
       "      <td>217.0</td>\n",
       "      <td>4000.0</td>\n",
       "      <td>2016.0</td>\n",
       "      <td>11.99</td>\n",
       "      <td>0.0</td>\n",
       "      <td>18.0</td>\n",
       "      <td>4000.0</td>\n",
       "      <td>1.0</td>\n",
       "      <td>1.0</td>\n",
       "      <td>1.0</td>\n",
       "      <td>...</td>\n",
       "      <td>False</td>\n",
       "      <td>False</td>\n",
       "      <td>False</td>\n",
       "      <td>False</td>\n",
       "      <td>False</td>\n",
       "      <td>False</td>\n",
       "      <td>False</td>\n",
       "      <td>False</td>\n",
       "      <td>False</td>\n",
       "      <td>False</td>\n",
       "    </tr>\n",
       "    <tr>\n",
       "      <th>...</th>\n",
       "      <td>...</td>\n",
       "      <td>...</td>\n",
       "      <td>...</td>\n",
       "      <td>...</td>\n",
       "      <td>...</td>\n",
       "      <td>...</td>\n",
       "      <td>...</td>\n",
       "      <td>...</td>\n",
       "      <td>...</td>\n",
       "      <td>...</td>\n",
       "      <td>...</td>\n",
       "      <td>...</td>\n",
       "      <td>...</td>\n",
       "      <td>...</td>\n",
       "      <td>...</td>\n",
       "      <td>...</td>\n",
       "      <td>...</td>\n",
       "      <td>...</td>\n",
       "      <td>...</td>\n",
       "      <td>...</td>\n",
       "      <td>...</td>\n",
       "    </tr>\n",
       "    <tr>\n",
       "      <th>2195</th>\n",
       "      <td>161.0</td>\n",
       "      <td>512.0</td>\n",
       "      <td>2014.0</td>\n",
       "      <td>1.99</td>\n",
       "      <td>0.0</td>\n",
       "      <td>0.0</td>\n",
       "      <td>150.0</td>\n",
       "      <td>1.0</td>\n",
       "      <td>1.0</td>\n",
       "      <td>1.0</td>\n",
       "      <td>...</td>\n",
       "      <td>False</td>\n",
       "      <td>False</td>\n",
       "      <td>False</td>\n",
       "      <td>False</td>\n",
       "      <td>False</td>\n",
       "      <td>False</td>\n",
       "      <td>False</td>\n",
       "      <td>False</td>\n",
       "      <td>False</td>\n",
       "      <td>False</td>\n",
       "    </tr>\n",
       "    <tr>\n",
       "      <th>2196</th>\n",
       "      <td>411.0</td>\n",
       "      <td>4000.0</td>\n",
       "      <td>2020.0</td>\n",
       "      <td>11.99</td>\n",
       "      <td>0.0</td>\n",
       "      <td>0.0</td>\n",
       "      <td>700.0</td>\n",
       "      <td>1.0</td>\n",
       "      <td>1.0</td>\n",
       "      <td>1.0</td>\n",
       "      <td>...</td>\n",
       "      <td>False</td>\n",
       "      <td>False</td>\n",
       "      <td>False</td>\n",
       "      <td>False</td>\n",
       "      <td>False</td>\n",
       "      <td>False</td>\n",
       "      <td>False</td>\n",
       "      <td>False</td>\n",
       "      <td>False</td>\n",
       "      <td>False</td>\n",
       "    </tr>\n",
       "    <tr>\n",
       "      <th>2197</th>\n",
       "      <td>249.0</td>\n",
       "      <td>4000.0</td>\n",
       "      <td>2016.0</td>\n",
       "      <td>3.99</td>\n",
       "      <td>0.0</td>\n",
       "      <td>20.0</td>\n",
       "      <td>100.0</td>\n",
       "      <td>1.0</td>\n",
       "      <td>3.0</td>\n",
       "      <td>1.0</td>\n",
       "      <td>...</td>\n",
       "      <td>False</td>\n",
       "      <td>False</td>\n",
       "      <td>False</td>\n",
       "      <td>False</td>\n",
       "      <td>False</td>\n",
       "      <td>False</td>\n",
       "      <td>False</td>\n",
       "      <td>False</td>\n",
       "      <td>False</td>\n",
       "      <td>False</td>\n",
       "    </tr>\n",
       "    <tr>\n",
       "      <th>2198</th>\n",
       "      <td>191.0</td>\n",
       "      <td>1000.0</td>\n",
       "      <td>2019.0</td>\n",
       "      <td>14.99</td>\n",
       "      <td>0.0</td>\n",
       "      <td>0.0</td>\n",
       "      <td>800.0</td>\n",
       "      <td>2.0</td>\n",
       "      <td>1.0</td>\n",
       "      <td>1.0</td>\n",
       "      <td>...</td>\n",
       "      <td>False</td>\n",
       "      <td>False</td>\n",
       "      <td>False</td>\n",
       "      <td>False</td>\n",
       "      <td>False</td>\n",
       "      <td>False</td>\n",
       "      <td>False</td>\n",
       "      <td>False</td>\n",
       "      <td>False</td>\n",
       "      <td>False</td>\n",
       "    </tr>\n",
       "    <tr>\n",
       "      <th>2199</th>\n",
       "      <td>204093.0</td>\n",
       "      <td>4000.0</td>\n",
       "      <td>2019.0</td>\n",
       "      <td>29.99</td>\n",
       "      <td>0.0</td>\n",
       "      <td>42.0</td>\n",
       "      <td>13000.0</td>\n",
       "      <td>11.0</td>\n",
       "      <td>6.0</td>\n",
       "      <td>2.0</td>\n",
       "      <td>...</td>\n",
       "      <td>False</td>\n",
       "      <td>False</td>\n",
       "      <td>False</td>\n",
       "      <td>False</td>\n",
       "      <td>False</td>\n",
       "      <td>False</td>\n",
       "      <td>False</td>\n",
       "      <td>False</td>\n",
       "      <td>False</td>\n",
       "      <td>False</td>\n",
       "    </tr>\n",
       "  </tbody>\n",
       "</table>\n",
       "<p>2200 rows × 468 columns</p>\n",
       "</div>"
      ],
      "text/plain": [
       "      Presence  Memory  ReleaseDate  OriginalCost  DiscountedCost  \\\n",
       "0        333.0   512.0       2019.0          1.99             0.0   \n",
       "1        363.0  1000.0       2016.0          2.99             0.0   \n",
       "2        102.0  1024.0       2019.0          0.99             0.0   \n",
       "3        269.0  4000.0       2019.0          0.00             0.0   \n",
       "4        217.0  4000.0       2016.0         11.99             0.0   \n",
       "...        ...     ...          ...           ...             ...   \n",
       "2195     161.0   512.0       2014.0          1.99             0.0   \n",
       "2196     411.0  4000.0       2020.0         11.99             0.0   \n",
       "2197     249.0  4000.0       2016.0          3.99             0.0   \n",
       "2198     191.0  1000.0       2019.0         14.99             0.0   \n",
       "2199  204093.0  4000.0       2019.0         29.99             0.0   \n",
       "\n",
       "      Achievements  Storage  RatingsBreakdown-Recommended  \\\n",
       "0              0.0    200.0                           2.0   \n",
       "1              0.0    350.0                           1.0   \n",
       "2              0.0    122.0                           1.0   \n",
       "3              0.0    300.0                           2.0   \n",
       "4             18.0   4000.0                           1.0   \n",
       "...            ...      ...                           ...   \n",
       "2195           0.0    150.0                           1.0   \n",
       "2196           0.0    700.0                           1.0   \n",
       "2197          20.0    100.0                           1.0   \n",
       "2198           0.0    800.0                           2.0   \n",
       "2199          42.0  13000.0                          11.0   \n",
       "\n",
       "      RatingsBreakdown-Meh  RatingsBreakdown-Exceptional  ...  Web Publishing  \\\n",
       "0                      2.0                           2.0  ...           False   \n",
       "1                      1.0                           2.0  ...           False   \n",
       "2                      1.0                           1.0  ...           False   \n",
       "3                      2.0                           1.0  ...           False   \n",
       "4                      1.0                           1.0  ...           False   \n",
       "...                    ...                           ...  ...             ...   \n",
       "2195                   1.0                           1.0  ...           False   \n",
       "2196                   1.0                           1.0  ...           False   \n",
       "2197                   3.0                           1.0  ...           False   \n",
       "2198                   1.0                           1.0  ...           False   \n",
       "2199                   6.0                           2.0  ...           False   \n",
       "\n",
       "      Well-Written  Werewolves  Western  Word Game  World War I  World War II  \\\n",
       "0            False       False    False      False        False         False   \n",
       "1            False       False    False      False        False         False   \n",
       "2            False       False    False      False        False         False   \n",
       "3            False       False    False      False        False         False   \n",
       "4            False       False    False      False        False         False   \n",
       "...            ...         ...      ...        ...          ...           ...   \n",
       "2195         False       False    False      False        False         False   \n",
       "2196         False       False    False      False        False         False   \n",
       "2197         False       False    False      False        False         False   \n",
       "2198         False       False    False      False        False         False   \n",
       "2199         False       False    False      False        False         False   \n",
       "\n",
       "      Wrestling  Zombies  eSports  \n",
       "0         False    False    False  \n",
       "1         False    False    False  \n",
       "2         False    False    False  \n",
       "3         False    False    False  \n",
       "4         False    False    False  \n",
       "...         ...      ...      ...  \n",
       "2195      False    False    False  \n",
       "2196      False    False    False  \n",
       "2197      False    False    False  \n",
       "2198      False    False    False  \n",
       "2199      False    False    False  \n",
       "\n",
       "[2200 rows x 468 columns]"
      ]
     },
     "execution_count": 6,
     "metadata": {},
     "output_type": "execute_result"
    }
   ],
   "source": [
    "data.loc[:, data.columns != 'Metacritic']"
   ]
  },
  {
   "cell_type": "markdown",
   "metadata": {},
   "source": [
    "## Normalization\n",
    "Data should be numerical and normalized or standarized"
   ]
  },
  {
   "cell_type": "code",
   "execution_count": 7,
   "metadata": {},
   "outputs": [],
   "source": [
    "#from sklearn.preprocessing import StandardScaler\n",
    "#from sklearn.preprocessing import MinMaxScaler\n",
    "\n",
    "#scaler = MinMaxScaler(feature_range=(-1, 1)).fit(X)\n",
    "#X = scaler.transform(X)"
   ]
  },
  {
   "cell_type": "markdown",
   "metadata": {},
   "source": [
    "## Voting scheme"
   ]
  },
  {
   "cell_type": "code",
   "execution_count": 8,
   "metadata": {},
   "outputs": [
    {
     "name": "stdout",
     "output_type": "stream",
     "text": [
      "Best Params fo Knn= {'n_neighbors': 21, 'weights': 'uniform'} Accuracy= 0.834090909090909\n",
      "Accuracy: 0.804 [Naive Bayes]\n",
      "Accuracy: 0.834 [Knn (3)]\n",
      "Accuracy: 0.818 [Dec. Tree]\n"
     ]
    }
   ],
   "source": [
    "from sklearn.model_selection import cross_val_score\n",
    "#from sklearn.linear_model import LogisticRegression\n",
    "from sklearn.naive_bayes import GaussianNB\n",
    "from sklearn.ensemble import VotingClassifier\n",
    "from sklearn.tree import DecisionTreeClassifier\n",
    "from sklearn.neighbors import KNeighborsClassifier\n",
    "from sklearn.model_selection import GridSearchCV\n",
    "\n",
    "cv=20\n",
    "\n",
    "clf1 = GaussianNB()\n",
    "\n",
    "params = {'n_neighbors':list(range(1,30,2)), 'weights':('distance','uniform')}\n",
    "knc = KNeighborsClassifier()\n",
    "clf = GridSearchCV(knc, param_grid=params,cv=cv,n_jobs=-1)  # If cv is integer, by default is Stratifyed \n",
    "clf.fit(X, y)\n",
    "print(\"Best Params fo Knn=\",clf.best_params_, \"Accuracy=\", clf.best_score_)\n",
    "parval=clf.best_params_\n",
    "clf2 = KNeighborsClassifier(n_neighbors=parval['n_neighbors'],weights=parval['weights'])\n",
    "\n",
    "clf3 = DecisionTreeClassifier(criterion='entropy')\n",
    "\n",
    "\n",
    "for clf, label in zip([clf1, clf2, clf3], ['Naive Bayes','Knn (3)', 'Dec. Tree', ]):\n",
    "    scores = cross_val_score(clf, X, y, cv=cv, scoring='accuracy')\n",
    "    print(\"Accuracy: %0.3f [%s]\" % (scores.mean(), label))\n",
    "    "
   ]
  },
  {
   "cell_type": "code",
   "execution_count": 9,
   "metadata": {},
   "outputs": [
    {
     "name": "stdout",
     "output_type": "stream",
     "text": [
      "Accuracy: 0.837 [Majority Voting]\n"
     ]
    }
   ],
   "source": [
    "import warnings\n",
    "warnings.filterwarnings(\"ignore\", category=DeprecationWarning)\n",
    "\n",
    "eclf = VotingClassifier(estimators=[('nb', clf1), ('knn3', clf2), ('dt', clf3)], voting='hard')\n",
    "scores = cross_val_score(eclf, X, y, cv=cv, scoring='accuracy')\n",
    "print(\"Accuracy: %0.3f [%s]\" % (scores.mean() , \"Majority Voting\"))\n"
   ]
  },
  {
   "cell_type": "code",
   "execution_count": 10,
   "metadata": {},
   "outputs": [
    {
     "name": "stdout",
     "output_type": "stream",
     "text": [
      "Accuracy: 0.835 [Weighted Voting]\n"
     ]
    }
   ],
   "source": [
    "eclf = VotingClassifier(estimators=[('nb', clf1), ('knn3', clf2), ('dt', clf3)],voting='soft', weights=[2,1,2])\n",
    "scores = cross_val_score(eclf, X, y, cv=cv, scoring='accuracy')\n",
    "print(\"Accuracy: %0.3f [%s]\" % (scores.mean(), \"Weighted Voting\"))"
   ]
  },
  {
   "cell_type": "markdown",
   "metadata": {},
   "source": [
    "## Bagging"
   ]
  },
  {
   "cell_type": "code",
   "execution_count": 11,
   "metadata": {},
   "outputs": [
    {
     "name": "stdout",
     "output_type": "stream",
     "text": [
      "Accuracy: 0.805 [1]\n",
      "Accuracy: 0.824 [2]\n",
      "Accuracy: 0.855 [5]\n",
      "Accuracy: 0.865 [10]\n",
      "Accuracy: 0.876 [20]\n",
      "Accuracy: 0.880 [50]\n",
      "Accuracy: 0.876 [100]\n",
      "\n",
      "Accuracy: 0.734 [1]\n",
      "Accuracy: 0.799 [2]\n",
      "Accuracy: 0.824 [5]\n",
      "Accuracy: 0.843 [10]\n",
      "Accuracy: 0.846 [20]\n",
      "Accuracy: 0.844 [50]\n",
      "Accuracy: 0.842 [100]\n"
     ]
    }
   ],
   "source": [
    "from sklearn.ensemble import BaggingClassifier\n",
    "\n",
    "lb=[]\n",
    "for nest in [1,2,5,10,20,50,100]:\n",
    "    scores = cross_val_score(BaggingClassifier(base_estimator=DecisionTreeClassifier(),n_estimators=nest), X, y, cv=cv, scoring='accuracy')\n",
    "    print(\"Accuracy: %0.3f [%s]\" % (scores.mean(), nest))\n",
    "    lb.append(scores.mean())\n",
    "\n",
    "lb2=[]    \n",
    "print()\n",
    "for nest in [1,2,5,10,20,50,100]:\n",
    "    scores = cross_val_score(BaggingClassifier(base_estimator=DecisionTreeClassifier(),n_estimators=nest,max_features=0.35), X, y, cv=cv, scoring='accuracy')\n",
    "    print(\"Accuracy: %0.3f [%s]\" % (scores.mean(), nest))\n",
    "    lb2.append(scores.mean())"
   ]
  },
  {
   "cell_type": "markdown",
   "metadata": {},
   "source": [
    "## Random Forest"
   ]
  },
  {
   "cell_type": "code",
   "execution_count": 12,
   "metadata": {},
   "outputs": [
    {
     "name": "stdout",
     "output_type": "stream",
     "text": [
      "Accuracy: 0.765 [1]\n",
      "Accuracy: 0.801 [2]\n",
      "Accuracy: 0.833 [5]\n",
      "Accuracy: 0.851 [10]\n",
      "Accuracy: 0.857 [20]\n",
      "Accuracy: 0.856 [50]\n",
      "Accuracy: 0.863 [100]\n"
     ]
    }
   ],
   "source": [
    "from sklearn.ensemble import RandomForestClassifier\n",
    "\n",
    "lrf=[]\n",
    "for nest in [1,2,5,10,20,50,100]:\n",
    "    scores = cross_val_score(RandomForestClassifier(n_estimators=nest,n_jobs=-1), X, y, cv=cv, scoring='accuracy', n_jobs=-1)\n",
    "    print(\"Accuracy: %0.3f [%s]\" % (scores.mean(), nest))\n",
    "    lrf.append(scores.mean())"
   ]
  },
  {
   "cell_type": "code",
   "execution_count": 13,
   "metadata": {},
   "outputs": [
    {
     "name": "stdout",
     "output_type": "stream",
     "text": [
      "Accuracy: 0.755 [1]\n",
      "Accuracy: 0.805 [2]\n",
      "Accuracy: 0.827 [5]\n",
      "Accuracy: 0.839 [10]\n",
      "Accuracy: 0.845 [20]\n",
      "Accuracy: 0.847 [50]\n",
      "Accuracy: 0.850 [100]\n"
     ]
    }
   ],
   "source": [
    "from sklearn.ensemble import ExtraTreesClassifier\n",
    "\n",
    "lext=[]\n",
    "for nest in [1,2,5,10,20,50,100]:\n",
    "    scores = cross_val_score(ExtraTreesClassifier(n_estimators=nest,n_jobs=-1), X, y, cv=cv, scoring='accuracy', n_jobs=-1)\n",
    "    print(\"Accuracy: %0.3f [%s]\" % (scores.mean(), nest))\n",
    "    lext.append(scores.mean())"
   ]
  },
  {
   "cell_type": "markdown",
   "metadata": {},
   "source": [
    "## Boosting"
   ]
  },
  {
   "cell_type": "code",
   "execution_count": 14,
   "metadata": {},
   "outputs": [
    {
     "name": "stdout",
     "output_type": "stream",
     "text": [
      "Accuracy: 0.846 [1]\n",
      "Accuracy: 0.846 [2]\n",
      "Accuracy: 0.845 [5]\n",
      "Accuracy: 0.842 [10]\n",
      "Accuracy: 0.840 [20]\n",
      "Accuracy: 0.824 [50]\n",
      "Accuracy: 0.737 [100]\n"
     ]
    }
   ],
   "source": [
    "from sklearn.ensemble import AdaBoostClassifier\n",
    "\n",
    "lboo=[]\n",
    "for nest in [1,2,5,10,20,50,100]:\n",
    "    scores = cross_val_score(AdaBoostClassifier(n_estimators=nest), X, y, cv=cv, scoring='accuracy')\n",
    "    print(\"Accuracy: %0.3f [%s]\" % (scores.mean(), nest))\n",
    "    lboo.append(scores.mean())"
   ]
  },
  {
   "cell_type": "code",
   "execution_count": 15,
   "metadata": {},
   "outputs": [
    {
     "name": "stdout",
     "output_type": "stream",
     "text": [
      "Accuracy: 0.838 [1]\n",
      "Accuracy: 0.828 [2]\n",
      "Accuracy: 0.788 [5]\n",
      "Accuracy: 0.805 [10]\n",
      "Accuracy: 0.810 [20]\n",
      "Accuracy: 0.818 [50]\n",
      "Accuracy: 0.834 [100]\n"
     ]
    }
   ],
   "source": [
    "from sklearn.ensemble import AdaBoostClassifier\n",
    "\n",
    "lboodt=[]\n",
    "for nest in [1,2,5,10,20,50,100]:\n",
    "    scores = cross_val_score(AdaBoostClassifier(DecisionTreeClassifier(max_depth=5),n_estimators=nest), X, y, cv=cv, scoring='accuracy')\n",
    "    print(\"Accuracy: %0.3f [%s]\" % (scores.mean(), nest))\n",
    "    lboodt.append(scores.mean())"
   ]
  },
  {
   "cell_type": "code",
   "execution_count": 16,
   "metadata": {},
   "outputs": [
    {
     "name": "stdout",
     "output_type": "stream",
     "text": [
      "Accuracy: 0.830 [1]\n",
      "Accuracy: 0.829 [2]\n",
      "Accuracy: 0.839 [5]\n",
      "Accuracy: 0.843 [10]\n",
      "Accuracy: 0.842 [20]\n",
      "Accuracy: 0.848 [50]\n",
      "Accuracy: 0.849 [100]\n"
     ]
    }
   ],
   "source": [
    "from sklearn.ensemble import GradientBoostingClassifier\n",
    "\n",
    "lgbboo=[]\n",
    "for nest in [1,2,5,10,20,50,100]:\n",
    "    scores = cross_val_score(GradientBoostingClassifier(n_estimators=nest), X, y, cv=cv, scoring='accuracy')\n",
    "    print(\"Accuracy: %0.3f [%s]\" % (scores.mean(), nest))\n",
    "    lgbboo.append(scores.mean())"
   ]
  },
  {
   "cell_type": "code",
   "execution_count": 17,
   "metadata": {},
   "outputs": [
    {
     "data": {
      "image/png": "[encoded data removed]",
      "text/plain": [
       "<Figure size 864x432 with 1 Axes>"
      ]
     },
     "metadata": {
      "needs_background": "light"
     },
     "output_type": "display_data"
    }
   ],
   "source": [
    "import  matplotlib.pyplot as plt\n",
    "\n",
    "plt.figure(figsize=(12,6))\n",
    "plt.plot([1,2,5,10,20,50,100],lb,label=\"Bagging DT\")\n",
    "plt.plot([1,2,5,10,20,50,100],lb2,label=\"Bagging DT forced variance\")\n",
    "plt.plot([1,2,5,10,20,50,100],lrf,label=\"Random Forest\")\n",
    "plt.plot([1,2,5,10,20,50,100],lext,label=\"Extra Trees\")\n",
    "plt.plot([1,2,5,10,20,50,100],lboo,label=\"AdaBoost Dec.Stumps\")\n",
    "plt.plot([1,2,5,10,20,50,100],lboodt,label=\"AdaBoost DT\")\n",
    "plt.plot([1,2,5,10,20,50,100],lgbboo,label=\"Gradient Boosting\")\n",
    "plt.legend(loc='lower right')\n",
    "\n",
    "plt.show()"
   ]
  },
  {
   "cell_type": "code",
   "execution_count": 18,
   "metadata": {},
   "outputs": [
    {
     "data": {
      "image/png": "[encoded data removed]",
      "text/plain": [
       "<Figure size 864x432 with 1 Axes>"
      ]
     },
     "metadata": {
      "needs_background": "light"
     },
     "output_type": "display_data"
    }
   ],
   "source": [
    "plt.figure(figsize=(12,6))\n",
    "plt.plot([1,2,5,10,20,50,100],lb,label=\"Bagging DT\")\n",
    "plt.plot([1,2,5,10,20,50,100],lb2,label=\"Bagging DT forced variance\")\n",
    "plt.plot([1,2,5,10,20,50,100],lrf,label=\"Random Forest\")\n",
    "plt.plot([1,2,5,10,20,50,100],lext,label=\"Extra Trees\")\n",
    "plt.plot([1,2,5,10,20,50,100],lboo,label=\"AdaBoost Dec.Stumps\")\n",
    "plt.plot([1,2,5,10,20,50,100],lboodt,label=\"AdaBoost DT\")\n",
    "plt.plot([1,2,5,10,20,50,100],lgbboo,label=\"Gradient Boosting\")\n",
    "plt.legend(loc='lower right')\n",
    "plt.xlim(10,200)\n",
    "plt.ylim(0.90,0.96)\n",
    "plt.show()"
   ]
  },
  {
   "cell_type": "markdown",
   "metadata": {},
   "source": [
    "## Feature Selection with Forests of trees"
   ]
  },
  {
   "cell_type": "code",
   "execution_count": 19,
   "metadata": {},
   "outputs": [
    {
     "name": "stdout",
     "output_type": "stream",
     "text": [
      "[6.41018147e-02 3.66982674e-02 6.14613269e-02 3.84818974e-02\n",
      " 1.28353166e-03 3.36719636e-02 4.45811723e-02 4.17255794e-02\n",
      " 3.11023529e-02 4.13129828e-02 2.85657436e-02 3.18804289e-02\n",
      " 1.27626650e-02 1.69869367e-03 5.03133122e-04 7.84161642e-04\n",
      " 2.84026268e-03 5.58770422e-03 1.44423870e-03 2.98618102e-04\n",
      " 0.00000000e+00 6.38618437e-04 7.75756598e-04 1.95255537e-03\n",
      " 4.41236966e-05 1.92675454e-03 7.04183220e-04 3.78572247e-05\n",
      " 0.00000000e+00 5.75195303e-04 8.95565569e-03 1.85466583e-03\n",
      " 0.00000000e+00 5.56791516e-04 1.66810637e-03 7.90677576e-04\n",
      " 1.03605162e-02 6.00303660e-04 1.72932271e-03 3.97350474e-04\n",
      " 0.00000000e+00 2.59207742e-04 1.60528569e-05 2.99750186e-03\n",
      " 1.91540553e-03 3.18798945e-03 1.24562869e-04 1.38046925e-03\n",
      " 3.11619581e-05 9.53636568e-04 8.32184613e-06 5.06998917e-04\n",
      " 5.08886206e-03 5.47549853e-04 2.34731023e-05 7.61258358e-05\n",
      " 3.02712976e-04 5.37850732e-05 1.96636263e-04 3.52350041e-05\n",
      " 1.00747605e-03 1.07784043e-05 0.00000000e+00 7.21755658e-05\n",
      " 9.48686660e-04 1.29517149e-03 0.00000000e+00 4.35744246e-05\n",
      " 4.41538185e-04 1.46859180e-03 1.28291688e-06 1.12038083e-03\n",
      " 1.23359745e-04 9.62388267e-04 4.73277282e-04 1.79617212e-03\n",
      " 2.47333096e-03 4.68494326e-04 2.37904022e-05 7.44685974e-05\n",
      " 3.46438942e-04 1.11003438e-03 8.91405293e-04 9.77737503e-03\n",
      " 3.49640501e-04 2.72070193e-04 7.08288945e-04 0.00000000e+00\n",
      " 2.00480921e-03 3.81310583e-03 6.93653672e-05 2.32162057e-04\n",
      " 1.59604156e-04 2.24626754e-03 7.19230260e-04 2.63874836e-03\n",
      " 5.04304566e-04 8.46385405e-04 4.23113701e-04 1.16237421e-04\n",
      " 2.66425178e-03 7.46061269e-05 0.00000000e+00 2.70981134e-03\n",
      " 6.39033294e-04 1.50024067e-03 2.46184456e-04 3.29076497e-04\n",
      " 8.41658498e-04 6.04374938e-04 2.55745148e-05 4.44023661e-04\n",
      " 3.02268092e-03 1.08479299e-03 0.00000000e+00 1.01909194e-03\n",
      " 7.32743833e-04 1.40290527e-03 1.33497112e-03 8.51757135e-04\n",
      " 9.76898479e-04 4.25381498e-04 6.41977526e-05 9.69490090e-04\n",
      " 1.28471729e-04 4.78057291e-04 1.00221821e-03 4.43754461e-03\n",
      " 8.13776356e-04 9.02861565e-06 0.00000000e+00 9.32462723e-04\n",
      " 4.95562454e-04 4.91677096e-04 5.13069778e-04 1.22879228e-03\n",
      " 6.25247506e-04 1.45364083e-03 1.08222023e-03 2.38949490e-04\n",
      " 5.32042340e-03 8.02441317e-04 9.67385076e-04 0.00000000e+00\n",
      " 0.00000000e+00 3.07350079e-04 1.86243199e-04 5.77216288e-04\n",
      " 5.26344093e-04 5.36781072e-04 4.33258319e-04 2.95386134e-03\n",
      " 2.70174083e-04 2.59446614e-03 8.90375133e-06 2.20089312e-03\n",
      " 3.37878511e-03 1.48424002e-07 1.20801811e-04 1.58104481e-03\n",
      " 0.00000000e+00 3.44236992e-03 1.26421084e-03 1.70361499e-03\n",
      " 3.76126483e-03 1.90782198e-04 1.19367810e-03 6.51712963e-04\n",
      " 5.57525943e-06 5.58348892e-03 5.81864894e-03 3.90626106e-03\n",
      " 5.86616483e-04 2.76049956e-06 0.00000000e+00 4.18914125e-04\n",
      " 0.00000000e+00 9.19123584e-04 6.43493449e-03 4.09058103e-05\n",
      " 0.00000000e+00 2.92220843e-03 8.47343168e-04 1.79044213e-03\n",
      " 5.35640373e-03 9.82647096e-04 4.08691035e-04 6.30243979e-04\n",
      " 1.47244069e-03 5.47723237e-04 1.25787376e-03 0.00000000e+00\n",
      " 8.22592710e-05 4.72153387e-04 2.41297651e-06 4.54410598e-04\n",
      " 1.95268675e-03 7.79088006e-04 0.00000000e+00 3.43559051e-03\n",
      " 1.67894843e-05 1.31151801e-03 8.57863444e-05 1.75177100e-04\n",
      " 3.17648897e-04 7.10292043e-04 7.89118467e-04 0.00000000e+00\n",
      " 2.92695319e-05 1.31014387e-03 6.00329860e-04 3.47778396e-04\n",
      " 1.14592746e-03 4.21703252e-03 1.08637166e-03 5.41496818e-03\n",
      " 5.69735038e-04 6.99414836e-05 4.48585295e-03 0.00000000e+00\n",
      " 1.07636271e-03 0.00000000e+00 0.00000000e+00 5.20200320e-04\n",
      " 5.83838332e-05 6.31806876e-04 2.72251847e-03 4.41833657e-03\n",
      " 1.98200285e-04 4.20224842e-04 2.29055426e-04 4.02499274e-04\n",
      " 7.49858151e-04 3.70015422e-04 4.71193803e-04 8.74406704e-04\n",
      " 1.24880518e-03 1.11374707e-04 2.30435673e-04 1.16919861e-03\n",
      " 2.29014364e-03 2.61591458e-04 7.52967998e-04 7.14470686e-04\n",
      " 0.00000000e+00 3.86376534e-04 1.76657183e-03 4.04351488e-03\n",
      " 9.18405374e-04 8.59588608e-04 5.73618469e-04 9.50673567e-04\n",
      " 5.81900964e-05 4.14413113e-05 1.59353047e-03 4.11231150e-04\n",
      " 0.00000000e+00 2.64424742e-06 4.32640786e-04 1.33789581e-04\n",
      " 4.22052377e-03 8.55318573e-04 1.95892321e-03 6.27626918e-04\n",
      " 2.61569018e-03 1.27645531e-03 2.35430229e-04 3.25058787e-04\n",
      " 2.89728597e-04 8.13547386e-04 2.69060661e-04 9.44448973e-04\n",
      " 2.98045969e-04 4.93795205e-04 2.20690679e-04 1.75579038e-04\n",
      " 5.86987204e-04 6.36077515e-05 2.22810109e-03 2.47904854e-05\n",
      " 1.06776865e-03 6.54440069e-04 1.26768290e-03 2.33503120e-03\n",
      " 1.52426976e-06 1.03184593e-03 0.00000000e+00 5.35057257e-04\n",
      " 4.11695798e-04 2.04452621e-03 1.66476710e-04 5.62528989e-04\n",
      " 9.35202493e-04 3.96805689e-05 0.00000000e+00 1.66765164e-03\n",
      " 1.21984862e-03 8.18275188e-04 4.23254308e-03 5.43883160e-03\n",
      " 4.15716642e-03 2.36818158e-03 5.18385394e-03 1.11977270e-03\n",
      " 5.84788599e-03 6.03241657e-03 2.66798821e-03 2.04338302e-03\n",
      " 6.45291864e-05 5.55732523e-04 9.88673511e-04 0.00000000e+00\n",
      " 2.85430494e-03 6.02844438e-04 3.45159525e-04 6.23787227e-04\n",
      " 1.24316846e-03 9.43439866e-04 4.16773786e-04 2.21319385e-03\n",
      " 5.35824412e-03 1.77952064e-03 3.25167806e-04 1.29356746e-03\n",
      " 5.99797135e-04 6.92548312e-03 3.00476917e-03 1.74698682e-03\n",
      " 2.29837078e-03 8.48712926e-04 2.60786494e-04 3.56609481e-04\n",
      " 4.44909566e-04 0.00000000e+00 1.60396738e-03 1.68301845e-03\n",
      " 1.76388039e-03 4.24604763e-04 4.23434185e-03 2.05522807e-03\n",
      " 7.18595451e-04 0.00000000e+00 1.56495719e-03 1.68417291e-07\n",
      " 1.22587491e-03 5.36611708e-04 1.29630397e-03 6.31621496e-04\n",
      " 5.72081760e-05 4.03469912e-04 5.97412272e-03 9.12247678e-05\n",
      " 1.87809100e-03 1.16927447e-04 3.08981633e-03 2.54070646e-04\n",
      " 3.53618388e-04 9.12914738e-04 1.85808079e-03 2.05982062e-03\n",
      " 4.38560137e-03 1.39413422e-03 1.33672266e-03 8.09145384e-06\n",
      " 7.62163054e-03 6.76367825e-03 0.00000000e+00 3.81453926e-05\n",
      " 0.00000000e+00 0.00000000e+00 1.42716508e-03 0.00000000e+00\n",
      " 0.00000000e+00 9.62440400e-05 0.00000000e+00 0.00000000e+00\n",
      " 1.53512625e-04 5.71542019e-05 1.45099295e-04 1.87163125e-03\n",
      " 2.63675727e-03 7.47855162e-04 0.00000000e+00 2.25330435e-05\n",
      " 2.49993963e-05 7.68663026e-04 3.32729324e-03 0.00000000e+00\n",
      " 1.63913195e-04 2.81124806e-03 0.00000000e+00 5.31203557e-04\n",
      " 3.45661893e-03 6.74556372e-03 2.32614805e-04 7.60474119e-04\n",
      " 9.59712578e-04 4.52125134e-04 1.54238470e-03 1.85593400e-03\n",
      " 1.84481029e-03 2.56640578e-03 7.49361242e-04 6.88795016e-04\n",
      " 3.10321725e-04 1.41436219e-03 5.53145182e-04 6.03074013e-04\n",
      " 1.43878422e-03 4.51089617e-06 1.60367467e-03 7.51548898e-04\n",
      " 1.84165502e-03 1.51967198e-03 6.33405810e-04 1.98577349e-04\n",
      " 3.79619816e-04 5.19848120e-05 1.12204963e-04 1.91222234e-03\n",
      " 2.21964745e-03 4.12570971e-04 4.91130044e-04 0.00000000e+00\n",
      " 7.26622802e-04 6.77311349e-05 4.21954808e-04 1.53795566e-04\n",
      " 3.76066989e-05 1.10429539e-04 1.53474743e-04 2.05982149e-03\n",
      " 1.70258173e-03 6.85795454e-04 1.30869336e-03 6.63147854e-04\n",
      " 6.91283501e-05 1.35152408e-03 5.34190383e-05 9.98009495e-04\n",
      " 3.34338273e-05 8.42602393e-04 1.69998404e-06 3.19897907e-04\n",
      " 6.65921363e-03 6.75061822e-04 5.06264843e-05 3.35582192e-07\n",
      " 4.00154685e-04 1.37214644e-03 3.84883730e-03 2.55849303e-03\n",
      " 0.00000000e+00 9.24695088e-04 1.25779632e-03 2.13910648e-03\n",
      " 1.64201750e-03 0.00000000e+00 0.00000000e+00 0.00000000e+00\n",
      " 1.40960832e-05 6.47274936e-04 1.09332134e-07 2.44166706e-05\n",
      " 6.89068965e-04 6.22890811e-04 1.33880218e-03 6.22950047e-04]\n"
     ]
    }
   ],
   "source": [
    "clf = RandomForestClassifier(n_estimators=100)\n",
    "clf = clf.fit(X, y)\n",
    "print(clf.feature_importances_)  \n"
   ]
  },
  {
   "cell_type": "code",
   "execution_count": 20,
   "metadata": {},
   "outputs": [
    {
     "name": "stdout",
     "output_type": "stream",
     "text": [
      "(2200, 2)\n",
      "0.8163636363636364\n",
      "0.8109090909090909\n"
     ]
    }
   ],
   "source": [
    "from sklearn.feature_selection import SelectFromModel\n",
    "\n",
    "model = SelectFromModel(clf, prefit=True, threshold=0.05)\n",
    "X_new = model.transform(X)\n",
    "print(X_new.shape)\n",
    "\n",
    "print(np.mean(cross_val_score(KNeighborsClassifier(), X=X, y=y, cv=cv, scoring='accuracy')))\n",
    "print(np.mean(cross_val_score(KNeighborsClassifier(), X=X_new, y=y, cv=cv, scoring='accuracy')))"
   ]
  },
  {
   "cell_type": "code",
   "execution_count": null,
   "metadata": {},
   "outputs": [],
   "source": [
    "thresholds=clf.feature_importances_\n",
    "\n",
    "l=[]\n",
    "lparval=[]\n",
    "for threshold in thresholds:\n",
    "    model = SelectFromModel(clf, prefit=True, threshold=threshold)\n",
    "    X_new = model.transform(X)\n",
    "    params = {'n_neighbors':list(range(1,30,2)), 'weights':('distance','uniform')}\n",
    "    knc = KNeighborsClassifier()\n",
    "    clf2 = GridSearchCV(knc, param_grid=params,cv=cv,n_jobs=-1)  # If cv is integer, by default is Stratifyed \n",
    "    clf2.fit(X, y)\n",
    "    parval=clf2.best_params_\n",
    "    clf3 = KNeighborsClassifier(n_neighbors=parval['n_neighbors'],weights=parval['weights'])\n",
    "    acc = np.mean(cross_val_score(clf3, X=X_new, y=y, cv=cv, scoring='accuracy'))\n",
    "    l.append(acc)\n",
    "    lparval.append(parval)\n",
    "    \n",
    "plt.scatter(thresholds,l)\n",
    "plt.show()\n",
    "\n",
    "print('Best threshold: ',thresholds[np.argmax(l)])"
   ]
  },
  {
   "cell_type": "code",
   "execution_count": null,
   "metadata": {},
   "outputs": [],
   "source": [
    "parval=lparval[np.argmax(l)]\n",
    "model = SelectFromModel(clf, prefit=True, threshold=thresholds[np.argmax(l)])\n",
    "X_new = model.transform(X)\n",
    "print(X_new.shape)\n",
    "\n",
    "print('Original: ', np.mean(cross_val_score(KNeighborsClassifier(n_neighbors=1), X=X, y=y, cv=cv, scoring='accuracy')))\n",
    "print('With FS: ', np.mean(cross_val_score(KNeighborsClassifier(n_neighbors=parval['n_neighbors'],weights=parval['weights']), X=X_new, y=y, cv=cv, scoring='accuracy')))"
   ]
  },
  {
   "cell_type": "code",
   "execution_count": null,
   "metadata": {},
   "outputs": [],
   "source": []
  }
 ],
 "metadata": {
  "kernelspec": {
   "display_name": "Python 3",
   "language": "python",
   "name": "python3"
  },
  "language_info": {
   "codemirror_mode": {
    "name": "ipython",
    "version": 3
   },
   "file_extension": ".py",
   "mimetype": "text/x-python",
   "name": "python",
   "nbconvert_exporter": "python",
   "pygments_lexer": "ipython3",
   "version": "3.8.5"
  }
 },
 "nbformat": 4,
 "nbformat_minor": 2
}
