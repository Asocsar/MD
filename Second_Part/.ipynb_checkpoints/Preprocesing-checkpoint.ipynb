{
 "cells": [
  {
   "cell_type": "code",
   "execution_count": null,
   "metadata": {},
   "outputs": [],
   "source": [
    "import pandas as pd\n",
    "import re\n",
    "from sklearn.utils import shuffle\n",
    "import random as rand\n",
    "import numpy as np\n",
    "import math"
   ]
  },
  {
   "cell_type": "code",
   "execution_count": null,
   "metadata": {},
   "outputs": [],
   "source": [
    "random = 24"
   ]
  },
  {
   "cell_type": "code",
   "execution_count": null,
   "metadata": {},
   "outputs": [],
   "source": [
    "data = pd.read_csv('games.csv')\n",
    "random = 24\n",
    "data = data[[\"Metacritic\", \"Indie\", \"Presence\", \"Platform\", \n",
    "             \"Memory\", \"RatingsBreakdown\", \"ReleaseDate\", \"Soundtrack\", \n",
    "             \"OriginalCost\", \"DiscountedCost\", \"Controller\",\n",
    "             \"Achievements\", \"Languages\", \"Storage\", \"Tags\"]]"
   ]
  },
  {
   "cell_type": "code",
   "execution_count": null,
   "metadata": {},
   "outputs": [],
   "source": [
    "data.describe(include= 'all')"
   ]
  },
  {
   "cell_type": "code",
   "execution_count": null,
   "metadata": {
    "scrolled": true
   },
   "outputs": [],
   "source": [
    "rand.seed(random)\n",
    "x = [y for y in range(len(data))]\n",
    "x = rand.sample(x, 1000)\n",
    "data = data.iloc[x]"
   ]
  },
  {
   "cell_type": "code",
   "execution_count": null,
   "metadata": {},
   "outputs": [],
   "source": [
    "actions = {k:[] for k in data.columns}\n",
    "actions['Indie'].append(lambda x: x == 1.0) \n",
    "actions['Controller'].append(lambda x == 1.0) \n",
    "actions['Soundtrack'].append(lambda x: x == 1.0)\n",
    "actions['OriginalCost'].append(lambda x: x.replace('$', ''))\n",
    "def replace_MB(x):\n",
    "    x = str(x).lower()\n",
    "    first = re.search(r\"\\d\", x)\n",
    "    if (first == None):\n",
    "        return None\n",
    "    first = first.start()\n",
    "    i = first+1\n",
    "    while(i<len(x) and (x[i].isdigit() or x[i] == '.')):\n",
    "        i = i+1\n",
    "    last = i\n",
    "    while(i<len(x) and x[i:i+2] != \"gb\" and x[i:i+2] != \"mb\"):\n",
    "        i = i+1\n",
    "    if (i == len(x) or x[i:i+2] == \"gb\"):\n",
    "        return(float(x[first:last])*1000)\n",
    "    return(float(x[first:last]))\n",
    "actions['Storage'].append(lambda x: replace_MB(x))\n",
    "actions['Memory'].append(lambda x: replace_MB(x))\n",
    "\n",
    "for name in actions:\n",
    "    for action in actions[name]:\n",
    "        data.loc[:,name] = data[data[name].notna()][name].apply(action)\n",
    "data"
   ]
  },
  {
   "cell_type": "code",
   "execution_count": null,
   "metadata": {},
   "outputs": [],
   "source": [
    "platform = pd.Series(data['Platform']).str.get_dummies(', ')\n",
    "platform.columns\n",
    "data['Platform-Mobile'] = platform[['Android','iOS']].sum(axis = 1).apply(lambda x: x > 0) \n",
    "data['Platform-PC'] = platform[['Apple II','Atari ST', 'Classic Macintosh', 'Commodore / Amiga',  'Linux', 'PC', 'Web', 'macOS']].sum(axis = 1).apply(lambda x: x > 0)  \n",
    "data['Platform-Xbox'] = platform[['Xbox', 'Xbox 360', 'Xbox One']].sum(axis = 1).apply(lambda x: x > 0)  \n",
    "data['Platform-PlayStation'] = platform[['PS Vita', 'PSP', 'PlayStation', 'PlayStation 2', 'PlayStation 3', 'PlayStation 4']].sum(axis = 1).apply(lambda x: x > 0)  \n",
    "data['Platform-Nintendo'] = platform[['Game Boy', 'GameCube', 'Nintendo 3DS', 'Nintendo DS', 'Nintendo Switch', 'Wii', 'Wii U']].sum(axis = 1).apply(lambda x: x > 0) \n",
    "data['Platform-Sega'] = platform[['Dreamcast','Game Gear','Genesis','SEGA Master System', 'SEGA Saturn']].sum(axis = 1).apply(lambda x: x > 0) \n",
    "data"
   ]
  },
  {
   "cell_type": "code",
   "execution_count": null,
   "metadata": {},
   "outputs": [],
   "source": [
    "def RatingsBreakdown(x):\n",
    "    x = x.split(', ')\n",
    "    result = ['NaN', 'NaN', 'NaN', 'NaN']\n",
    "    for i in x:\n",
    "        if i.split(' ')[0] == 'recommended:':\n",
    "            result[0] = i.split(' ')[1]\n",
    "        elif i.split(' ')[0] == 'meh:':\n",
    "            result[1] = i.split(' ')[1]\n",
    "        elif i.split(' ')[0] == 'exceptional:':\n",
    "            result[2] = i.split(' ')[1]\n",
    "        elif i.split(' ')[0] == 'skip:':\n",
    "            result[3] = i.split(' ')[1]\n",
    "    return result  \n",
    "        \n",
    "df_aux = pd.DataFrame(data[data['RatingsBreakdown'].notna()]['RatingsBreakdown'].apply(lambda x: RatingsBreakdown(x)))\n",
    "\n",
    "df_aux = pd.DataFrame(df_aux.RatingsBreakdown.values.tolist(),index = data[data['RatingsBreakdown'].notna()]['RatingsBreakdown'].index, columns=['RatingsBreakdown-Recommended','RatingsBreakdown-Meh','RatingsBreakdown-Exceptional','RatingsBreakdown-Skip'])\n",
    "data[data['RatingsBreakdown'].notna()]['RatingsBreakdown'] = pd.concat([data, df_aux], axis=1, join='inner')\n",
    "data"
   ]
  },
  {
   "cell_type": "code",
   "execution_count": null,
   "metadata": {},
   "outputs": [],
   "source": [
    "del data['RatingsBreakdown']\n",
    "del data['Platform']\n",
    "data"
   ]
  }
 ],
 "metadata": {
  "kernelspec": {
   "display_name": "Python 3",
   "language": "python",
   "name": "python3"
  },
  "language_info": {
   "codemirror_mode": {
    "name": "ipython",
    "version": 3
   },
   "file_extension": ".py",
   "mimetype": "text/x-python",
   "name": "python",
   "nbconvert_exporter": "python",
   "pygments_lexer": "ipython3",
   "version": "3.8.3"
  }
 },
 "nbformat": 4,
 "nbformat_minor": 4
}
