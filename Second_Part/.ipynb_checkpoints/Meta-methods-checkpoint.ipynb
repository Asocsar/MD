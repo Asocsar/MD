{
 "cells": [
  {
   "cell_type": "markdown",
   "metadata": {},
   "source": [
    "# Meta Methods"
   ]
  },
  {
   "cell_type": "code",
   "execution_count": 1,
   "metadata": {},
   "outputs": [],
   "source": [
    "import numpy as np                     # Llibreria matemÃ tica\n",
    "import matplotlib.pyplot as plt        # Per mostrar plots\n",
    "import sklearn                         # Llibreia de DM\n",
    "import sklearn.datasets as ds            # Per carregar mÃ©s facilment el dataset digits\n",
    "import sklearn.model_selection as cv    # Pel Cross-validation\n",
    "import sklearn.neighbors as nb           # Per fer servir el knn\n",
    "from sklearn.model_selection import cross_val_score  \n",
    "import pandas as pd"
   ]
  },
  {
   "cell_type": "code",
   "execution_count": 2,
   "metadata": {},
   "outputs": [],
   "source": [
    "import warnings\n",
    "warnings.filterwarnings(\"ignore\", category=DeprecationWarning)\n",
    "warnings.filterwarnings(\"ignore\", category=UserWarning)"
   ]
  },
  {
   "cell_type": "code",
   "execution_count": 3,
   "metadata": {},
   "outputs": [],
   "source": [
    "data = pd.read_csv('games_clean.csv')"
   ]
  },
  {
   "cell_type": "code",
   "execution_count": 4,
   "metadata": {},
   "outputs": [],
   "source": [
    "column = data.columns.get_loc('Metacritic')\n",
    "y = data.iloc[:,column]\n",
    "X = data.loc[:, data.columns != 'Metacritic']"
   ]
  },
  {
   "cell_type": "code",
   "execution_count": 5,
   "metadata": {},
   "outputs": [],
   "source": [
    "#from sklearn.model_selection import train_test_split\n",
    "#X_train, X_test, y_train, y_test = train_test_split(X, y, test_size=0.3,random_state=109)\n"
   ]
  },
  {
   "cell_type": "markdown",
   "metadata": {},
   "source": [
    "## Normalization\n",
    "Data should be numerical and normalized or standarized before using an SVM."
   ]
  },
  {
   "cell_type": "code",
   "execution_count": 6,
   "metadata": {},
   "outputs": [
    {
     "ename": "NameError",
     "evalue": "name 'X_train' is not defined",
     "output_type": "error",
     "traceback": [
      "\u001b[0;31m---------------------------------------------------------------------------\u001b[0m",
      "\u001b[0;31mNameError\u001b[0m                                 Traceback (most recent call last)",
      "\u001b[0;32m<ipython-input-6-bb9c99ca6581>\u001b[0m in \u001b[0;36m<module>\u001b[0;34m\u001b[0m\n\u001b[1;32m      3\u001b[0m \u001b[0;34m\u001b[0m\u001b[0m\n\u001b[1;32m      4\u001b[0m \u001b[0;34m\u001b[0m\u001b[0m\n\u001b[0;32m----> 5\u001b[0;31m \u001b[0mscaler\u001b[0m \u001b[0;34m=\u001b[0m \u001b[0mMinMaxScaler\u001b[0m\u001b[0;34m(\u001b[0m\u001b[0mfeature_range\u001b[0m\u001b[0;34m=\u001b[0m\u001b[0;34m(\u001b[0m\u001b[0;34m-\u001b[0m\u001b[0;36m1\u001b[0m\u001b[0;34m,\u001b[0m \u001b[0;36m1\u001b[0m\u001b[0;34m)\u001b[0m\u001b[0;34m)\u001b[0m\u001b[0;34m.\u001b[0m\u001b[0mfit\u001b[0m\u001b[0;34m(\u001b[0m\u001b[0mX_train\u001b[0m\u001b[0;34m)\u001b[0m\u001b[0;34m\u001b[0m\u001b[0;34m\u001b[0m\u001b[0m\n\u001b[0m\u001b[1;32m      6\u001b[0m \u001b[0;31m# Apply the normalization trained in training data in both training and test sets\u001b[0m\u001b[0;34m\u001b[0m\u001b[0;34m\u001b[0m\u001b[0;34m\u001b[0m\u001b[0m\n\u001b[1;32m      7\u001b[0m \u001b[0mX_train\u001b[0m \u001b[0;34m=\u001b[0m \u001b[0mscaler\u001b[0m\u001b[0;34m.\u001b[0m\u001b[0mtransform\u001b[0m\u001b[0;34m(\u001b[0m\u001b[0mX_train\u001b[0m\u001b[0;34m)\u001b[0m\u001b[0;34m\u001b[0m\u001b[0;34m\u001b[0m\u001b[0m\n",
      "\u001b[0;31mNameError\u001b[0m: name 'X_train' is not defined"
     ]
    }
   ],
   "source": [
    "from sklearn.preprocessing import StandardScaler\n",
    "from sklearn.preprocessing import MinMaxScaler\n",
    "\n",
    "\n",
    "scaler = MinMaxScaler(feature_range=(-1, 1)).fit(X_train)\n",
    "# Apply the normalization trained in training data in both training and test sets\n",
    "X = scaler.transform(X)"
   ]
  },
  {
   "cell_type": "markdown",
   "metadata": {},
   "source": [
    "## Voting scheme"
   ]
  },
  {
   "cell_type": "code",
   "execution_count": null,
   "metadata": {},
   "outputs": [],
   "source": [
    "from sklearn.model_selection import cross_val_score\n",
    "#from sklearn.linear_model import LogisticRegression\n",
    "from sklearn.naive_bayes import GaussianNB\n",
    "from sklearn.ensemble import VotingClassifier\n",
    "from sklearn.tree import DecisionTreeClassifier\n",
    "from sklearn.neighbors import KNeighborsClassifier\n",
    "from sklearn.model_selection import GridSearchCV\n",
    "\n",
    "cv=20\n",
    "\n",
    "clf1 = GaussianNB()\n",
    "\n",
    "params = {'n_neighbors':list(range(1,30,2)), 'weights':('distance','uniform')}\n",
    "knc = KNeighborsClassifier()\n",
    "clf = GridSearchCV(knc, param_grid=params,cv=cv,n_jobs=-1)  # If cv is integer, by default is Stratifyed \n",
    "clf.fit(X, y)\n",
    "print(\"Best Params fo Knn=\",clf.best_params_, \"Accuracy=\", clf.best_score_)\n",
    "parval=clf.best_params_\n",
    "clf2 = KNeighborsClassifier(n_neighbors=parval['n_neighbors'],weights=parval['weights'])\n",
    "\n",
    "clf3 = DecisionTreeClassifier(criterion='entropy')\n",
    "\n",
    "\n",
    "for clf, label in zip([clf1, clf2, clf3], ['Naive Bayes','Knn (3)', 'Dec. Tree', ]):\n",
    "    scores = cross_val_score(clf, X, y, cv=cv, scoring='accuracy')\n",
    "    print(\"Accuracy: %0.3f [%s]\" % (scores.mean(), label))\n",
    "    "
   ]
  },
  {
   "cell_type": "code",
   "execution_count": null,
   "metadata": {},
   "outputs": [],
   "source": [
    "import warnings\n",
    "warnings.filterwarnings(\"ignore\", category=DeprecationWarning)\n",
    "\n",
    "eclf = VotingClassifier(estimators=[('nb', clf1), ('knn3', clf2), ('dt', clf3)], voting='hard')\n",
    "scores = cross_val_score(eclf, X, y, cv=cv, scoring='accuracy')\n",
    "print(\"Accuracy: %0.3f [%s]\" % (scores.mean() , \"Majority Voting\"))\n"
   ]
  },
  {
   "cell_type": "code",
   "execution_count": null,
   "metadata": {},
   "outputs": [],
   "source": [
    "eclf = VotingClassifier(estimators=[('nb', clf1), ('knn3', clf2), ('dt', clf3)],voting='soft', weights=[2,1,2])\n",
    "scores = cross_val_score(eclf, X, y, cv=cv, scoring='accuracy')\n",
    "print(\"Accuracy: %0.3f [%s]\" % (scores.mean(), \"Weighted Voting\"))"
   ]
  },
  {
   "cell_type": "markdown",
   "metadata": {},
   "source": [
    "## Bagging"
   ]
  },
  {
   "cell_type": "code",
   "execution_count": null,
   "metadata": {},
   "outputs": [],
   "source": [
    "from sklearn.ensemble import BaggingClassifier\n",
    "\n",
    "lb=[]\n",
    "for nest in [1,2,5,10,20,50,100]:\n",
    "    scores = cross_val_score(BaggingClassifier(base_estimator=DecisionTreeClassifier(),n_estimators=nest), X, y, cv=cv, scoring='accuracy')\n",
    "    print(\"Accuracy: %0.3f [%s]\" % (scores.mean(), nest))\n",
    "    lb.append(scores.mean())\n",
    "\n",
    "lb2=[]    \n",
    "print()\n",
    "for nest in [1,2,5,10,20,50,100]:\n",
    "    scores = cross_val_score(BaggingClassifier(base_estimator=DecisionTreeClassifier(),n_estimators=nest,max_features=0.35), X, y, cv=cv, scoring='accuracy')\n",
    "    print(\"Accuracy: %0.3f [%s]\" % (scores.mean(), nest))\n",
    "    lb2.append(scores.mean())"
   ]
  },
  {
   "cell_type": "markdown",
   "metadata": {},
   "source": [
    "## Random Forest"
   ]
  },
  {
   "cell_type": "code",
   "execution_count": null,
   "metadata": {},
   "outputs": [],
   "source": [
    "from sklearn.ensemble import RandomForestClassifier\n",
    "\n",
    "lrf=[]\n",
    "for nest in [1,2,5,10,20,50,100]:\n",
    "    scores = cross_val_score(RandomForestClassifier(n_estimators=nest,n_jobs=-1), X, y, cv=cv, scoring='accuracy', n_jobs=-1)\n",
    "    print(\"Accuracy: %0.3f [%s]\" % (scores.mean(), nest))\n",
    "    lrf.append(scores.mean())"
   ]
  },
  {
   "cell_type": "code",
   "execution_count": null,
   "metadata": {},
   "outputs": [],
   "source": [
    "from sklearn.ensemble import ExtraTreesClassifier\n",
    "\n",
    "lext=[]\n",
    "for nest in [1,2,5,10,20,50,100]:\n",
    "    scores = cross_val_score(ExtraTreesClassifier(n_estimators=nest,n_jobs=-1), X, y, cv=cv, scoring='accuracy', n_jobs=-1)\n",
    "    print(\"Accuracy: %0.3f [%s]\" % (scores.mean(), nest))\n",
    "    lext.append(scores.mean())"
   ]
  },
  {
   "cell_type": "markdown",
   "metadata": {},
   "source": [
    "## Boosting"
   ]
  },
  {
   "cell_type": "code",
   "execution_count": null,
   "metadata": {},
   "outputs": [],
   "source": [
    "from sklearn.ensemble import AdaBoostClassifier\n",
    "\n",
    "lboo=[]\n",
    "for nest in [1,2,5,10,20,50,100]:\n",
    "    scores = cross_val_score(AdaBoostClassifier(n_estimators=nest), X, y, cv=cv, scoring='accuracy')\n",
    "    print(\"Accuracy: %0.3f [%s]\" % (scores.mean(), nest))\n",
    "    lboo.append(scores.mean())"
   ]
  },
  {
   "cell_type": "code",
   "execution_count": null,
   "metadata": {},
   "outputs": [],
   "source": [
    "from sklearn.ensemble import AdaBoostClassifier\n",
    "\n",
    "lboodt=[]\n",
    "for nest in [1,2,5,10,20,50,100]:\n",
    "    scores = cross_val_score(AdaBoostClassifier(DecisionTreeClassifier(max_depth=5),n_estimators=nest), X, y, cv=cv, scoring='accuracy')\n",
    "    print(\"Accuracy: %0.3f [%s]\" % (scores.mean(), nest))\n",
    "    lboodt.append(scores.mean())"
   ]
  },
  {
   "cell_type": "code",
   "execution_count": null,
   "metadata": {},
   "outputs": [],
   "source": [
    "from sklearn.ensemble import GradientBoostingClassifier\n",
    "\n",
    "lgbboo=[]\n",
    "for nest in [1,2,5,10,20,50,100]:\n",
    "    scores = cross_val_score(GradientBoostingClassifier(n_estimators=nest), X, y, cv=cv, scoring='accuracy')\n",
    "    print(\"Accuracy: %0.3f [%s]\" % (scores.mean(), nest))\n",
    "    lgbboo.append(scores.mean())"
   ]
  },
  {
   "cell_type": "code",
   "execution_count": null,
   "metadata": {},
   "outputs": [],
   "source": [
    "import  matplotlib.pyplot as plt\n",
    "\n",
    "plt.figure(figsize=(12,6))\n",
    "plt.plot([1,2,5,10,20,50,100],lb,label=\"Bagging DT\")\n",
    "plt.plot([1,2,5,10,20,50,100],lb2,label=\"Bagging DT forced variance\")\n",
    "plt.plot([1,2,5,10,20,50,100],lrf,label=\"Random Forest\")\n",
    "plt.plot([1,2,5,10,20,50,100],lext,label=\"Extra Trees\")\n",
    "plt.plot([1,2,5,10,20,50,100],lboo,label=\"AdaBoost Dec.Stumps\")\n",
    "plt.plot([1,2,5,10,20,50,100],lboodt,label=\"AdaBoost DT\")\n",
    "plt.plot([1,2,5,10,20,50,100],lgbboo,label=\"Gradient Boosting\")\n",
    "plt.legend(loc='lower right')\n",
    "\n",
    "plt.show()"
   ]
  },
  {
   "cell_type": "code",
   "execution_count": null,
   "metadata": {},
   "outputs": [],
   "source": [
    "plt.figure(figsize=(12,6))\n",
    "plt.plot([1,2,5,10,20,50,100],lb,label=\"Bagging DT\")\n",
    "plt.plot([1,2,5,10,20,50,100],lb2,label=\"Bagging DT forced variance\")\n",
    "plt.plot([1,2,5,10,20,50,100],lrf,label=\"Random Forest\")\n",
    "plt.plot([1,2,5,10,20,50,100],lext,label=\"Extra Trees\")\n",
    "plt.plot([1,2,5,10,20,50,100],lboo,label=\"AdaBoost Dec.Stumps\")\n",
    "plt.plot([1,2,5,10,20,50,100],lboodt,label=\"AdaBoost DT\")\n",
    "plt.plot([1,2,5,10,20,50,100],lgbboo,label=\"Gradient Boosting\")\n",
    "plt.legend(loc='lower right')\n",
    "plt.xlim(10,200)\n",
    "plt.ylim(0.90,0.96)\n",
    "plt.show()"
   ]
  },
  {
   "cell_type": "markdown",
   "metadata": {},
   "source": [
    "## Feature Selection with Forests of trees"
   ]
  },
  {
   "cell_type": "code",
   "execution_count": null,
   "metadata": {},
   "outputs": [],
   "source": [
    "clf = RandomForestClassifier(n_estimators=100)\n",
    "clf = clf.fit(X, y)\n",
    "print(clf.feature_importances_)  \n"
   ]
  },
  {
   "cell_type": "code",
   "execution_count": null,
   "metadata": {},
   "outputs": [],
   "source": [
    "from sklearn.feature_selection import SelectFromModel\n",
    "\n",
    "model = SelectFromModel(clf, prefit=True, threshold=0.05)\n",
    "X_new = model.transform(X)\n",
    "print(X_new.shape)\n",
    "\n",
    "print(np.mean(cross_val_score(KNeighborsClassifier(), X=X, y=y, cv=cv, scoring='accuracy')))\n",
    "print(np.mean(cross_val_score(KNeighborsClassifier(), X=X_new, y=y, cv=cv, scoring='accuracy')))"
   ]
  },
  {
   "cell_type": "code",
   "execution_count": null,
   "metadata": {},
   "outputs": [],
   "source": [
    "thresholds=clf.feature_importances_\n",
    "\n",
    "l=[]\n",
    "lparval=[]\n",
    "for threshold in thresholds:\n",
    "    model = SelectFromModel(clf, prefit=True, threshold=threshold)\n",
    "    X_new = model.transform(X)\n",
    "    params = {'n_neighbors':list(range(1,30,2)), 'weights':('distance','uniform')}\n",
    "    knc = KNeighborsClassifier()\n",
    "    clf2 = GridSearchCV(knc, param_grid=params,cv=cv,n_jobs=-1)  # If cv is integer, by default is Stratifyed \n",
    "    clf2.fit(X, y)\n",
    "    parval=clf2.best_params_\n",
    "    clf3 = KNeighborsClassifier(n_neighbors=parval['n_neighbors'],weights=parval['weights'])\n",
    "    acc = np.mean(cross_val_score(clf3, X=X_new, y=y, cv=cv, scoring='accuracy'))\n",
    "    l.append(acc)\n",
    "    lparval.append(parval)\n",
    "    \n",
    "plt.scatter(thresholds,l)\n",
    "plt.show()\n",
    "\n",
    "print('Best threshold: ',thresholds[np.argmax(l)])"
   ]
  },
  {
   "cell_type": "code",
   "execution_count": null,
   "metadata": {},
   "outputs": [],
   "source": [
    "parval=lparval[np.argmax(l)]\n",
    "model = SelectFromModel(clf, prefit=True, threshold=thresholds[np.argmax(l)])\n",
    "X_new = model.transform(X)\n",
    "print(X_new.shape)\n",
    "\n",
    "print('Original: ', np.mean(cross_val_score(KNeighborsClassifier(n_neighbors=1), X=X, y=y, cv=cv, scoring='accuracy')))\n",
    "print('With FS: ', np.mean(cross_val_score(KNeighborsClassifier(n_neighbors=parval['n_neighbors'],weights=parval['weights']), X=X_new, y=y, cv=cv, scoring='accuracy')))"
   ]
  },
  {
   "cell_type": "code",
   "execution_count": null,
   "metadata": {},
   "outputs": [],
   "source": []
  }
 ],
 "metadata": {
  "kernelspec": {
   "display_name": "Python 3",
   "language": "python",
   "name": "python3"
  },
  "language_info": {
   "codemirror_mode": {
    "name": "ipython",
    "version": 3
   },
   "file_extension": ".py",
   "mimetype": "text/x-python",
   "name": "python",
   "nbconvert_exporter": "python",
   "pygments_lexer": "ipython3",
   "version": "3.8.5"
  }
 },
 "nbformat": 4,
 "nbformat_minor": 2
}
