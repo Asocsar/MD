{
 "cells": [
  {
   "cell_type": "code",
   "execution_count": null,
   "metadata": {},
   "outputs": [],
   "source": [
    "from sklearn.tree import DecisionTreeClassifier as DTC\n",
    "from sklearn import tree\n",
    "from sklearn.preprocessing import LabelEncoder as LB\n",
    "import matplotlib.pyplot as plt\n",
    "import pandas as pd\n",
    "from sklearn.model_selection import train_test_split\n",
    "from sklearn.metrics import accuracy_score, mean_squared_error\n",
    "from sklearn.model_selection import KFold, cross_val_score, LeaveOneOut, cross_validate\n",
    "import numpy as np\n",
    "import datetime\n",
    "import graphviz"
   ]
  },
  {
   "cell_type": "code",
   "execution_count": null,
   "metadata": {},
   "outputs": [],
   "source": [
    "df = pd.read_csv('games_clean.csv')\n",
    "df"
   ]
  },
  {
   "cell_type": "code",
   "execution_count": null,
   "metadata": {},
   "outputs": [],
   "source": [
    "\n",
    "df.drop(['RatingsBreakdown-Recommended', 'RatingsBreakdown-Meh', 'RatingsBreakdown-Exceptional', 'RatingsBreakdown-Skip', 'Presence'], inplace=True, axis=1)\n",
    "\n",
    "LE = LB()\n",
    "class_names = df['Metacritic'].unique()\n",
    "\n",
    "df.loc[:, 'Metacritic'] = LE.fit_transform(df['Metacritic'])\n",
    "\n",
    "X = df.loc[:, df.columns != 'Metacritic']\n",
    "Y = df['Metacritic']\n",
    "X_train, X_test, y_train, y_test = train_test_split(X, Y, test_size=0.3,random_state=404)"
   ]
  },
  {
   "cell_type": "code",
   "execution_count": null,
   "metadata": {},
   "outputs": [],
   "source": [
    "# See Tree with max depth\n",
    "fig = plt.figure(figsize=(40,40), dpi=400)\n",
    "_ = tree.plot_tree(DTC(criterion='entropy').fit(X_train, y_train),\n",
    "               feature_names= df.loc[:, df.columns != 'Metacritic'].columns,\n",
    "               class_names= class_names,\n",
    "               filled=True)"
   ]
  },
  {
   "cell_type": "code",
   "execution_count": null,
   "metadata": {},
   "outputs": [],
   "source": [
    "from sklearn.model_selection import learning_curve\n",
    "from sklearn.model_selection import ShuffleSplit\n",
    "\n",
    "\n",
    "def plot_learning_curve(estimator, title, X, y, axes=None, ylim=None, cv=None,\n",
    "                        n_jobs=None, train_sizes=np.linspace(.1, 1.0, 5)):\n",
    "\n",
    "    if axes is None:\n",
    "        _, axes = plt.subplots(1, 3, figsize=(20, 5))\n",
    "\n",
    "    axes[0].set_title(title)\n",
    "    if ylim is not None:\n",
    "        axes[0].set_ylim(*ylim)\n",
    "    axes[0].set_xlabel(\"Training examples\")\n",
    "    axes[0].set_ylabel(\"Score\")\n",
    "\n",
    "    train_sizes, train_scores, test_scores, fit_times, _ = \\\n",
    "        learning_curve(estimator, X, y, cv=cv, n_jobs=n_jobs,\n",
    "                       train_sizes=train_sizes,\n",
    "                       return_times=True)\n",
    "    train_scores_mean = np.mean(train_scores, axis=1)\n",
    "    train_scores_std = np.std(train_scores, axis=1)\n",
    "    test_scores_mean = np.mean(test_scores, axis=1)\n",
    "    test_scores_std = np.std(test_scores, axis=1)\n",
    "    fit_times_mean = np.mean(fit_times, axis=1)\n",
    "    fit_times_std = np.std(fit_times, axis=1)\n",
    "\n",
    "    # Plot learning curve\n",
    "    axes[0].grid()\n",
    "    axes[0].fill_between(train_sizes, train_scores_mean - train_scores_std,\n",
    "                         train_scores_mean + train_scores_std, alpha=0.1,\n",
    "                         color=\"r\")\n",
    "    axes[0].fill_between(train_sizes, test_scores_mean - test_scores_std,\n",
    "                         test_scores_mean + test_scores_std, alpha=0.1,\n",
    "                         color=\"g\")\n",
    "    axes[0].plot(train_sizes, train_scores_mean, 'o-', color=\"r\",\n",
    "                 label=\"Training score\")\n",
    "    axes[0].plot(train_sizes, test_scores_mean, 'o-', color=\"g\",\n",
    "                 label=\"Cross-validation score\")\n",
    "    axes[0].legend(loc=\"best\")\n",
    "\n",
    "    # Plot n_samples vs fit_times\n",
    "    axes[1].grid()\n",
    "    axes[1].plot(train_sizes, fit_times_mean, 'o-')\n",
    "    axes[1].fill_between(train_sizes, fit_times_mean - fit_times_std,\n",
    "                         fit_times_mean + fit_times_std, alpha=0.1)\n",
    "    axes[1].set_xlabel(\"Training examples\")\n",
    "    axes[1].set_ylabel(\"fit_times\")\n",
    "    axes[1].set_title(\"Scalability of the model\")\n",
    "\n",
    "    # Plot fit_time vs score\n",
    "    axes[2].grid()\n",
    "    axes[2].plot(fit_times_mean, test_scores_mean, 'o-')\n",
    "    axes[2].fill_between(fit_times_mean, test_scores_mean - test_scores_std,\n",
    "                         test_scores_mean + test_scores_std, alpha=0.1)\n",
    "    axes[2].set_xlabel(\"fit_times\")\n",
    "    axes[2].set_ylabel(\"Score\")\n",
    "    axes[2].set_title(\"Performance of the model\")\n",
    "\n",
    "    return plt\n",
    "\n",
    "title = 'Accuracy'\n",
    "cv = ShuffleSplit(n_splits=10, test_size=0.2, random_state=0)\n",
    "plot_learning_curve(DTC(), title,  X, Y, ylim=(0.4, 1.01), n_jobs=8, cv=cv)"
   ]
  },
  {
   "cell_type": "code",
   "execution_count": null,
   "metadata": {},
   "outputs": [],
   "source": [
    "####### Kfold cross-validation\n",
    "indexi = 0\n",
    "bestmean = 0\n",
    "betterk = 0\n",
    "DTCestimator = DTC()\n",
    "for k in range(20, 101, 20):\n",
    "    cv = KFold(n_splits=k, shuffle=False)\n",
    "    for i in range(5,14):\n",
    "        #a = datetime.datetime.now()\n",
    "        cv_scores = cross_validate(DTC(max_depth=i, criterion='entropy'), X=X_train,y=y_train, cv=cv, scoring='accuracy', return_estimator=True, n_jobs=16)  \n",
    "        meannp = np.mean([sc for i,sc in enumerate(cv_scores['test_score'])])\n",
    "        if bestmean < meannp:\n",
    "            bestmean = meannp\n",
    "            indexi = i\n",
    "            betterk = k\n",
    "            DTCestimator = cv_scores['estimator'][max([(sc,i) for i,sc in enumerate(cv_scores['test_score'])])[1]]\n",
    "\n",
    "print('best depth is: ', i, ' having the best score of: ', bestmean, ' and the num of folders is: ', betterk)\n",
    "print('Accuracy in test', '--->', accuracy_score(y_test,DTCestimator.predict(X_test)))\n",
    "\n",
    "indexi = 0\n",
    "bestmean = 0\n",
    "betterk = 0\n",
    "for k in range(20, 101, 20):\n",
    "    cv = KFold(n_splits=k, shuffle=False)\n",
    "    for i in range(5,14):\n",
    "        #a = datetime.datetime.now()\n",
    "        cv_scores = cross_validate(DTC(max_depth=i, criterion='entropy'), X=X,y=Y, cv=cv, scoring='accuracy', return_estimator=True, n_jobs=16)  \n",
    "        meannp = np.mean([sc for i,sc in enumerate(cv_scores['test_score'])])\n",
    "        if bestmean < meannp:\n",
    "            bestmean = meannp\n",
    "            indexi = i\n",
    "            betterk = k\n",
    "            DTCestimator = cv_scores['estimator'][max([(sc,i) for i,sc in enumerate(cv_scores['test_score'])])[1]]\n",
    "\n",
    "print('best depth is: ', i, ' having the best score of: ', bestmean, ' and the num of folders is: ', betterk)            \n",
    "print('Accuracy within the whole dataset', '--->', accuracy_score(Y,DTCestimator.predict(X)))\n",
    "print('')"
   ]
  },
  {
   "cell_type": "code",
   "execution_count": null,
   "metadata": {
    "tags": []
   },
   "outputs": [],
   "source": [
    "####### cross-validation\n",
    "\n",
    "maxDep = {}\n",
    "for i in range(5,14):\n",
    "    DT = DTC(max_depth=i, criterion='entropy')\n",
    "    DTCfitted = DT.fit(X_train, y_train)\n",
    "    maxDep[i] = (accuracy_score(DTCfitted.predict(X_test), y_test), DTCfitted) \n",
    "    \n",
    "K, A, TR = [(K,A,TR) for (K,(A,TR)) in sorted(maxDep.items(), key=lambda x: x[1][0], reverse=True)][0]\n",
    "fig = plt.figure(figsize=(40,40), dpi=400)\n",
    "_ = tree.plot_tree(TR,\n",
    "               feature_names= df.loc[:, df.columns != 'Metacritic'].columns,\n",
    "               class_names= class_names,\n",
    "               filled=True)\n",
    "\n",
    "print('depth is: ', K, ' with a score of: ', A)"
   ]
  },
  {
   "cell_type": "code",
   "execution_count": null,
   "metadata": {},
   "outputs": [],
   "source": [
    "dot_data = tree.export_graphviz(TR, out_file=None, feature_names=df.loc[:, df.columns != 'Metacritic'].columns, class_names=class_names, filled=True, rounded=True, special_characters=True)\n",
    "graph = graphviz.Source(dot_data)\n",
    "graph"
   ]
  }
 ],
 "metadata": {
  "kernelspec": {
   "name": "python3",
   "display_name": "Python 3.8.5 64-bit (conda)",
   "metadata": {
    "interpreter": {
     "hash": "fb698bdeab99cfbf9e31cab566d99a06e057f2dec3dcc8097ebabb329e860e16"
    }
   }
  },
  "language_info": {
   "codemirror_mode": {
    "name": "ipython",
    "version": 3
   },
   "file_extension": ".py",
   "mimetype": "text/x-python",
   "name": "python",
   "nbconvert_exporter": "python",
   "pygments_lexer": "ipython3",
   "version": "3.8.5-final"
  }
 },
 "nbformat": 4,
 "nbformat_minor": 2
}