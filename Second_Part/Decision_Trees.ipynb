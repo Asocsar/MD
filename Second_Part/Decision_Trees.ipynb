{
 "cells": [
  {
   "cell_type": "code",
   "execution_count": 1,
   "metadata": {},
   "outputs": [],
   "source": [
    "from sklearn.tree import DecisionTreeClassifier as DTC\n",
    "from sklearn import tree\n",
    "from sklearn.preprocessing import LabelEncoder as LB\n",
    "import matplotlib.pyplot as plt\n",
    "import pandas as pd\n",
    "from sklearn.model_selection import train_test_split\n",
    "from sklearn.metrics import accuracy_score, mean_squared_error\n",
    "from sklearn.model_selection import KFold, cross_val_score, LeaveOneOut, cross_validate\n",
    "import numpy as np\n",
    "import datetime\n",
    "#import graphviz"
   ]
  },
  {
   "cell_type": "code",
   "execution_count": null,
   "metadata": {},
   "outputs": [],
   "source": [
    "df = pd.read_csv('games_clean.csv')\n",
    "df"
   ]
  },
  {
   "cell_type": "code",
   "execution_count": null,
   "metadata": {},
   "outputs": [],
   "source": [
    "\n",
    "df.drop(['RatingsBreakdown-Recommended', 'RatingsBreakdown-Meh', 'RatingsBreakdown-Exceptional', 'RatingsBreakdown-Skip', 'Presence'], inplace=True, axis=1)\n",
    "\n",
    "LE = LB()\n",
    "class_names = df['Metacritic'].unique()\n",
    "\n",
    "df.loc[:, 'Metacritic'] = LE.fit_transform(df['Metacritic'])\n",
    "\n",
    "X = df.loc[:, df.columns != 'Metacritic']\n",
    "Y = df['Metacritic']\n",
    "X_train, X_test, y_train, y_test = train_test_split(X, Y, test_size=0.3,random_state=404)"
   ]
  },
  {
   "cell_type": "code",
   "execution_count": null,
   "metadata": {},
   "outputs": [],
   "source": [
    "# See Tree with max depth\n",
    "fig = plt.figure(figsize=(40,40), dpi=400)\n",
    "_ = tree.plot_tree(DTC(criterion='entropy').fit(X_train, y_train),\n",
    "               feature_names= df.loc[:, df.columns != 'Metacritic'].columns,\n",
    "               class_names= class_names,\n",
    "               filled=True)"
   ]
  },
  {
   "cell_type": "code",
   "execution_count": null,
   "metadata": {},
   "outputs": [],
   "source": [
    "####### Kfold cross-validation\n",
    "indexi = 0\n",
    "bestmean = 0\n",
    "betterk = 0\n",
    "DTCestimator = DTC()\n",
    "for k in range(20, 101, 20):\n",
    "    cv = KFold(n_splits=k, shuffle=False)\n",
    "    for i in range(5,14):\n",
    "        #a = datetime.datetime.now()\n",
    "        cv_scores = cross_validate(DTC(max_depth=i, criterion='entropy'), X=X_train,y=y_train, cv=cv, scoring='accuracy', return_estimator=True)  \n",
    "        meannp = np.mean([sc for i,sc in enumerate(cv_scores['test_score'])])\n",
    "        if bestmean < meannp:\n",
    "            bestmean = meannp\n",
    "            indexi = i\n",
    "            betterk = k\n",
    "            DTCestimator = cv_scores['estimator'][max([(sc,i) for i,sc in enumerate(cv_scores['test_score'])])[1]]\n",
    "\n",
    "print('best depth is: ', i, ' having the best score of: ', bestmean, ' and the num of folders is: ', betterk)\n",
    "print('Accuracy in test', '--->', accuracy_score(y_test,DTCestimator.predict(X_test)))\n",
    "\n",
    "indexi = 0\n",
    "bestmean = 0\n",
    "betterk = 0\n",
    "for k in range(20, 101, 20):\n",
    "    cv = KFold(n_splits=k, shuffle=False)\n",
    "    for i in range(5,14):\n",
    "        #a = datetime.datetime.now()\n",
    "        cv_scores = cross_validate(DTC(max_depth=i, criterion='entropy'), X=X,y=Y, cv=cv, scoring='accuracy', return_estimator=True)  \n",
    "        meannp = np.mean([sc for i,sc in enumerate(cv_scores['test_score'])])\n",
    "        if bestmean < meannp:\n",
    "            bestmean = meannp\n",
    "            indexi = i\n",
    "            betterk = k\n",
    "            DTCestimator = cv_scores['estimator'][max([(sc,i) for i,sc in enumerate(cv_scores['test_score'])])[1]]\n",
    "\n",
    "print('best depth is: ', i, ' having the best score of: ', bestmean, ' and the num of folders is: ', betterk)            \n",
    "print('Accuracy within the whole dataset', '--->', accuracy_score(Y,DTCestimator.predict(X)))\n",
    "print('')\n",
    "#b = datetime.datetime.now() \n",
    "#print(b-a)"
   ]
  },
  {
   "cell_type": "code",
   "execution_count": null,
   "metadata": {
    "tags": []
   },
   "outputs": [],
   "source": [
    "####### cross-validation\n",
    "\n",
    "maxDep = {}\n",
    "for i in range(5,14):\n",
    "    DT = DTC(max_depth=i, criterion='entropy')\n",
    "    DTCfitted = DT.fit(X_train, y_train)\n",
    "    maxDep[i] = (accuracy_score(DTCfitted.predict(X_test), y_test), DTCfitted) \n",
    "    \n",
    "K, A, TR = [(K,A,TR) for (K,(A,TR)) in sorted(maxDep.items(), key=lambda x: x[1][0], reverse=True)][0]\n",
    "fig = plt.figure(figsize=(40,40), dpi=400)\n",
    "_ = tree.plot_tree(TR,\n",
    "               feature_names= df.loc[:, df.columns != 'Metacritic'].columns,\n",
    "               class_names= class_names,\n",
    "               filled=True)\n",
    "\n",
    "print('depth is: ', K, ' with a score of: ', A)"
   ]
  },
  {
   "cell_type": "code",
   "execution_count": null,
   "metadata": {},
   "outputs": [],
   "source": [
    "dot_data = tree.export_graphviz(TR, out_file=None, feature_names=df.loc[:, df.columns != 'Metacritic'].columns, class_names=class_names, filled=True, rounded=True, special_characters=True)\n",
    "graph = graphviz.Source(dot_data)\n",
    "graph"
   ]
  },
  {
   "cell_type": "code",
   "execution_count": null,
   "metadata": {},
   "outputs": [],
   "source": [
    "import numpy as np\n",
    "import matplotlib.pyplot as plt\n",
    "\n",
    "from sklearn.datasets import load_iris\n",
    "from sklearn.tree import DecisionTreeClassifier, plot_tree\n",
    "\n",
    "# Parameters\n",
    "n_classes = 4\n",
    "plot_colors = \"rybg\"\n",
    "plot_step = 0.02\n",
    "\n",
    "alpha = 0.1\n",
    "all_comb = []\n",
    "for x in range(int(X.shape[1]-X.shape[1]*alpha)):\n",
    "    all_comb += [[x,y+1] for y in range(x,X.shape[1]-1)]\n",
    "\n",
    "\n",
    "for pairidx, pair in enumerate(all_comb):\n",
    "    # We only take the two corresponding features\n",
    "    pair_aux = [X.columns[pair[0]], X.columns[pair[1]]]\n",
    "    X_aux = X.loc[:, pair_aux]\n",
    "    y_aux = Y\n",
    "\n",
    "    # Train\n",
    "    DTCfitted = DecisionTreeClassifier().fit(X, y_aux)\n",
    "\n",
    "    # Plot the decision boundary\n",
    "    plt.subplot(2, 3, pairidx + 1)\n",
    "\n",
    " \n",
    "\n",
    "    x_min, x_max = X_aux.loc[:, pair_aux[0]].min() - 1, X_aux.loc[:, pair_aux[0]].max() + 1\n",
    "    y_min, y_max = X_aux.loc[:, pair_aux[1]].min() - 1, X_aux.loc[:, pair_aux[1]].max() + 1\n",
    "    xx, yy = np.meshgrid(np.arange(x_min, x_max, plot_step),\n",
    "                         np.arange(y_min, y_max, plot_step))\n",
    "    plt.tight_layout(h_pad=0.5, w_pad=0.5, pad=2.5)\n",
    "\n",
    "    Z = DTCfitted.predict(np.c_[xx.ravel(), yy.ravel()])\n",
    "    Z = Z.reshape(xx.shape)\n",
    "    cs = plt.contourf(xx, yy, Z, cmap=plt.cm.RdYlBu)\n",
    "\n",
    "    plt.xlabel(pair_aux[0])\n",
    "    plt.ylabel(pair_aux[0])\n",
    "\n",
    "\n",
    "    # Plot the training points\n",
    "    for i, color in zip(range(n_classes), plot_colors):\n",
    "        idx = np.where(y_aux == i)\n",
    "        plt.scatter(X_aux[idx, 0], X_aux[idx, 1], c=color, label=class_names[i],\n",
    "                    cmap=plt.cm.RdYlBu, edgecolor='black', s=15)\n",
    "\n",
    "plt.suptitle(\"Decision surface of a decision tree using paired features\")\n",
    "plt.legend(loc='lower right', borderpad=0, handletextpad=0)\n",
    "plt.axis(\"tight\")\n",
    "\n",
    "plt.figure()\n",
    "DTCfitted = DecisionTreeClassifier().fit(X, Y)\n",
    "plot_tree(DTCfitted, filled=True)\n",
    "plt.show()"
   ]
  }
 ],
 "metadata": {
  "kernelspec": {
   "display_name": "Python 3",
   "language": "python",
   "name": "python3"
  },
  "language_info": {
   "codemirror_mode": {
    "name": "ipython",
    "version": 3
   },
   "file_extension": ".py",
   "mimetype": "text/x-python",
   "name": "python",
   "nbconvert_exporter": "python",
   "pygments_lexer": "ipython3",
   "version": "3.8.5"
  }
 },
 "nbformat": 4,
 "nbformat_minor": 2
}
